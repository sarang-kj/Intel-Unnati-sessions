{
 "cells": [
  {
   "cell_type": "code",
   "execution_count": 1,
   "metadata": {
    "id": "aNUItRuoItEj"
   },
   "outputs": [],
   "source": [
    "import numpy as np\n",
    "import pandas as pd\n",
    "import seaborn as sns\n",
    "import matplotlib.pyplot as plt\n",
    "%matplotlib inline\n",
    "import warnings\n",
    "warnings.filterwarnings('ignore')"
   ]
  },
  {
   "cell_type": "markdown",
   "metadata": {
    "id": "-K83OJV2HDBY"
   },
   "source": [
    "## Loading Data"
   ]
  },
  {
   "cell_type": "code",
   "execution_count": 3,
   "metadata": {},
   "outputs": [
    {
     "name": "stdout",
     "output_type": "stream",
     "text": [
      "Defaulting to user installation because normal site-packages is not writeable\n",
      "Collecting seaborn\n",
      "  Downloading seaborn-0.13.2-py3-none-any.whl (294 kB)\n",
      "\u001b[2K     \u001b[90m━━━━━━━━━━━━━━━━━━━━━━━━━━━━━━━━━━━━━━━\u001b[0m \u001b[32m294.9/294.9 kB\u001b[0m \u001b[31m2.5 MB/s\u001b[0m eta \u001b[36m0:00:00\u001b[0ma \u001b[36m0:00:01\u001b[0m\n",
      "\u001b[?25hRequirement already satisfied: numpy!=1.24.0,>=1.20 in /glob/development-tools/versions/oneapi/2023.2.0.1/oneapi/intelpython/python3.9/lib/python3.9/site-packages (from seaborn) (1.24.3)\n",
      "Requirement already satisfied: pandas>=1.2 in /home/u213281/.local/lib/python3.9/site-packages (from seaborn) (2.0.0)\n",
      "Requirement already satisfied: matplotlib!=3.6.1,>=3.4 in /glob/development-tools/versions/oneapi/2023.2.0.1/oneapi/intelpython/python3.9/lib/python3.9/site-packages (from seaborn) (3.7.2)\n",
      "Requirement already satisfied: contourpy>=1.0.1 in /glob/development-tools/versions/oneapi/2023.2.0.1/oneapi/intelpython/python3.9/lib/python3.9/site-packages (from matplotlib!=3.6.1,>=3.4->seaborn) (1.1.0)\n",
      "Requirement already satisfied: cycler>=0.10 in /glob/development-tools/versions/oneapi/2023.2.0.1/oneapi/intelpython/python3.9/lib/python3.9/site-packages (from matplotlib!=3.6.1,>=3.4->seaborn) (0.11.0)\n",
      "Requirement already satisfied: fonttools>=4.22.0 in /glob/development-tools/versions/oneapi/2023.2.0.1/oneapi/intelpython/python3.9/lib/python3.9/site-packages (from matplotlib!=3.6.1,>=3.4->seaborn) (4.42.0)\n",
      "Requirement already satisfied: kiwisolver>=1.0.1 in /glob/development-tools/versions/oneapi/2023.2.0.1/oneapi/intelpython/python3.9/lib/python3.9/site-packages (from matplotlib!=3.6.1,>=3.4->seaborn) (1.4.4)\n",
      "Requirement already satisfied: packaging>=20.0 in /glob/development-tools/versions/oneapi/2023.2.0.1/oneapi/intelpython/python3.9/lib/python3.9/site-packages (from matplotlib!=3.6.1,>=3.4->seaborn) (23.1)\n",
      "Requirement already satisfied: pillow>=6.2.0 in /glob/development-tools/versions/oneapi/2023.2.0.1/oneapi/intelpython/python3.9/lib/python3.9/site-packages (from matplotlib!=3.6.1,>=3.4->seaborn) (10.0.0)\n",
      "Requirement already satisfied: pyparsing<3.1,>=2.3.1 in /glob/development-tools/versions/oneapi/2023.2.0.1/oneapi/intelpython/python3.9/lib/python3.9/site-packages (from matplotlib!=3.6.1,>=3.4->seaborn) (3.0.9)\n",
      "Requirement already satisfied: python-dateutil>=2.7 in /glob/development-tools/versions/oneapi/2023.2.0.1/oneapi/intelpython/python3.9/lib/python3.9/site-packages (from matplotlib!=3.6.1,>=3.4->seaborn) (2.8.2)\n",
      "Requirement already satisfied: importlib-resources>=3.2.0 in /glob/development-tools/versions/oneapi/2023.2.0.1/oneapi/intelpython/python3.9/lib/python3.9/site-packages (from matplotlib!=3.6.1,>=3.4->seaborn) (6.0.1)\n",
      "Requirement already satisfied: pytz>=2020.1 in /glob/development-tools/versions/oneapi/2023.2.0.1/oneapi/intelpython/python3.9/lib/python3.9/site-packages (from pandas>=1.2->seaborn) (2023.3)\n",
      "Requirement already satisfied: tzdata>=2022.1 in /home/u213281/.local/lib/python3.9/site-packages (from pandas>=1.2->seaborn) (2024.1)\n",
      "Requirement already satisfied: zipp>=3.1.0 in /glob/development-tools/versions/oneapi/2023.2.0.1/oneapi/intelpython/python3.9/lib/python3.9/site-packages (from importlib-resources>=3.2.0->matplotlib!=3.6.1,>=3.4->seaborn) (3.16.2)\n",
      "Requirement already satisfied: six>=1.5 in /glob/development-tools/versions/oneapi/2023.2.0.1/oneapi/intelpython/python3.9/lib/python3.9/site-packages (from python-dateutil>=2.7->matplotlib!=3.6.1,>=3.4->seaborn) (1.16.0)\n",
      "Installing collected packages: seaborn\n",
      "Successfully installed seaborn-0.13.2\n",
      "Note: you may need to restart the kernel to use updated packages.\n"
     ]
    }
   ],
   "source": [
    "#pip install seaborn"
   ]
  },
  {
   "cell_type": "code",
   "execution_count": 2,
   "metadata": {
    "id": "AQjLcipxG-R1"
   },
   "outputs": [],
   "source": [
    "#df_class=pd.read_csv(\"/content/survey_data.csv\")\n",
    "df_class=pd.read_csv(\"https://raw.githubusercontent.com/sijuswamy/Intel-Unnati-sessions/main/Feed_back_data.csv\")"
   ]
  },
  {
   "cell_type": "code",
   "execution_count": 4,
   "metadata": {},
   "outputs": [
    {
     "data": {
      "text/html": [
       "<div>\n",
       "<style scoped>\n",
       "    .dataframe tbody tr th:only-of-type {\n",
       "        vertical-align: middle;\n",
       "    }\n",
       "\n",
       "    .dataframe tbody tr th {\n",
       "        vertical-align: top;\n",
       "    }\n",
       "\n",
       "    .dataframe thead th {\n",
       "        text-align: right;\n",
       "    }\n",
       "</style>\n",
       "<table border=\"1\" class=\"dataframe\">\n",
       "  <thead>\n",
       "    <tr style=\"text-align: right;\">\n",
       "      <th></th>\n",
       "      <th>Timestamp</th>\n",
       "      <th>Name of the Participant</th>\n",
       "      <th>Email ID</th>\n",
       "      <th>Branch</th>\n",
       "      <th>Semester</th>\n",
       "      <th>Recourse Person of the session</th>\n",
       "      <th>How would you rate the overall quality and relevance of the course content presented in this session?</th>\n",
       "      <th>To what extent did you find the training methods and delivery style effective in helping you understand the concepts presented?</th>\n",
       "      <th>How would you rate the resource person's knowledge and expertise in the subject matter covered during this session?</th>\n",
       "      <th>To what extent do you believe the content covered in this session is relevant and applicable to real-world industry scenarios?</th>\n",
       "      <th>How would you rate the overall organization of the session, including time management, clarity of instructions, and interactive elements?</th>\n",
       "      <th>Please provide any additional comments, suggestions, or feedback you have regarding the session. Your insights are valuable and will help us enhance the overall learning experience.</th>\n",
       "    </tr>\n",
       "  </thead>\n",
       "  <tbody>\n",
       "    <tr>\n",
       "      <th>0</th>\n",
       "      <td>2024/02/19 1:41:40 PM GMT+5:30</td>\n",
       "      <td>Aaron James Koshy</td>\n",
       "      <td>aaron.csa2125@saintgits.org</td>\n",
       "      <td>CSE</td>\n",
       "      <td>Sixth</td>\n",
       "      <td>Dr. Anju Pratap</td>\n",
       "      <td>5</td>\n",
       "      <td>5</td>\n",
       "      <td>5</td>\n",
       "      <td>5</td>\n",
       "      <td>5</td>\n",
       "      <td>NaN</td>\n",
       "    </tr>\n",
       "    <tr>\n",
       "      <th>1</th>\n",
       "      <td>2024/02/19 1:41:59 PM GMT+5:30</td>\n",
       "      <td>Rahul Biju</td>\n",
       "      <td>rb.csb2125@saintgits.org</td>\n",
       "      <td>CSE</td>\n",
       "      <td>Sixth</td>\n",
       "      <td>Dr. Anju Pratap</td>\n",
       "      <td>5</td>\n",
       "      <td>5</td>\n",
       "      <td>5</td>\n",
       "      <td>5</td>\n",
       "      <td>4</td>\n",
       "      <td>NaN</td>\n",
       "    </tr>\n",
       "    <tr>\n",
       "      <th>2</th>\n",
       "      <td>2024/02/19 1:42:07 PM GMT+5:30</td>\n",
       "      <td>Sarang kj</td>\n",
       "      <td>sarangkj.ec2226@saintgits.org</td>\n",
       "      <td>ECE</td>\n",
       "      <td>Fourth</td>\n",
       "      <td>Dr. Anju Pratap</td>\n",
       "      <td>4</td>\n",
       "      <td>4</td>\n",
       "      <td>4</td>\n",
       "      <td>4</td>\n",
       "      <td>4</td>\n",
       "      <td>NaN</td>\n",
       "    </tr>\n",
       "    <tr>\n",
       "      <th>3</th>\n",
       "      <td>2024/02/19 1:42:14 PM GMT+5:30</td>\n",
       "      <td>Leya Kurian</td>\n",
       "      <td>leya.csb2125@saintgits.org</td>\n",
       "      <td>CSE</td>\n",
       "      <td>Sixth</td>\n",
       "      <td>Dr. Anju Pratap</td>\n",
       "      <td>5</td>\n",
       "      <td>5</td>\n",
       "      <td>5</td>\n",
       "      <td>5</td>\n",
       "      <td>5</td>\n",
       "      <td>It was good session</td>\n",
       "    </tr>\n",
       "    <tr>\n",
       "      <th>4</th>\n",
       "      <td>2024/02/19 1:42:27 PM GMT+5:30</td>\n",
       "      <td>Muhamed Adil</td>\n",
       "      <td>maev.csb2125@saintgits.org</td>\n",
       "      <td>CSE</td>\n",
       "      <td>Sixth</td>\n",
       "      <td>Dr. Anju Pratap</td>\n",
       "      <td>5</td>\n",
       "      <td>5</td>\n",
       "      <td>5</td>\n",
       "      <td>5</td>\n",
       "      <td>5</td>\n",
       "      <td>NaN</td>\n",
       "    </tr>\n",
       "  </tbody>\n",
       "</table>\n",
       "</div>"
      ],
      "text/plain": [
       "                        Timestamp Name of the Participant   \n",
       "0  2024/02/19 1:41:40 PM GMT+5:30      Aaron James Koshy   \\\n",
       "1  2024/02/19 1:41:59 PM GMT+5:30              Rahul Biju   \n",
       "2  2024/02/19 1:42:07 PM GMT+5:30              Sarang kj    \n",
       "3  2024/02/19 1:42:14 PM GMT+5:30             Leya Kurian   \n",
       "4  2024/02/19 1:42:27 PM GMT+5:30           Muhamed Adil    \n",
       "\n",
       "                        Email ID Branch Semester   \n",
       "0    aaron.csa2125@saintgits.org    CSE    Sixth  \\\n",
       "1       rb.csb2125@saintgits.org    CSE    Sixth   \n",
       "2  sarangkj.ec2226@saintgits.org    ECE   Fourth   \n",
       "3     leya.csb2125@saintgits.org    CSE    Sixth   \n",
       "4     maev.csb2125@saintgits.org    CSE    Sixth   \n",
       "\n",
       "  Recourse Person of the session   \n",
       "0                Dr. Anju Pratap  \\\n",
       "1                Dr. Anju Pratap   \n",
       "2                Dr. Anju Pratap   \n",
       "3                Dr. Anju Pratap   \n",
       "4                Dr. Anju Pratap   \n",
       "\n",
       "   How would you rate the overall quality and relevance of the course content presented in this session?   \n",
       "0                                                  5                                                      \\\n",
       "1                                                  5                                                       \n",
       "2                                                  4                                                       \n",
       "3                                                  5                                                       \n",
       "4                                                  5                                                       \n",
       "\n",
       "   To what extent did you find the training methods and delivery style effective in helping you understand the concepts presented?   \n",
       "0                                                  5                                                                                \\\n",
       "1                                                  5                                                                                 \n",
       "2                                                  4                                                                                 \n",
       "3                                                  5                                                                                 \n",
       "4                                                  5                                                                                 \n",
       "\n",
       "   How would you rate the resource person's knowledge and expertise in the subject matter covered during this session?   \n",
       "0                                                  5                                                                    \\\n",
       "1                                                  5                                                                     \n",
       "2                                                  4                                                                     \n",
       "3                                                  5                                                                     \n",
       "4                                                  5                                                                     \n",
       "\n",
       "   To what extent do you believe the content covered in this session is relevant and applicable to real-world industry scenarios?   \n",
       "0                                                  5                                                                               \\\n",
       "1                                                  5                                                                                \n",
       "2                                                  4                                                                                \n",
       "3                                                  5                                                                                \n",
       "4                                                  5                                                                                \n",
       "\n",
       "   How would you rate the overall organization of the session, including time management, clarity of instructions, and interactive elements?   \n",
       "0                                                  5                                                                                          \\\n",
       "1                                                  4                                                                                           \n",
       "2                                                  4                                                                                           \n",
       "3                                                  5                                                                                           \n",
       "4                                                  5                                                                                           \n",
       "\n",
       "  Please provide any additional comments, suggestions, or feedback you have regarding the session. Your insights are valuable and will help us enhance the overall learning experience.  \n",
       "0                                                NaN                                                                                                                                     \n",
       "1                                                NaN                                                                                                                                     \n",
       "2                                                NaN                                                                                                                                     \n",
       "3                                It was good session                                                                                                                                     \n",
       "4                                                NaN                                                                                                                                     "
      ]
     },
     "execution_count": 4,
     "metadata": {},
     "output_type": "execute_result"
    }
   ],
   "source": [
    "df_class.head()"
   ]
  },
  {
   "cell_type": "code",
   "execution_count": 3,
   "metadata": {
    "colab": {
     "base_uri": "https://localhost:8080/",
     "height": 310
    },
    "id": "EBdj8dXvKG5Z",
    "outputId": "12370aa9-3fcf-46b2-abb0-2cc755805b4d"
   },
   "outputs": [
    {
     "data": {
      "text/html": [
       "<style type=\"text/css\">\n",
       "#T_991f3_row0_col0, #T_991f3_row0_col1, #T_991f3_row0_col2, #T_991f3_row0_col3, #T_991f3_row0_col4, #T_991f3_row0_col5, #T_991f3_row0_col6, #T_991f3_row0_col7, #T_991f3_row0_col8, #T_991f3_row0_col9, #T_991f3_row0_col10, #T_991f3_row0_col11, #T_991f3_row1_col0, #T_991f3_row1_col1, #T_991f3_row1_col2, #T_991f3_row1_col3, #T_991f3_row1_col4, #T_991f3_row1_col5, #T_991f3_row1_col6, #T_991f3_row1_col7, #T_991f3_row1_col8, #T_991f3_row1_col9, #T_991f3_row1_col10, #T_991f3_row1_col11, #T_991f3_row2_col0, #T_991f3_row2_col1, #T_991f3_row2_col2, #T_991f3_row2_col3, #T_991f3_row2_col4, #T_991f3_row2_col5, #T_991f3_row2_col6, #T_991f3_row2_col7, #T_991f3_row2_col8, #T_991f3_row2_col9, #T_991f3_row2_col10, #T_991f3_row2_col11, #T_991f3_row3_col0, #T_991f3_row3_col1, #T_991f3_row3_col2, #T_991f3_row3_col3, #T_991f3_row3_col4, #T_991f3_row3_col5, #T_991f3_row3_col6, #T_991f3_row3_col7, #T_991f3_row3_col8, #T_991f3_row3_col9, #T_991f3_row3_col10, #T_991f3_row3_col11, #T_991f3_row4_col0, #T_991f3_row4_col1, #T_991f3_row4_col2, #T_991f3_row4_col3, #T_991f3_row4_col4, #T_991f3_row4_col5, #T_991f3_row4_col6, #T_991f3_row4_col7, #T_991f3_row4_col8, #T_991f3_row4_col9, #T_991f3_row4_col10, #T_991f3_row4_col11 {\n",
       "  background-color: darkgreen;\n",
       "  color: white;\n",
       "  border-color: darkblack;\n",
       "}\n",
       "</style>\n",
       "<table id=\"T_991f3\">\n",
       "  <thead>\n",
       "    <tr>\n",
       "      <th class=\"blank level0\" >&nbsp;</th>\n",
       "      <th id=\"T_991f3_level0_col0\" class=\"col_heading level0 col0\" >Timestamp</th>\n",
       "      <th id=\"T_991f3_level0_col1\" class=\"col_heading level0 col1\" >Name of the Participant</th>\n",
       "      <th id=\"T_991f3_level0_col2\" class=\"col_heading level0 col2\" >Email ID</th>\n",
       "      <th id=\"T_991f3_level0_col3\" class=\"col_heading level0 col3\" >Branch</th>\n",
       "      <th id=\"T_991f3_level0_col4\" class=\"col_heading level0 col4\" >Semester</th>\n",
       "      <th id=\"T_991f3_level0_col5\" class=\"col_heading level0 col5\" >Recourse Person of the session</th>\n",
       "      <th id=\"T_991f3_level0_col6\" class=\"col_heading level0 col6\" >How would you rate the overall quality and relevance of the course content presented in this session?</th>\n",
       "      <th id=\"T_991f3_level0_col7\" class=\"col_heading level0 col7\" >To what extent did you find the training methods and delivery style effective in helping you understand the concepts presented?</th>\n",
       "      <th id=\"T_991f3_level0_col8\" class=\"col_heading level0 col8\" >How would you rate the resource person's knowledge and expertise in the subject matter covered during this session?</th>\n",
       "      <th id=\"T_991f3_level0_col9\" class=\"col_heading level0 col9\" >To what extent do you believe the content covered in this session is relevant and applicable to real-world industry scenarios?</th>\n",
       "      <th id=\"T_991f3_level0_col10\" class=\"col_heading level0 col10\" >How would you rate the overall organization of the session, including time management, clarity of instructions, and interactive elements?</th>\n",
       "      <th id=\"T_991f3_level0_col11\" class=\"col_heading level0 col11\" >Please provide any additional comments, suggestions, or feedback you have regarding the session. Your insights are valuable and will help us enhance the overall learning experience.</th>\n",
       "    </tr>\n",
       "  </thead>\n",
       "  <tbody>\n",
       "    <tr>\n",
       "      <th id=\"T_991f3_level0_row0\" class=\"row_heading level0 row0\" >88</th>\n",
       "      <td id=\"T_991f3_row0_col0\" class=\"data row0 col0\" >2024/02/20 4:20:05 PM GMT+5:30</td>\n",
       "      <td id=\"T_991f3_row0_col1\" class=\"data row0 col1\" >Shalin Ann Thomas </td>\n",
       "      <td id=\"T_991f3_row0_col2\" class=\"data row0 col2\" >Shalinat.csb2226@saintgits.org</td>\n",
       "      <td id=\"T_991f3_row0_col3\" class=\"data row0 col3\" >CSE</td>\n",
       "      <td id=\"T_991f3_row0_col4\" class=\"data row0 col4\" >Fourth</td>\n",
       "      <td id=\"T_991f3_row0_col5\" class=\"data row0 col5\" >Mrs. Akshara Sasidharan</td>\n",
       "      <td id=\"T_991f3_row0_col6\" class=\"data row0 col6\" >3</td>\n",
       "      <td id=\"T_991f3_row0_col7\" class=\"data row0 col7\" >3</td>\n",
       "      <td id=\"T_991f3_row0_col8\" class=\"data row0 col8\" >3</td>\n",
       "      <td id=\"T_991f3_row0_col9\" class=\"data row0 col9\" >3</td>\n",
       "      <td id=\"T_991f3_row0_col10\" class=\"data row0 col10\" >3</td>\n",
       "      <td id=\"T_991f3_row0_col11\" class=\"data row0 col11\" >nan</td>\n",
       "    </tr>\n",
       "    <tr>\n",
       "      <th id=\"T_991f3_level0_row1\" class=\"row_heading level0 row1\" >122</th>\n",
       "      <td id=\"T_991f3_row1_col0\" class=\"data row1 col0\" >2024/02/22 9:02:55 AM GMT+5:30</td>\n",
       "      <td id=\"T_991f3_row1_col1\" class=\"data row1 col1\" >MATHEWS REJI </td>\n",
       "      <td id=\"T_991f3_row1_col2\" class=\"data row1 col2\" >mathewsr.csb2226@saintgits.org</td>\n",
       "      <td id=\"T_991f3_row1_col3\" class=\"data row1 col3\" >CSE</td>\n",
       "      <td id=\"T_991f3_row1_col4\" class=\"data row1 col4\" >Fourth</td>\n",
       "      <td id=\"T_991f3_row1_col5\" class=\"data row1 col5\" >Mrs. Gayathri J L</td>\n",
       "      <td id=\"T_991f3_row1_col6\" class=\"data row1 col6\" >5</td>\n",
       "      <td id=\"T_991f3_row1_col7\" class=\"data row1 col7\" >5</td>\n",
       "      <td id=\"T_991f3_row1_col8\" class=\"data row1 col8\" >5</td>\n",
       "      <td id=\"T_991f3_row1_col9\" class=\"data row1 col9\" >5</td>\n",
       "      <td id=\"T_991f3_row1_col10\" class=\"data row1 col10\" >5</td>\n",
       "      <td id=\"T_991f3_row1_col11\" class=\"data row1 col11\" >nan</td>\n",
       "    </tr>\n",
       "    <tr>\n",
       "      <th id=\"T_991f3_level0_row2\" class=\"row_heading level0 row2\" >100</th>\n",
       "      <td id=\"T_991f3_row2_col0\" class=\"data row2 col0\" >2024/02/21 9:04:03 AM GMT+5:30</td>\n",
       "      <td id=\"T_991f3_row2_col1\" class=\"data row2 col1\" >MATHEWS REJI </td>\n",
       "      <td id=\"T_991f3_row2_col2\" class=\"data row2 col2\" >mathewsr.csb2226@saintgits.org</td>\n",
       "      <td id=\"T_991f3_row2_col3\" class=\"data row2 col3\" >CSE</td>\n",
       "      <td id=\"T_991f3_row2_col4\" class=\"data row2 col4\" >Fourth</td>\n",
       "      <td id=\"T_991f3_row2_col5\" class=\"data row2 col5\" >Mrs. Veena A Kumar</td>\n",
       "      <td id=\"T_991f3_row2_col6\" class=\"data row2 col6\" >4</td>\n",
       "      <td id=\"T_991f3_row2_col7\" class=\"data row2 col7\" >4</td>\n",
       "      <td id=\"T_991f3_row2_col8\" class=\"data row2 col8\" >4</td>\n",
       "      <td id=\"T_991f3_row2_col9\" class=\"data row2 col9\" >4</td>\n",
       "      <td id=\"T_991f3_row2_col10\" class=\"data row2 col10\" >4</td>\n",
       "      <td id=\"T_991f3_row2_col11\" class=\"data row2 col11\" >nan</td>\n",
       "    </tr>\n",
       "    <tr>\n",
       "      <th id=\"T_991f3_level0_row3\" class=\"row_heading level0 row3\" >9</th>\n",
       "      <td id=\"T_991f3_row3_col0\" class=\"data row3 col0\" >2024/02/19 1:42:52 PM GMT+5:30</td>\n",
       "      <td id=\"T_991f3_row3_col1\" class=\"data row3 col1\" >Anjana Vinod </td>\n",
       "      <td id=\"T_991f3_row3_col2\" class=\"data row3 col2\" >av.csa2125@saintgits.org</td>\n",
       "      <td id=\"T_991f3_row3_col3\" class=\"data row3 col3\" >CSE</td>\n",
       "      <td id=\"T_991f3_row3_col4\" class=\"data row3 col4\" >Sixth</td>\n",
       "      <td id=\"T_991f3_row3_col5\" class=\"data row3 col5\" >Dr. Anju Pratap</td>\n",
       "      <td id=\"T_991f3_row3_col6\" class=\"data row3 col6\" >5</td>\n",
       "      <td id=\"T_991f3_row3_col7\" class=\"data row3 col7\" >5</td>\n",
       "      <td id=\"T_991f3_row3_col8\" class=\"data row3 col8\" >5</td>\n",
       "      <td id=\"T_991f3_row3_col9\" class=\"data row3 col9\" >5</td>\n",
       "      <td id=\"T_991f3_row3_col10\" class=\"data row3 col10\" >4</td>\n",
       "      <td id=\"T_991f3_row3_col11\" class=\"data row3 col11\" >Nothing </td>\n",
       "    </tr>\n",
       "    <tr>\n",
       "      <th id=\"T_991f3_level0_row4\" class=\"row_heading level0 row4\" >10</th>\n",
       "      <td id=\"T_991f3_row4_col0\" class=\"data row4 col0\" >2024/02/19 1:42:56 PM GMT+5:30</td>\n",
       "      <td id=\"T_991f3_row4_col1\" class=\"data row4 col1\" >Rahul Krishnan </td>\n",
       "      <td id=\"T_991f3_row4_col2\" class=\"data row4 col2\" >rahulk.ec2226@saintgits.org</td>\n",
       "      <td id=\"T_991f3_row4_col3\" class=\"data row4 col3\" >ECE</td>\n",
       "      <td id=\"T_991f3_row4_col4\" class=\"data row4 col4\" >Fourth</td>\n",
       "      <td id=\"T_991f3_row4_col5\" class=\"data row4 col5\" >Dr. Anju Pratap</td>\n",
       "      <td id=\"T_991f3_row4_col6\" class=\"data row4 col6\" >4</td>\n",
       "      <td id=\"T_991f3_row4_col7\" class=\"data row4 col7\" >4</td>\n",
       "      <td id=\"T_991f3_row4_col8\" class=\"data row4 col8\" >4</td>\n",
       "      <td id=\"T_991f3_row4_col9\" class=\"data row4 col9\" >4</td>\n",
       "      <td id=\"T_991f3_row4_col10\" class=\"data row4 col10\" >4</td>\n",
       "      <td id=\"T_991f3_row4_col11\" class=\"data row4 col11\" >nan</td>\n",
       "    </tr>\n",
       "  </tbody>\n",
       "</table>\n"
      ],
      "text/plain": [
       "<pandas.io.formats.style.Styler at 0x7fe940763b80>"
      ]
     },
     "execution_count": 3,
     "metadata": {},
     "output_type": "execute_result"
    }
   ],
   "source": [
    "df_class.sample(5).style.set_properties(**{'background-color': 'darkgreen',\n",
    "                           'color': 'white',\n",
    "                           'border-color': 'darkblack'})"
   ]
  },
  {
   "cell_type": "markdown",
   "metadata": {
    "id": "9n_2DtvWJKMt"
   },
   "source": [
    "## Data wrangling"
   ]
  },
  {
   "cell_type": "code",
   "execution_count": 5,
   "metadata": {
    "colab": {
     "base_uri": "https://localhost:8080/"
    },
    "id": "OoInTmFvKAVZ",
    "outputId": "aa70acae-9600-482a-c536-f4d0b4fb70ed"
   },
   "outputs": [
    {
     "name": "stdout",
     "output_type": "stream",
     "text": [
      "<class 'pandas.core.frame.DataFrame'>\n",
      "RangeIndex: 174 entries, 0 to 173\n",
      "Data columns (total 12 columns):\n",
      " #   Column                                                                                                                                                                                 Non-Null Count  Dtype \n",
      "---  ------                                                                                                                                                                                 --------------  ----- \n",
      " 0   Timestamp                                                                                                                                                                              174 non-null    object\n",
      " 1   Name of the Participant                                                                                                                                                                174 non-null    object\n",
      " 2   Email ID                                                                                                                                                                               174 non-null    object\n",
      " 3   Branch                                                                                                                                                                                 174 non-null    object\n",
      " 4   Semester                                                                                                                                                                               174 non-null    object\n",
      " 5   Recourse Person of the session                                                                                                                                                         174 non-null    object\n",
      " 6   How would you rate the overall quality and relevance of the course content presented in this session?                                                                                  174 non-null    int64 \n",
      " 7   To what extent did you find the training methods and delivery style effective in helping you understand the concepts presented?                                                        174 non-null    int64 \n",
      " 8   How would you rate the resource person's knowledge and expertise in the subject matter covered during this session?                                                                    174 non-null    int64 \n",
      " 9   To what extent do you believe the content covered in this session is relevant and applicable to real-world industry scenarios?                                                         174 non-null    int64 \n",
      " 10  How would you rate the overall organization of the session, including time management, clarity of instructions, and interactive elements?                                              174 non-null    int64 \n",
      " 11  Please provide any additional comments, suggestions, or feedback you have regarding the session. Your insights are valuable and will help us enhance the overall learning experience.  10 non-null     object\n",
      "dtypes: int64(5), object(7)\n",
      "memory usage: 16.4+ KB\n"
     ]
    }
   ],
   "source": [
    "\n",
    "df_class.info()"
   ]
  },
  {
   "cell_type": "code",
   "execution_count": 6,
   "metadata": {
    "id": "3uqyvyOTKZY-"
   },
   "outputs": [],
   "source": [
    "df_class = df_class.drop(['Timestamp','Email ID','Please provide any additional comments, suggestions, or feedback you have regarding the session. Your insights are valuable and will help us enhance the overall learning experience.'],axis=1)"
   ]
  },
  {
   "cell_type": "code",
   "execution_count": 8,
   "metadata": {},
   "outputs": [
    {
     "name": "stdout",
     "output_type": "stream",
     "text": [
      "<class 'pandas.core.frame.DataFrame'>\n",
      "RangeIndex: 174 entries, 0 to 173\n",
      "Data columns (total 9 columns):\n",
      " #   Column                                                                                                                                     Non-Null Count  Dtype \n",
      "---  ------                                                                                                                                     --------------  ----- \n",
      " 0   Name of the Participant                                                                                                                    174 non-null    object\n",
      " 1   Branch                                                                                                                                     174 non-null    object\n",
      " 2   Semester                                                                                                                                   174 non-null    object\n",
      " 3   Recourse Person of the session                                                                                                             174 non-null    object\n",
      " 4   How would you rate the overall quality and relevance of the course content presented in this session?                                      174 non-null    int64 \n",
      " 5   To what extent did you find the training methods and delivery style effective in helping you understand the concepts presented?            174 non-null    int64 \n",
      " 6   How would you rate the resource person's knowledge and expertise in the subject matter covered during this session?                        174 non-null    int64 \n",
      " 7   To what extent do you believe the content covered in this session is relevant and applicable to real-world industry scenarios?             174 non-null    int64 \n",
      " 8   How would you rate the overall organization of the session, including time management, clarity of instructions, and interactive elements?  174 non-null    int64 \n",
      "dtypes: int64(5), object(4)\n",
      "memory usage: 12.4+ KB\n"
     ]
    }
   ],
   "source": [
    "df_class.info()"
   ]
  },
  {
   "cell_type": "code",
   "execution_count": 9,
   "metadata": {
    "id": "2OXWFFs_JM1g"
   },
   "outputs": [],
   "source": [
    "df_class.columns = [\"Name\",\"Branch\",\"Semester\",\"Resourse Person\",\"Content Quality\",\"Effeciveness\",\"Expertise\",\"Relevance\",\"Overall Organization\"]"
   ]
  },
  {
   "cell_type": "code",
   "execution_count": 14,
   "metadata": {
    "colab": {
     "base_uri": "https://localhost:8080/",
     "height": 206
    },
    "id": "8wspbQ6BK0Gb",
    "outputId": "09581d0a-4588-44b5-d487-53d2feea5a6b"
   },
   "outputs": [
    {
     "data": {
      "text/html": [
       "<div>\n",
       "<style scoped>\n",
       "    .dataframe tbody tr th:only-of-type {\n",
       "        vertical-align: middle;\n",
       "    }\n",
       "\n",
       "    .dataframe tbody tr th {\n",
       "        vertical-align: top;\n",
       "    }\n",
       "\n",
       "    .dataframe thead th {\n",
       "        text-align: right;\n",
       "    }\n",
       "</style>\n",
       "<table border=\"1\" class=\"dataframe\">\n",
       "  <thead>\n",
       "    <tr style=\"text-align: right;\">\n",
       "      <th></th>\n",
       "      <th>Name</th>\n",
       "      <th>Branch</th>\n",
       "      <th>Semester</th>\n",
       "      <th>Resourse Person</th>\n",
       "      <th>Content Quality</th>\n",
       "      <th>Effeciveness</th>\n",
       "      <th>Expertise</th>\n",
       "      <th>Relevance</th>\n",
       "      <th>Overall Organization</th>\n",
       "    </tr>\n",
       "  </thead>\n",
       "  <tbody>\n",
       "    <tr>\n",
       "      <th>159</th>\n",
       "      <td>Aaron James Koshy</td>\n",
       "      <td>CSE</td>\n",
       "      <td>Sixth</td>\n",
       "      <td>Mrs. Veena A Kumar</td>\n",
       "      <td>5</td>\n",
       "      <td>5</td>\n",
       "      <td>5</td>\n",
       "      <td>5</td>\n",
       "      <td>5</td>\n",
       "    </tr>\n",
       "    <tr>\n",
       "      <th>104</th>\n",
       "      <td>Lara Marium Jacob</td>\n",
       "      <td>CSE</td>\n",
       "      <td>Fourth</td>\n",
       "      <td>Mrs. Veena A Kumar</td>\n",
       "      <td>5</td>\n",
       "      <td>5</td>\n",
       "      <td>5</td>\n",
       "      <td>5</td>\n",
       "      <td>4</td>\n",
       "    </tr>\n",
       "    <tr>\n",
       "      <th>4</th>\n",
       "      <td>Muhamed Adil</td>\n",
       "      <td>CSE</td>\n",
       "      <td>Sixth</td>\n",
       "      <td>Dr. Anju Pratap</td>\n",
       "      <td>5</td>\n",
       "      <td>5</td>\n",
       "      <td>5</td>\n",
       "      <td>5</td>\n",
       "      <td>5</td>\n",
       "    </tr>\n",
       "    <tr>\n",
       "      <th>60</th>\n",
       "      <td>Abia Abraham</td>\n",
       "      <td>ECE</td>\n",
       "      <td>Fourth</td>\n",
       "      <td>Mrs. Akshara Sasidharan</td>\n",
       "      <td>4</td>\n",
       "      <td>3</td>\n",
       "      <td>4</td>\n",
       "      <td>5</td>\n",
       "      <td>5</td>\n",
       "    </tr>\n",
       "    <tr>\n",
       "      <th>29</th>\n",
       "      <td>Bhagya Sureshkumar</td>\n",
       "      <td>CSE</td>\n",
       "      <td>Sixth</td>\n",
       "      <td>Mrs. Akshara Sasidharan</td>\n",
       "      <td>5</td>\n",
       "      <td>5</td>\n",
       "      <td>5</td>\n",
       "      <td>5</td>\n",
       "      <td>5</td>\n",
       "    </tr>\n",
       "  </tbody>\n",
       "</table>\n",
       "</div>"
      ],
      "text/plain": [
       "                    Name Branch Semester          Resourse Person   \n",
       "159   Aaron James Koshy     CSE    Sixth       Mrs. Veena A Kumar  \\\n",
       "104   Lara Marium Jacob     CSE   Fourth       Mrs. Veena A Kumar   \n",
       "4          Muhamed Adil     CSE    Sixth          Dr. Anju Pratap   \n",
       "60         Abia Abraham     ECE   Fourth  Mrs. Akshara Sasidharan   \n",
       "29   Bhagya Sureshkumar     CSE    Sixth  Mrs. Akshara Sasidharan   \n",
       "\n",
       "     Content Quality  Effeciveness  Expertise  Relevance  Overall Organization  \n",
       "159                5             5          5          5                     5  \n",
       "104                5             5          5          5                     4  \n",
       "4                  5             5          5          5                     5  \n",
       "60                 4             3          4          5                     5  \n",
       "29                 5             5          5          5                     5  "
      ]
     },
     "execution_count": 14,
     "metadata": {},
     "output_type": "execute_result"
    }
   ],
   "source": [
    "df_class.sample(5)"
   ]
  },
  {
   "cell_type": "code",
   "execution_count": 15,
   "metadata": {
    "colab": {
     "base_uri": "https://localhost:8080/"
    },
    "id": "ICGM9brdK8P8",
    "outputId": "43d97c93-a759-47c5-b042-32451dc4d7d1"
   },
   "outputs": [
    {
     "data": {
      "text/plain": [
       "0"
      ]
     },
     "execution_count": 15,
     "metadata": {},
     "output_type": "execute_result"
    }
   ],
   "source": [
    "# checking for null\n",
    "df_class.isnull().sum().sum()"
   ]
  },
  {
   "cell_type": "code",
   "execution_count": 16,
   "metadata": {
    "colab": {
     "base_uri": "https://localhost:8080/"
    },
    "id": "z1HVI2ggLA68",
    "outputId": "f1223cc1-f536-4c70-9066-35b59a4591a8"
   },
   "outputs": [
    {
     "data": {
      "text/plain": [
       "(174, 9)"
      ]
     },
     "execution_count": 16,
     "metadata": {},
     "output_type": "execute_result"
    }
   ],
   "source": [
    "# dimension\n",
    "\n",
    "df_class.shape"
   ]
  },
  {
   "cell_type": "markdown",
   "metadata": {
    "id": "ZO-z1MlZLRaE"
   },
   "source": [
    "## Exploratory Data Analysis"
   ]
  },
  {
   "cell_type": "code",
   "execution_count": 17,
   "metadata": {
    "colab": {
     "base_uri": "https://localhost:8080/"
    },
    "id": "NM7CqwNeNBEy",
    "outputId": "28f267f1-4e3a-4f5f-9176-d219e8db90e3"
   },
   "outputs": [
    {
     "data": {
      "text/plain": [
       "Resourse Person\n",
       "Mrs. Akshara Sasidharan    34.48\n",
       "Mrs. Veena A Kumar         31.03\n",
       "Dr. Anju Pratap            17.24\n",
       "Mrs. Gayathri J L          17.24\n",
       "Name: proportion, dtype: float64"
      ]
     },
     "execution_count": 17,
     "metadata": {},
     "output_type": "execute_result"
    }
   ],
   "source": [
    "## creating a percentage analysis of RP-wise distribution of data\n",
    "round(df_class[\"Resourse Person\"].value_counts(normalize=True)*100,2)"
   ]
  },
  {
   "cell_type": "code",
   "execution_count": 18,
   "metadata": {},
   "outputs": [
    {
     "data": {
      "text/plain": [
       "Name\n",
       "Sidharth V Menon             4.02\n",
       "Rizia Sara Prabin            4.02\n",
       "Aaron James Koshy            3.45\n",
       "Rahul Krishnan               3.45\n",
       "Allen John Manoj             3.45\n",
       "Christo Joseph Sajan         3.45\n",
       "Jobinjoy Ponnappal           3.45\n",
       "Varsha S Panicker            3.45\n",
       "Nandana A                    3.45\n",
       "Anjana Vinod                 3.45\n",
       "Rahul Biju                   3.45\n",
       "Kevin Kizhakekuttu Thomas    3.45\n",
       "Lara Marium Jacob            3.45\n",
       "Abia Abraham                 3.45\n",
       "Shalin Ann Thomas            3.45\n",
       "Abna Ev                      3.45\n",
       "Aaron Thomas Blessen         2.87\n",
       "Sebin Sebastian              2.87\n",
       "Sani Anna Varghese           2.87\n",
       "Bhagya Sureshkumar           2.87\n",
       "Jobin Tom                    2.87\n",
       "Leya Kurian                  2.87\n",
       "Jobin Pius                   2.30\n",
       "Aiswarya Arun                2.30\n",
       "Muhamed Adil                 2.30\n",
       "Marianna Martin              2.30\n",
       "Anaswara Biju                2.30\n",
       "Mathews Reji                 1.72\n",
       "MATHEWS REJI                 1.72\n",
       "Riya Sara Shibu              1.72\n",
       "Riya Sara Shibu              1.72\n",
       "Aiswarya Arun                1.15\n",
       "Sarang kj                    1.15\n",
       "Muhamed Adil                 1.15\n",
       "Lisbeth Ajith                1.15\n",
       "Jobin Tom                    0.57\n",
       "Lisbeth                      0.57\n",
       "Anaswara Biju                0.57\n",
       "Aaron Thomas Blessen         0.57\n",
       "Lisbeth Ajith                0.57\n",
       "Marianna Martin              0.57\n",
       "Name: proportion, dtype: float64"
      ]
     },
     "execution_count": 18,
     "metadata": {},
     "output_type": "execute_result"
    }
   ],
   "source": [
    "## creating a percentage analysis of RP-wise distribution of data\n",
    "round(df_class[\"Name\"].value_counts(normalize=True)*100,2)"
   ]
  },
  {
   "cell_type": "markdown",
   "metadata": {
    "id": "SzwBdc2sNpH7"
   },
   "source": [
    "## Visualization"
   ]
  },
  {
   "cell_type": "code",
   "execution_count": 19,
   "metadata": {
    "colab": {
     "base_uri": "https://localhost:8080/",
     "height": 314
    },
    "id": "ctFkrfLrLI_J",
    "outputId": "91c4fe5a-c3c2-4800-c85f-286018355c95"
   },
   "outputs": [
    {
     "data": {
      "image/png": "[encoded data removed]",
      "text/plain": [
       "<Figure size 640x480 with 2 Axes>"
      ]
     },
     "metadata": {},
     "output_type": "display_data"
    }
   ],
   "source": [
    "ax = plt.subplot(1,2,1)\n",
    "ax = sns.countplot(x='Resourse Person', data=df_class)\n",
    "#ax.bar_label(ax.containers[0])\n",
    "plt.title(\"Faculty-wise distribution of data\", fontsize=20,color = 'Brown',pad=20)\n",
    "ax =plt.subplot(1,2,2)\n",
    "ax=df_class['Resourse Person'].value_counts().plot.pie(explode=[0.1, 0.1,0.1,0.1],autopct='%1.2f%%',shadow=True);\n",
    "ax.set_title(label = \"Resourse Person\", fontsize = 20,color='Brown',pad=20);"
   ]
  },
  {
   "cell_type": "markdown",
   "metadata": {
    "id": "yWlLgr5sX0_z"
   },
   "source": [
    "## Summary of Responses\n"
   ]
  },
  {
   "cell_type": "code",
   "execution_count": 22,
   "metadata": {
    "colab": {
     "base_uri": "https://localhost:8080/",
     "height": 265
    },
    "id": "JHaFVI3nX2fl",
    "outputId": "09793029-e749-4010-ef19-3e6202e0acfa"
   },
   "outputs": [
    {
     "data": {
      "image/png": "[encoded data removed]",
      "text/plain": [
       "<Figure size 640x480 with 1 Axes>"
      ]
     },
     "metadata": {},
     "output_type": "display_data"
    }
   ],
   "source": [
    "sns.boxplot(y=df_class['Resourse Person'],x=df_class['Content Quality'])\n",
    "plt.show()"
   ]
  },
  {
   "cell_type": "code",
   "execution_count": 25,
   "metadata": {},
   "outputs": [
    {
     "data": {
      "image/png": "[encoded data removed]",
      "text/plain": [
       "<Figure size 640x480 with 1 Axes>"
      ]
     },
     "metadata": {},
     "output_type": "display_data"
    }
   ],
   "source": [
    "sns.boxplot(y=df_class['Resourse Person'],x=df_class['Effeciveness'])\n",
    "plt.show()"
   ]
  },
  {
   "cell_type": "code",
   "execution_count": 24,
   "metadata": {},
   "outputs": [
    {
     "name": "stdout",
     "output_type": "stream",
     "text": [
      "<class 'pandas.core.frame.DataFrame'>\n",
      "RangeIndex: 174 entries, 0 to 173\n",
      "Data columns (total 9 columns):\n",
      " #   Column                Non-Null Count  Dtype \n",
      "---  ------                --------------  ----- \n",
      " 0   Name                  174 non-null    object\n",
      " 1   Branch                174 non-null    object\n",
      " 2   Semester              174 non-null    object\n",
      " 3   Resourse Person       174 non-null    object\n",
      " 4   Content Quality       174 non-null    int64 \n",
      " 5   Effeciveness          174 non-null    int64 \n",
      " 6   Expertise             174 non-null    int64 \n",
      " 7   Relevance             174 non-null    int64 \n",
      " 8   Overall Organization  174 non-null    int64 \n",
      "dtypes: int64(5), object(4)\n",
      "memory usage: 12.4+ KB\n"
     ]
    }
   ],
   "source": [
    "df_class.info()"
   ]
  },
  {
   "cell_type": "code",
   "execution_count": 26,
   "metadata": {},
   "outputs": [
    {
     "data": {
      "image/png": "[encoded data removed]",
      "text/plain": [
       "<Figure size 640x480 with 1 Axes>"
      ]
     },
     "metadata": {},
     "output_type": "display_data"
    }
   ],
   "source": [
    "sns.boxplot(y=df_class['Resourse Person'],x=df_class['Expertise'])\n",
    "plt.show()"
   ]
  },
  {
   "cell_type": "code",
   "execution_count": 28,
   "metadata": {},
   "outputs": [
    {
     "data": {
      "image/png": "[encoded data removed]",
      "text/plain": [
       "<Figure size 640x480 with 1 Axes>"
      ]
     },
     "metadata": {},
     "output_type": "display_data"
    }
   ],
   "source": [
    "sns.boxplot(y=df_class['Resourse Person'],x=df_class['Relevance'])\n",
    "plt.show()"
   ]
  },
  {
   "cell_type": "code",
   "execution_count": 29,
   "metadata": {},
   "outputs": [
    {
     "data": {
      "image/png": "[encoded data removed]",
      "text/plain": [
       "<Figure size 640x480 with 1 Axes>"
      ]
     },
     "metadata": {},
     "output_type": "display_data"
    }
   ],
   "source": [
    "sns.boxplot(y=df_class['Resourse Person'],x=df_class['Overall Organization'])\n",
    "plt.show()"
   ]
  },
  {
   "cell_type": "code",
   "execution_count": 31,
   "metadata": {
    "colab": {
     "base_uri": "https://localhost:8080/",
     "height": 302
    },
    "id": "pvAeyrVpYNCe",
    "outputId": "c1eea76f-fa15-4537-fe93-47c3e20875ae"
   },
   "outputs": [
    {
     "data": {
      "image/png": "[encoded data removed]",
      "text/plain": [
       "<Figure size 640x480 with 1 Axes>"
      ]
     },
     "metadata": {},
     "output_type": "display_data"
    }
   ],
   "source": [
    "sns.boxplot(y=df_class['Resourse Person'],x=df_class['Branch'])\n",
    "plt.show()"
   ]
  },
  {
   "cell_type": "code",
   "execution_count": 32,
   "metadata": {},
   "outputs": [
    {
     "data": {
      "image/png": "[encoded data removed]",
      "text/plain": [
       "<Figure size 640x480 with 1 Axes>"
      ]
     },
     "metadata": {},
     "output_type": "display_data"
    }
   ],
   "source": [
    "sns.boxplot(y=df_class['Branch'],x=df_class['Content Quality'])\n",
    "plt.show()"
   ]
  },
  {
   "cell_type": "markdown",
   "metadata": {},
   "source": [
    "# Using K-means Clustering to identify segmentation over student's satisfaction"
   ]
  },
  {
   "cell_type": "markdown",
   "metadata": {},
   "source": [
    "## Finding the best value of k using elbow method"
   ]
  },
  {
   "cell_type": "code",
   "execution_count": 35,
   "metadata": {},
   "outputs": [],
   "source": [
    "input_col=[\"Content Quality\",\"Effeciveness\",\"Expertise\",\"Relevance\",\"Overall Organization\"]\n",
    "X=df_class[input_col].values"
   ]
  },
  {
   "cell_type": "code",
   "execution_count": 38,
   "metadata": {},
   "outputs": [],
   "source": [
    "# Initialize an empty list to store the within-cluster sum of squares\n",
    "from sklearn.cluster import KMeans\n",
    "wcss = []\n",
    "\n",
    "# Try different values of k\n",
    "for k in range(1, 11):\n",
    "    kmeans = KMeans(n_clusters=k,n_init='auto', random_state=42)\n",
    "    kmeans.fit(X)\n",
    "    wcss.append(kmeans.inertia_)# here inertia calculate sum of square distance in each cluster\n"
   ]
  },
  {
   "cell_type": "code",
   "execution_count": 39,
   "metadata": {},
   "outputs": [
    {
     "data": {
      "image/png": "[encoded data removed]",
      "text/plain": [
       "<Figure size 640x480 with 1 Axes>"
      ]
     },
     "metadata": {},
     "output_type": "display_data"
    }
   ],
   "source": [
    "# Plot the within-cluster sum of squares for different values of k\n",
    "plt.plot(range(1, 11), wcss, marker='o')\n",
    "plt.xlabel('Number of Clusters (k)')\n",
    "plt.ylabel('Within-Cluster Sum of Squares (WCSS)')\n",
    "plt.title('Elbow Method')\n",
    "plt.show()"
   ]
  },
  {
   "cell_type": "markdown",
   "metadata": {},
   "source": [
    "## Using Gridsearch method"
   ]
  },
  {
   "cell_type": "code",
   "execution_count": 40,
   "metadata": {},
   "outputs": [],
   "source": [
    "# Define the parameter grid\n",
    "from sklearn.model_selection import GridSearchCV\n",
    "\n",
    "param_grid = {'n_clusters': [2, 3, 4, 5, 6]}\n",
    "\n",
    "# Create a KMeans object\n",
    "kmeans = KMeans(n_init='auto',random_state=42)\n",
    "\n",
    "# Create a GridSearchCV object\n",
    "grid_search = GridSearchCV(kmeans, param_grid, cv=5)\n",
    "\n",
    "# Perform grid search\n",
    "grid_search.fit(X)\n",
    "\n",
    "# Get the best parameters and the best score\n",
    "best_params = grid_search.best_params_\n",
    "best_score = grid_search.best_score_"
   ]
  },
  {
   "cell_type": "code",
   "execution_count": 41,
   "metadata": {},
   "outputs": [
    {
     "name": "stdout",
     "output_type": "stream",
     "text": [
      "Best Parameters: {'n_clusters': 6}\n",
      "Best Score: -18.785358992461248\n"
     ]
    }
   ],
   "source": [
    "print(\"Best Parameters:\", best_params)\n",
    "print(\"Best Score:\", best_score)"
   ]
  },
  {
   "cell_type": "markdown",
   "metadata": {},
   "source": [
    "## Implementing K-means clustering"
   ]
  },
  {
   "cell_type": "code",
   "execution_count": 42,
   "metadata": {},
   "outputs": [
    {
     "data": {
      "text/html": [
       "<style>#sk-container-id-1 {color: black;background-color: white;}#sk-container-id-1 pre{padding: 0;}#sk-container-id-1 div.sk-toggleable {background-color: white;}#sk-container-id-1 label.sk-toggleable__label {cursor: pointer;display: block;width: 100%;margin-bottom: 0;padding: 0.3em;box-sizing: border-box;text-align: center;}#sk-container-id-1 label.sk-toggleable__label-arrow:before {content: \"▸\";float: left;margin-right: 0.25em;color: #696969;}#sk-container-id-1 label.sk-toggleable__label-arrow:hover:before {color: black;}#sk-container-id-1 div.sk-estimator:hover label.sk-toggleable__label-arrow:before {color: black;}#sk-container-id-1 div.sk-toggleable__content {max-height: 0;max-width: 0;overflow: hidden;text-align: left;background-color: #f0f8ff;}#sk-container-id-1 div.sk-toggleable__content pre {margin: 0.2em;color: black;border-radius: 0.25em;background-color: #f0f8ff;}#sk-container-id-1 input.sk-toggleable__control:checked~div.sk-toggleable__content {max-height: 200px;max-width: 100%;overflow: auto;}#sk-container-id-1 input.sk-toggleable__control:checked~label.sk-toggleable__label-arrow:before {content: \"▾\";}#sk-container-id-1 div.sk-estimator input.sk-toggleable__control:checked~label.sk-toggleable__label {background-color: #d4ebff;}#sk-container-id-1 div.sk-label input.sk-toggleable__control:checked~label.sk-toggleable__label {background-color: #d4ebff;}#sk-container-id-1 input.sk-hidden--visually {border: 0;clip: rect(1px 1px 1px 1px);clip: rect(1px, 1px, 1px, 1px);height: 1px;margin: -1px;overflow: hidden;padding: 0;position: absolute;width: 1px;}#sk-container-id-1 div.sk-estimator {font-family: monospace;background-color: #f0f8ff;border: 1px dotted black;border-radius: 0.25em;box-sizing: border-box;margin-bottom: 0.5em;}#sk-container-id-1 div.sk-estimator:hover {background-color: #d4ebff;}#sk-container-id-1 div.sk-parallel-item::after {content: \"\";width: 100%;border-bottom: 1px solid gray;flex-grow: 1;}#sk-container-id-1 div.sk-label:hover label.sk-toggleable__label {background-color: #d4ebff;}#sk-container-id-1 div.sk-serial::before {content: \"\";position: absolute;border-left: 1px solid gray;box-sizing: border-box;top: 0;bottom: 0;left: 50%;z-index: 0;}#sk-container-id-1 div.sk-serial {display: flex;flex-direction: column;align-items: center;background-color: white;padding-right: 0.2em;padding-left: 0.2em;position: relative;}#sk-container-id-1 div.sk-item {position: relative;z-index: 1;}#sk-container-id-1 div.sk-parallel {display: flex;align-items: stretch;justify-content: center;background-color: white;position: relative;}#sk-container-id-1 div.sk-item::before, #sk-container-id-1 div.sk-parallel-item::before {content: \"\";position: absolute;border-left: 1px solid gray;box-sizing: border-box;top: 0;bottom: 0;left: 50%;z-index: -1;}#sk-container-id-1 div.sk-parallel-item {display: flex;flex-direction: column;z-index: 1;position: relative;background-color: white;}#sk-container-id-1 div.sk-parallel-item:first-child::after {align-self: flex-end;width: 50%;}#sk-container-id-1 div.sk-parallel-item:last-child::after {align-self: flex-start;width: 50%;}#sk-container-id-1 div.sk-parallel-item:only-child::after {width: 0;}#sk-container-id-1 div.sk-dashed-wrapped {border: 1px dashed gray;margin: 0 0.4em 0.5em 0.4em;box-sizing: border-box;padding-bottom: 0.4em;background-color: white;}#sk-container-id-1 div.sk-label label {font-family: monospace;font-weight: bold;display: inline-block;line-height: 1.2em;}#sk-container-id-1 div.sk-label-container {text-align: center;}#sk-container-id-1 div.sk-container {/* jupyter's `normalize.less` sets `[hidden] { display: none; }` but bootstrap.min.css set `[hidden] { display: none !important; }` so we also need the `!important` here to be able to override the default hidden behavior on the sphinx rendered scikit-learn.org. See: https://github.com/scikit-learn/scikit-learn/issues/21755 */display: inline-block !important;position: relative;}#sk-container-id-1 div.sk-text-repr-fallback {display: none;}</style><div id=\"sk-container-id-1\" class=\"sk-top-container\"><div class=\"sk-text-repr-fallback\"><pre>KMeans(n_clusters=3, n_init=&#x27;auto&#x27;, random_state=42)</pre><b>In a Jupyter environment, please rerun this cell to show the HTML representation or trust the notebook. <br />On GitHub, the HTML representation is unable to render, please try loading this page with nbviewer.org.</b></div><div class=\"sk-container\" hidden><div class=\"sk-item\"><div class=\"sk-estimator sk-toggleable\"><input class=\"sk-toggleable__control sk-hidden--visually\" id=\"sk-estimator-id-1\" type=\"checkbox\" checked><label for=\"sk-estimator-id-1\" class=\"sk-toggleable__label sk-toggleable__label-arrow\">KMeans</label><div class=\"sk-toggleable__content\"><pre>KMeans(n_clusters=3, n_init=&#x27;auto&#x27;, random_state=42)</pre></div></div></div></div></div>"
      ],
      "text/plain": [
       "KMeans(n_clusters=3, n_init='auto', random_state=42)"
      ]
     },
     "execution_count": 42,
     "metadata": {},
     "output_type": "execute_result"
    }
   ],
   "source": [
    "# Perform k-means clustering\n",
    "k = 3 # Number of clusters\n",
    "kmeans = KMeans(n_clusters=k,n_init='auto', random_state=42)\n",
    "kmeans.fit(X)"
   ]
  },
  {
   "cell_type": "markdown",
   "metadata": {},
   "source": [
    "## Extracting labels and cluster centers"
   ]
  },
  {
   "cell_type": "code",
   "execution_count": 43,
   "metadata": {},
   "outputs": [],
   "source": [
    "# Get the cluster labels and centroids\n",
    "labels = kmeans.labels_\n",
    "centroids = kmeans.cluster_centers_\n",
    "\n",
    "# Add the cluster labels to the DataFrame\n",
    "df_class['Cluster'] = labels\n"
   ]
  },
  {
   "cell_type": "code",
   "execution_count": 44,
   "metadata": {},
   "outputs": [
    {
     "data": {
      "text/html": [
       "<div>\n",
       "<style scoped>\n",
       "    .dataframe tbody tr th:only-of-type {\n",
       "        vertical-align: middle;\n",
       "    }\n",
       "\n",
       "    .dataframe tbody tr th {\n",
       "        vertical-align: top;\n",
       "    }\n",
       "\n",
       "    .dataframe thead th {\n",
       "        text-align: right;\n",
       "    }\n",
       "</style>\n",
       "<table border=\"1\" class=\"dataframe\">\n",
       "  <thead>\n",
       "    <tr style=\"text-align: right;\">\n",
       "      <th></th>\n",
       "      <th>Name</th>\n",
       "      <th>Branch</th>\n",
       "      <th>Semester</th>\n",
       "      <th>Resourse Person</th>\n",
       "      <th>Content Quality</th>\n",
       "      <th>Effeciveness</th>\n",
       "      <th>Expertise</th>\n",
       "      <th>Relevance</th>\n",
       "      <th>Overall Organization</th>\n",
       "      <th>Cluster</th>\n",
       "    </tr>\n",
       "  </thead>\n",
       "  <tbody>\n",
       "    <tr>\n",
       "      <th>0</th>\n",
       "      <td>Aaron James Koshy</td>\n",
       "      <td>CSE</td>\n",
       "      <td>Sixth</td>\n",
       "      <td>Dr. Anju Pratap</td>\n",
       "      <td>5</td>\n",
       "      <td>5</td>\n",
       "      <td>5</td>\n",
       "      <td>5</td>\n",
       "      <td>5</td>\n",
       "      <td>0</td>\n",
       "    </tr>\n",
       "    <tr>\n",
       "      <th>1</th>\n",
       "      <td>Rahul Biju</td>\n",
       "      <td>CSE</td>\n",
       "      <td>Sixth</td>\n",
       "      <td>Dr. Anju Pratap</td>\n",
       "      <td>5</td>\n",
       "      <td>5</td>\n",
       "      <td>5</td>\n",
       "      <td>5</td>\n",
       "      <td>4</td>\n",
       "      <td>0</td>\n",
       "    </tr>\n",
       "    <tr>\n",
       "      <th>2</th>\n",
       "      <td>Sarang kj</td>\n",
       "      <td>ECE</td>\n",
       "      <td>Fourth</td>\n",
       "      <td>Dr. Anju Pratap</td>\n",
       "      <td>4</td>\n",
       "      <td>4</td>\n",
       "      <td>4</td>\n",
       "      <td>4</td>\n",
       "      <td>4</td>\n",
       "      <td>2</td>\n",
       "    </tr>\n",
       "    <tr>\n",
       "      <th>3</th>\n",
       "      <td>Leya Kurian</td>\n",
       "      <td>CSE</td>\n",
       "      <td>Sixth</td>\n",
       "      <td>Dr. Anju Pratap</td>\n",
       "      <td>5</td>\n",
       "      <td>5</td>\n",
       "      <td>5</td>\n",
       "      <td>5</td>\n",
       "      <td>5</td>\n",
       "      <td>0</td>\n",
       "    </tr>\n",
       "    <tr>\n",
       "      <th>4</th>\n",
       "      <td>Muhamed Adil</td>\n",
       "      <td>CSE</td>\n",
       "      <td>Sixth</td>\n",
       "      <td>Dr. Anju Pratap</td>\n",
       "      <td>5</td>\n",
       "      <td>5</td>\n",
       "      <td>5</td>\n",
       "      <td>5</td>\n",
       "      <td>5</td>\n",
       "      <td>0</td>\n",
       "    </tr>\n",
       "  </tbody>\n",
       "</table>\n",
       "</div>"
      ],
      "text/plain": [
       "                 Name Branch Semester  Resourse Person  Content Quality   \n",
       "0  Aaron James Koshy     CSE    Sixth  Dr. Anju Pratap                5  \\\n",
       "1          Rahul Biju    CSE    Sixth  Dr. Anju Pratap                5   \n",
       "2          Sarang kj     ECE   Fourth  Dr. Anju Pratap                4   \n",
       "3         Leya Kurian    CSE    Sixth  Dr. Anju Pratap                5   \n",
       "4       Muhamed Adil     CSE    Sixth  Dr. Anju Pratap                5   \n",
       "\n",
       "   Effeciveness  Expertise  Relevance  Overall Organization  Cluster  \n",
       "0             5          5          5                     5        0  \n",
       "1             5          5          5                     4        0  \n",
       "2             4          4          4                     4        2  \n",
       "3             5          5          5                     5        0  \n",
       "4             5          5          5                     5        0  "
      ]
     },
     "execution_count": 44,
     "metadata": {},
     "output_type": "execute_result"
    }
   ],
   "source": [
    "df_class.head()"
   ]
  },
  {
   "cell_type": "markdown",
   "metadata": {},
   "source": [
    "## Visualizing the clustering using first two features"
   ]
  },
  {
   "cell_type": "code",
   "execution_count": 45,
   "metadata": {},
   "outputs": [
    {
     "data": {
      "image/png": "[encoded data removed]",
      "text/plain": [
       "<Figure size 640x480 with 1 Axes>"
      ]
     },
     "metadata": {},
     "output_type": "display_data"
    }
   ],
   "source": [
    "# Visualize the clusters\n",
    "plt.scatter(X[:, 1], X[:, 2], c=labels, cmap='viridis')\n",
    "plt.scatter(centroids[:,1], centroids[:, 2], marker='X', s=200, c='red')\n",
    "plt.xlabel(input_col[1])\n",
    "plt.ylabel(input_col[2])\n",
    "plt.title('K-means Clustering')\n",
    "plt.show()"
   ]
  },
  {
   "cell_type": "markdown",
   "metadata": {
    "id": "XeS10hjzU0Js"
   },
   "source": [
    "## Perception on content quality over Clustors\n"
   ]
  },
  {
   "cell_type": "code",
   "execution_count": 49,
   "metadata": {
    "colab": {
     "base_uri": "https://localhost:8080/",
     "height": 238
    },
    "id": "0gprLA87SSbB",
    "outputId": "6ad39993-345c-4fde-9923-abb50315f26b"
   },
   "outputs": [
    {
     "data": {
      "text/html": [
       "<div>\n",
       "<style scoped>\n",
       "    .dataframe tbody tr th:only-of-type {\n",
       "        vertical-align: middle;\n",
       "    }\n",
       "\n",
       "    .dataframe tbody tr th {\n",
       "        vertical-align: top;\n",
       "    }\n",
       "\n",
       "    .dataframe thead th {\n",
       "        text-align: right;\n",
       "    }\n",
       "</style>\n",
       "<table border=\"1\" class=\"dataframe\">\n",
       "  <thead>\n",
       "    <tr style=\"text-align: right;\">\n",
       "      <th>Cluster</th>\n",
       "      <th>0</th>\n",
       "      <th>1</th>\n",
       "      <th>2</th>\n",
       "    </tr>\n",
       "    <tr>\n",
       "      <th>Content Quality</th>\n",
       "      <th></th>\n",
       "      <th></th>\n",
       "      <th></th>\n",
       "    </tr>\n",
       "  </thead>\n",
       "  <tbody>\n",
       "    <tr>\n",
       "      <th>3</th>\n",
       "      <td>0</td>\n",
       "      <td>10</td>\n",
       "      <td>5</td>\n",
       "    </tr>\n",
       "    <tr>\n",
       "      <th>4</th>\n",
       "      <td>14</td>\n",
       "      <td>1</td>\n",
       "      <td>55</td>\n",
       "    </tr>\n",
       "    <tr>\n",
       "      <th>5</th>\n",
       "      <td>82</td>\n",
       "      <td>0</td>\n",
       "      <td>7</td>\n",
       "    </tr>\n",
       "  </tbody>\n",
       "</table>\n",
       "</div>"
      ],
      "text/plain": [
       "Cluster           0   1   2\n",
       "Content Quality            \n",
       "3                 0  10   5\n",
       "4                14   1  55\n",
       "5                82   0   7"
      ]
     },
     "execution_count": 49,
     "metadata": {},
     "output_type": "execute_result"
    }
   ],
   "source": [
    "pd.crosstab(columns = df_class['Cluster'], index = df_class['Content Quality'])"
   ]
  },
  {
   "cell_type": "code",
   "execution_count": null,
   "metadata": {
    "colab": {
     "base_uri": "https://localhost:8080/",
     "height": 434
    },
    "id": "R1AcGv1iVeGt",
    "outputId": "c800e382-9efe-4a15-fb78-d63a441215d7"
   },
   "outputs": [
    {
     "data": {
      "image/png": "[encoded data removed]",
      "text/plain": [
       "<Figure size 432x288 with 2 Axes>"
      ]
     },
     "metadata": {
      "needs_background": "light"
     },
     "output_type": "display_data"
    }
   ],
   "source": [
    "large_to_small = df_class.groupby('Orange').size().sort_values().index[::-1]\n",
    "ax = plt.subplot(1,2,1)\n",
    "ax = sns.countplot(x='Orange', data=df_class, order=large_to_small)\n",
    "plt.xticks(rotation=90)\n",
    "#ax.bar_label(ax.containers[0])\n",
    "plt.title(\"Likeness of Orange\", fontsize=20,color = 'Brown',pad=20)\n",
    "ax =plt.subplot(1,2,2)\n",
    "ax=df_class['Orange'].value_counts().plot.pie(autopct='%1.2f%%',shadow=True);\n",
    "ax.set_title(label = \"Orange\", fontsize = 20,color='Brown',pad=20);"
   ]
  },
  {
   "cell_type": "markdown",
   "metadata": {
    "id": "lPrR5tV9VDfa"
   },
   "source": [
    "## Grapes\n",
    "\n"
   ]
  },
  {
   "cell_type": "code",
   "execution_count": null,
   "metadata": {
    "colab": {
     "base_uri": "https://localhost:8080/"
    },
    "id": "uhfEN7GeVGLa",
    "outputId": "61c010d7-96b6-4119-b650-6489bc9b2108"
   },
   "outputs": [
    {
     "data": {
      "text/plain": [
       "seasonally                      39.13\n",
       "my favorite                     33.33\n",
       "some what                       15.94\n",
       "if no other fruits available     7.25\n",
       "not at all                       4.35\n",
       "Name: Grapes, dtype: float64"
      ]
     },
     "execution_count": 51,
     "metadata": {},
     "output_type": "execute_result"
    }
   ],
   "source": [
    "## creating a percentage analysis of gender-wise distribution of data\n",
    "round(df_class[\"Grapes\"].value_counts(normalize=True)*100,2)"
   ]
  },
  {
   "cell_type": "code",
   "execution_count": null,
   "metadata": {
    "colab": {
     "base_uri": "https://localhost:8080/",
     "height": 434
    },
    "id": "iGrkOoW4VU6C",
    "outputId": "beb0aa98-4678-4483-a4c6-7b421ac7ba9c"
   },
   "outputs": [
    {
     "data": {
      "image/png": "[encoded data removed]",
      "text/plain": [
       "<Figure size 432x288 with 2 Axes>"
      ]
     },
     "metadata": {
      "needs_background": "light"
     },
     "output_type": "display_data"
    }
   ],
   "source": [
    "large_to_small = df_class.groupby('Grapes').size().sort_values().index[::-1]\n",
    "ax = plt.subplot(1,2,1)\n",
    "ax = sns.countplot(x='Grapes', data=df_class, order=large_to_small)\n",
    "plt.xticks(rotation=90)\n",
    "#ax.bar_label(ax.containers[0])\n",
    "plt.title(\"Likeness of Grapes\", fontsize=20,color = 'Brown',pad=20)\n",
    "ax =plt.subplot(1,2,2)\n",
    "ax=df_class['Grapes'].value_counts().plot.pie(autopct='%1.2f%%',shadow=True);\n",
    "ax.set_title(label = \"Grapes\", fontsize = 20,color='Brown',pad=20);"
   ]
  },
  {
   "cell_type": "code",
   "execution_count": null,
   "metadata": {
    "colab": {
     "base_uri": "https://localhost:8080/",
     "height": 237
    },
    "id": "UQzIh0mGYu4l",
    "outputId": "a9235a9c-1b53-47b7-8b8b-8a9a9a10e9a3"
   },
   "outputs": [
    {
     "data": {
      "text/html": [
       "\n",
       "  <div id=\"df-c850a841-1a49-4cc0-a135-616acc1c6d3b\">\n",
       "    <div class=\"colab-df-container\">\n",
       "      <div>\n",
       "<style scoped>\n",
       "    .dataframe tbody tr th:only-of-type {\n",
       "        vertical-align: middle;\n",
       "    }\n",
       "\n",
       "    .dataframe tbody tr th {\n",
       "        vertical-align: top;\n",
       "    }\n",
       "\n",
       "    .dataframe thead th {\n",
       "        text-align: right;\n",
       "    }\n",
       "</style>\n",
       "<table border=\"1\" class=\"dataframe\">\n",
       "  <thead>\n",
       "    <tr style=\"text-align: right;\">\n",
       "      <th>Age_group</th>\n",
       "      <th>adolescent</th>\n",
       "      <th>youth</th>\n",
       "      <th>elder</th>\n",
       "    </tr>\n",
       "    <tr>\n",
       "      <th>Grapes</th>\n",
       "      <th></th>\n",
       "      <th></th>\n",
       "      <th></th>\n",
       "    </tr>\n",
       "  </thead>\n",
       "  <tbody>\n",
       "    <tr>\n",
       "      <th>if no other fruits available</th>\n",
       "      <td>2.90</td>\n",
       "      <td>4.35</td>\n",
       "      <td>0.00</td>\n",
       "    </tr>\n",
       "    <tr>\n",
       "      <th>my favorite</th>\n",
       "      <td>10.14</td>\n",
       "      <td>22.46</td>\n",
       "      <td>0.72</td>\n",
       "    </tr>\n",
       "    <tr>\n",
       "      <th>not at all</th>\n",
       "      <td>4.35</td>\n",
       "      <td>0.00</td>\n",
       "      <td>0.00</td>\n",
       "    </tr>\n",
       "    <tr>\n",
       "      <th>seasonally</th>\n",
       "      <td>18.12</td>\n",
       "      <td>20.29</td>\n",
       "      <td>0.72</td>\n",
       "    </tr>\n",
       "    <tr>\n",
       "      <th>some what</th>\n",
       "      <td>7.25</td>\n",
       "      <td>7.25</td>\n",
       "      <td>1.45</td>\n",
       "    </tr>\n",
       "  </tbody>\n",
       "</table>\n",
       "</div>\n",
       "      <button class=\"colab-df-convert\" onclick=\"convertToInteractive('df-c850a841-1a49-4cc0-a135-616acc1c6d3b')\"\n",
       "              title=\"Convert this dataframe to an interactive table.\"\n",
       "              style=\"display:none;\">\n",
       "        \n",
       "  <svg xmlns=\"http://www.w3.org/2000/svg\" height=\"24px\"viewBox=\"0 0 24 24\"\n",
       "       width=\"24px\">\n",
       "    <path d=\"M0 0h24v24H0V0z\" fill=\"none\"/>\n",
       "    <path d=\"M18.56 5.44l.94 2.06.94-2.06 2.06-.94-2.06-.94-.94-2.06-.94 2.06-2.06.94zm-11 1L8.5 8.5l.94-2.06 2.06-.94-2.06-.94L8.5 2.5l-.94 2.06-2.06.94zm10 10l.94 2.06.94-2.06 2.06-.94-2.06-.94-.94-2.06-.94 2.06-2.06.94z\"/><path d=\"M17.41 7.96l-1.37-1.37c-.4-.4-.92-.59-1.43-.59-.52 0-1.04.2-1.43.59L10.3 9.45l-7.72 7.72c-.78.78-.78 2.05 0 2.83L4 21.41c.39.39.9.59 1.41.59.51 0 1.02-.2 1.41-.59l7.78-7.78 2.81-2.81c.8-.78.8-2.07 0-2.86zM5.41 20L4 18.59l7.72-7.72 1.47 1.35L5.41 20z\"/>\n",
       "  </svg>\n",
       "      </button>\n",
       "      \n",
       "  <style>\n",
       "    .colab-df-container {\n",
       "      display:flex;\n",
       "      flex-wrap:wrap;\n",
       "      gap: 12px;\n",
       "    }\n",
       "\n",
       "    .colab-df-convert {\n",
       "      background-color: #E8F0FE;\n",
       "      border: none;\n",
       "      border-radius: 50%;\n",
       "      cursor: pointer;\n",
       "      display: none;\n",
       "      fill: #1967D2;\n",
       "      height: 32px;\n",
       "      padding: 0 0 0 0;\n",
       "      width: 32px;\n",
       "    }\n",
       "\n",
       "    .colab-df-convert:hover {\n",
       "      background-color: #E2EBFA;\n",
       "      box-shadow: 0px 1px 2px rgba(60, 64, 67, 0.3), 0px 1px 3px 1px rgba(60, 64, 67, 0.15);\n",
       "      fill: #174EA6;\n",
       "    }\n",
       "\n",
       "    [theme=dark] .colab-df-convert {\n",
       "      background-color: #3B4455;\n",
       "      fill: #D2E3FC;\n",
       "    }\n",
       "\n",
       "    [theme=dark] .colab-df-convert:hover {\n",
       "      background-color: #434B5C;\n",
       "      box-shadow: 0px 1px 3px 1px rgba(0, 0, 0, 0.15);\n",
       "      filter: drop-shadow(0px 1px 2px rgba(0, 0, 0, 0.3));\n",
       "      fill: #FFFFFF;\n",
       "    }\n",
       "  </style>\n",
       "\n",
       "      <script>\n",
       "        const buttonEl =\n",
       "          document.querySelector('#df-c850a841-1a49-4cc0-a135-616acc1c6d3b button.colab-df-convert');\n",
       "        buttonEl.style.display =\n",
       "          google.colab.kernel.accessAllowed ? 'block' : 'none';\n",
       "\n",
       "        async function convertToInteractive(key) {\n",
       "          const element = document.querySelector('#df-c850a841-1a49-4cc0-a135-616acc1c6d3b');\n",
       "          const dataTable =\n",
       "            await google.colab.kernel.invokeFunction('convertToInteractive',\n",
       "                                                     [key], {});\n",
       "          if (!dataTable) return;\n",
       "\n",
       "          const docLinkHtml = 'Like what you see? Visit the ' +\n",
       "            '<a target=\"_blank\" href=https://colab.research.google.com/notebooks/data_table.ipynb>data table notebook</a>'\n",
       "            + ' to learn more about interactive tables.';\n",
       "          element.innerHTML = '';\n",
       "          dataTable['output_type'] = 'display_data';\n",
       "          await google.colab.output.renderOutput(dataTable, element);\n",
       "          const docLink = document.createElement('div');\n",
       "          docLink.innerHTML = docLinkHtml;\n",
       "          element.appendChild(docLink);\n",
       "        }\n",
       "      </script>\n",
       "    </div>\n",
       "  </div>\n",
       "  "
      ],
      "text/plain": [
       "Age_group                     adolescent  youth  elder\n",
       "Grapes                                                \n",
       "if no other fruits available        2.90   4.35   0.00\n",
       "my favorite                        10.14  22.46   0.72\n",
       "not at all                          4.35   0.00   0.00\n",
       "seasonally                         18.12  20.29   0.72\n",
       "some what                           7.25   7.25   1.45"
      ]
     },
     "execution_count": 68,
     "metadata": {},
     "output_type": "execute_result"
    }
   ],
   "source": [
    "round(pd.crosstab(columns = df_class['Age_group'], index = df_class['Grapes'],normalize=True)*100,2)"
   ]
  },
  {
   "cell_type": "markdown",
   "metadata": {
    "id": "RziNjQUqLSXw"
   },
   "source": [
    "## Fruit type -Banana"
   ]
  },
  {
   "cell_type": "code",
   "execution_count": null,
   "metadata": {
    "colab": {
     "base_uri": "https://localhost:8080/"
    },
    "id": "3bBxzF0FLWeH",
    "outputId": "cd650b16-db26-4a66-9fa5-b5ef0dbceff8"
   },
   "outputs": [
    {
     "data": {
      "text/plain": [
       "seasonally                      26.81\n",
       "some what                       23.19\n",
       "my favorite                     22.46\n",
       "if no other fruits available    15.94\n",
       "not at all                      11.59\n",
       "Name: Banana, dtype: float64"
      ]
     },
     "execution_count": 26,
     "metadata": {},
     "output_type": "execute_result"
    }
   ],
   "source": [
    "## creating a percentage analysis of gender-wise distribution of data\n",
    "round(df_class[\"Banana\"].value_counts(normalize=True)*100,2)"
   ]
  },
  {
   "cell_type": "code",
   "execution_count": null,
   "metadata": {
    "colab": {
     "base_uri": "https://localhost:8080/",
     "height": 434
    },
    "id": "Yhtaoi3XLqnF",
    "outputId": "97e8505a-3526-4aed-b184-da37d4ce91ee"
   },
   "outputs": [
    {
     "data": {
      "image/png": "[encoded data removed]",
      "text/plain": [
       "<Figure size 432x288 with 2 Axes>"
      ]
     },
     "metadata": {
      "needs_background": "light"
     },
     "output_type": "display_data"
    }
   ],
   "source": [
    "large_to_small = df_class.groupby('Banana').size().sort_values().index[::-1]\n",
    "ax = plt.subplot(1,2,1)\n",
    "ax = sns.countplot(x='Banana', data=df_class, order=large_to_small)\n",
    "plt.xticks(rotation=90)\n",
    "#ax.bar_label(ax.containers[0])\n",
    "plt.title(\"Likeness of Banana\", fontsize=20,color = 'Brown',pad=20)\n",
    "ax =plt.subplot(1,2,2)\n",
    "ax=df_class['Banana'].value_counts().plot.pie(autopct='%1.2f%%',shadow=True);\n",
    "ax.set_title(label = \"Banana\", fontsize = 20,color='Brown',pad=20);"
   ]
  },
  {
   "cell_type": "code",
   "execution_count": null,
   "metadata": {
    "colab": {
     "base_uri": "https://localhost:8080/",
     "height": 238
    },
    "id": "FSgZDwlrMY98",
    "outputId": "5c2da91f-5361-4da0-a1ae-b28cc6af88f6"
   },
   "outputs": [
    {
     "data": {
      "text/html": [
       "\n",
       "  <div id=\"df-b2010514-23d6-4e73-abd5-9d9cb7f8b76d\">\n",
       "    <div class=\"colab-df-container\">\n",
       "      <div>\n",
       "<style scoped>\n",
       "    .dataframe tbody tr th:only-of-type {\n",
       "        vertical-align: middle;\n",
       "    }\n",
       "\n",
       "    .dataframe tbody tr th {\n",
       "        vertical-align: top;\n",
       "    }\n",
       "\n",
       "    .dataframe thead th {\n",
       "        text-align: right;\n",
       "    }\n",
       "</style>\n",
       "<table border=\"1\" class=\"dataframe\">\n",
       "  <thead>\n",
       "    <tr style=\"text-align: right;\">\n",
       "      <th>Age_group</th>\n",
       "      <th>adolescent</th>\n",
       "      <th>youth</th>\n",
       "      <th>elder</th>\n",
       "    </tr>\n",
       "    <tr>\n",
       "      <th>Banana</th>\n",
       "      <th></th>\n",
       "      <th></th>\n",
       "      <th></th>\n",
       "    </tr>\n",
       "  </thead>\n",
       "  <tbody>\n",
       "    <tr>\n",
       "      <th>if no other fruits available</th>\n",
       "      <td>8.70</td>\n",
       "      <td>7.25</td>\n",
       "      <td>0.00</td>\n",
       "    </tr>\n",
       "    <tr>\n",
       "      <th>my favorite</th>\n",
       "      <td>6.52</td>\n",
       "      <td>15.22</td>\n",
       "      <td>0.72</td>\n",
       "    </tr>\n",
       "    <tr>\n",
       "      <th>not at all</th>\n",
       "      <td>7.25</td>\n",
       "      <td>4.35</td>\n",
       "      <td>0.00</td>\n",
       "    </tr>\n",
       "    <tr>\n",
       "      <th>seasonally</th>\n",
       "      <td>10.14</td>\n",
       "      <td>14.49</td>\n",
       "      <td>2.17</td>\n",
       "    </tr>\n",
       "    <tr>\n",
       "      <th>some what</th>\n",
       "      <td>10.14</td>\n",
       "      <td>13.04</td>\n",
       "      <td>0.00</td>\n",
       "    </tr>\n",
       "  </tbody>\n",
       "</table>\n",
       "</div>\n",
       "      <button class=\"colab-df-convert\" onclick=\"convertToInteractive('df-b2010514-23d6-4e73-abd5-9d9cb7f8b76d')\"\n",
       "              title=\"Convert this dataframe to an interactive table.\"\n",
       "              style=\"display:none;\">\n",
       "        \n",
       "  <svg xmlns=\"http://www.w3.org/2000/svg\" height=\"24px\"viewBox=\"0 0 24 24\"\n",
       "       width=\"24px\">\n",
       "    <path d=\"M0 0h24v24H0V0z\" fill=\"none\"/>\n",
       "    <path d=\"M18.56 5.44l.94 2.06.94-2.06 2.06-.94-2.06-.94-.94-2.06-.94 2.06-2.06.94zm-11 1L8.5 8.5l.94-2.06 2.06-.94-2.06-.94L8.5 2.5l-.94 2.06-2.06.94zm10 10l.94 2.06.94-2.06 2.06-.94-2.06-.94-.94-2.06-.94 2.06-2.06.94z\"/><path d=\"M17.41 7.96l-1.37-1.37c-.4-.4-.92-.59-1.43-.59-.52 0-1.04.2-1.43.59L10.3 9.45l-7.72 7.72c-.78.78-.78 2.05 0 2.83L4 21.41c.39.39.9.59 1.41.59.51 0 1.02-.2 1.41-.59l7.78-7.78 2.81-2.81c.8-.78.8-2.07 0-2.86zM5.41 20L4 18.59l7.72-7.72 1.47 1.35L5.41 20z\"/>\n",
       "  </svg>\n",
       "      </button>\n",
       "      \n",
       "  <style>\n",
       "    .colab-df-container {\n",
       "      display:flex;\n",
       "      flex-wrap:wrap;\n",
       "      gap: 12px;\n",
       "    }\n",
       "\n",
       "    .colab-df-convert {\n",
       "      background-color: #E8F0FE;\n",
       "      border: none;\n",
       "      border-radius: 50%;\n",
       "      cursor: pointer;\n",
       "      display: none;\n",
       "      fill: #1967D2;\n",
       "      height: 32px;\n",
       "      padding: 0 0 0 0;\n",
       "      width: 32px;\n",
       "    }\n",
       "\n",
       "    .colab-df-convert:hover {\n",
       "      background-color: #E2EBFA;\n",
       "      box-shadow: 0px 1px 2px rgba(60, 64, 67, 0.3), 0px 1px 3px 1px rgba(60, 64, 67, 0.15);\n",
       "      fill: #174EA6;\n",
       "    }\n",
       "\n",
       "    [theme=dark] .colab-df-convert {\n",
       "      background-color: #3B4455;\n",
       "      fill: #D2E3FC;\n",
       "    }\n",
       "\n",
       "    [theme=dark] .colab-df-convert:hover {\n",
       "      background-color: #434B5C;\n",
       "      box-shadow: 0px 1px 3px 1px rgba(0, 0, 0, 0.15);\n",
       "      filter: drop-shadow(0px 1px 2px rgba(0, 0, 0, 0.3));\n",
       "      fill: #FFFFFF;\n",
       "    }\n",
       "  </style>\n",
       "\n",
       "      <script>\n",
       "        const buttonEl =\n",
       "          document.querySelector('#df-b2010514-23d6-4e73-abd5-9d9cb7f8b76d button.colab-df-convert');\n",
       "        buttonEl.style.display =\n",
       "          google.colab.kernel.accessAllowed ? 'block' : 'none';\n",
       "\n",
       "        async function convertToInteractive(key) {\n",
       "          const element = document.querySelector('#df-b2010514-23d6-4e73-abd5-9d9cb7f8b76d');\n",
       "          const dataTable =\n",
       "            await google.colab.kernel.invokeFunction('convertToInteractive',\n",
       "                                                     [key], {});\n",
       "          if (!dataTable) return;\n",
       "\n",
       "          const docLinkHtml = 'Like what you see? Visit the ' +\n",
       "            '<a target=\"_blank\" href=https://colab.research.google.com/notebooks/data_table.ipynb>data table notebook</a>'\n",
       "            + ' to learn more about interactive tables.';\n",
       "          element.innerHTML = '';\n",
       "          dataTable['output_type'] = 'display_data';\n",
       "          await google.colab.output.renderOutput(dataTable, element);\n",
       "          const docLink = document.createElement('div');\n",
       "          docLink.innerHTML = docLinkHtml;\n",
       "          element.appendChild(docLink);\n",
       "        }\n",
       "      </script>\n",
       "    </div>\n",
       "  </div>\n",
       "  "
      ],
      "text/plain": [
       "Age_group                     adolescent  youth  elder\n",
       "Banana                                                \n",
       "if no other fruits available        8.70   7.25   0.00\n",
       "my favorite                         6.52  15.22   0.72\n",
       "not at all                          7.25   4.35   0.00\n",
       "seasonally                         10.14  14.49   2.17\n",
       "some what                          10.14  13.04   0.00"
      ]
     },
     "execution_count": 29,
     "metadata": {},
     "output_type": "execute_result"
    }
   ],
   "source": [
    "round(pd.crosstab(columns = df_class['Age_group'], index = df_class['Banana'],normalize=True)*100,2)"
   ]
  },
  {
   "cell_type": "code",
   "execution_count": null,
   "metadata": {
    "colab": {
     "base_uri": "https://localhost:8080/",
     "height": 238
    },
    "id": "FD8PbMumMnd4",
    "outputId": "0cc1eba0-8808-4767-c8fc-a7e84769f896"
   },
   "outputs": [
    {
     "data": {
      "text/html": [
       "\n",
       "  <div id=\"df-7acc50db-a66f-45a2-87a0-fbce78373de9\">\n",
       "    <div class=\"colab-df-container\">\n",
       "      <div>\n",
       "<style scoped>\n",
       "    .dataframe tbody tr th:only-of-type {\n",
       "        vertical-align: middle;\n",
       "    }\n",
       "\n",
       "    .dataframe tbody tr th {\n",
       "        vertical-align: top;\n",
       "    }\n",
       "\n",
       "    .dataframe thead th {\n",
       "        text-align: right;\n",
       "    }\n",
       "</style>\n",
       "<table border=\"1\" class=\"dataframe\">\n",
       "  <thead>\n",
       "    <tr style=\"text-align: right;\">\n",
       "      <th>Gender</th>\n",
       "      <th>Female</th>\n",
       "      <th>Male</th>\n",
       "    </tr>\n",
       "    <tr>\n",
       "      <th>Banana</th>\n",
       "      <th></th>\n",
       "      <th></th>\n",
       "    </tr>\n",
       "  </thead>\n",
       "  <tbody>\n",
       "    <tr>\n",
       "      <th>if no other fruits available</th>\n",
       "      <td>9.42</td>\n",
       "      <td>6.52</td>\n",
       "    </tr>\n",
       "    <tr>\n",
       "      <th>my favorite</th>\n",
       "      <td>13.77</td>\n",
       "      <td>8.70</td>\n",
       "    </tr>\n",
       "    <tr>\n",
       "      <th>not at all</th>\n",
       "      <td>7.25</td>\n",
       "      <td>4.35</td>\n",
       "    </tr>\n",
       "    <tr>\n",
       "      <th>seasonally</th>\n",
       "      <td>14.49</td>\n",
       "      <td>12.32</td>\n",
       "    </tr>\n",
       "    <tr>\n",
       "      <th>some what</th>\n",
       "      <td>14.49</td>\n",
       "      <td>8.70</td>\n",
       "    </tr>\n",
       "  </tbody>\n",
       "</table>\n",
       "</div>\n",
       "      <button class=\"colab-df-convert\" onclick=\"convertToInteractive('df-7acc50db-a66f-45a2-87a0-fbce78373de9')\"\n",
       "              title=\"Convert this dataframe to an interactive table.\"\n",
       "              style=\"display:none;\">\n",
       "        \n",
       "  <svg xmlns=\"http://www.w3.org/2000/svg\" height=\"24px\"viewBox=\"0 0 24 24\"\n",
       "       width=\"24px\">\n",
       "    <path d=\"M0 0h24v24H0V0z\" fill=\"none\"/>\n",
       "    <path d=\"M18.56 5.44l.94 2.06.94-2.06 2.06-.94-2.06-.94-.94-2.06-.94 2.06-2.06.94zm-11 1L8.5 8.5l.94-2.06 2.06-.94-2.06-.94L8.5 2.5l-.94 2.06-2.06.94zm10 10l.94 2.06.94-2.06 2.06-.94-2.06-.94-.94-2.06-.94 2.06-2.06.94z\"/><path d=\"M17.41 7.96l-1.37-1.37c-.4-.4-.92-.59-1.43-.59-.52 0-1.04.2-1.43.59L10.3 9.45l-7.72 7.72c-.78.78-.78 2.05 0 2.83L4 21.41c.39.39.9.59 1.41.59.51 0 1.02-.2 1.41-.59l7.78-7.78 2.81-2.81c.8-.78.8-2.07 0-2.86zM5.41 20L4 18.59l7.72-7.72 1.47 1.35L5.41 20z\"/>\n",
       "  </svg>\n",
       "      </button>\n",
       "      \n",
       "  <style>\n",
       "    .colab-df-container {\n",
       "      display:flex;\n",
       "      flex-wrap:wrap;\n",
       "      gap: 12px;\n",
       "    }\n",
       "\n",
       "    .colab-df-convert {\n",
       "      background-color: #E8F0FE;\n",
       "      border: none;\n",
       "      border-radius: 50%;\n",
       "      cursor: pointer;\n",
       "      display: none;\n",
       "      fill: #1967D2;\n",
       "      height: 32px;\n",
       "      padding: 0 0 0 0;\n",
       "      width: 32px;\n",
       "    }\n",
       "\n",
       "    .colab-df-convert:hover {\n",
       "      background-color: #E2EBFA;\n",
       "      box-shadow: 0px 1px 2px rgba(60, 64, 67, 0.3), 0px 1px 3px 1px rgba(60, 64, 67, 0.15);\n",
       "      fill: #174EA6;\n",
       "    }\n",
       "\n",
       "    [theme=dark] .colab-df-convert {\n",
       "      background-color: #3B4455;\n",
       "      fill: #D2E3FC;\n",
       "    }\n",
       "\n",
       "    [theme=dark] .colab-df-convert:hover {\n",
       "      background-color: #434B5C;\n",
       "      box-shadow: 0px 1px 3px 1px rgba(0, 0, 0, 0.15);\n",
       "      filter: drop-shadow(0px 1px 2px rgba(0, 0, 0, 0.3));\n",
       "      fill: #FFFFFF;\n",
       "    }\n",
       "  </style>\n",
       "\n",
       "      <script>\n",
       "        const buttonEl =\n",
       "          document.querySelector('#df-7acc50db-a66f-45a2-87a0-fbce78373de9 button.colab-df-convert');\n",
       "        buttonEl.style.display =\n",
       "          google.colab.kernel.accessAllowed ? 'block' : 'none';\n",
       "\n",
       "        async function convertToInteractive(key) {\n",
       "          const element = document.querySelector('#df-7acc50db-a66f-45a2-87a0-fbce78373de9');\n",
       "          const dataTable =\n",
       "            await google.colab.kernel.invokeFunction('convertToInteractive',\n",
       "                                                     [key], {});\n",
       "          if (!dataTable) return;\n",
       "\n",
       "          const docLinkHtml = 'Like what you see? Visit the ' +\n",
       "            '<a target=\"_blank\" href=https://colab.research.google.com/notebooks/data_table.ipynb>data table notebook</a>'\n",
       "            + ' to learn more about interactive tables.';\n",
       "          element.innerHTML = '';\n",
       "          dataTable['output_type'] = 'display_data';\n",
       "          await google.colab.output.renderOutput(dataTable, element);\n",
       "          const docLink = document.createElement('div');\n",
       "          docLink.innerHTML = docLinkHtml;\n",
       "          element.appendChild(docLink);\n",
       "        }\n",
       "      </script>\n",
       "    </div>\n",
       "  </div>\n",
       "  "
      ],
      "text/plain": [
       "Gender                        Female   Male\n",
       "Banana                                     \n",
       "if no other fruits available    9.42   6.52\n",
       "my favorite                    13.77   8.70\n",
       "not at all                      7.25   4.35\n",
       "seasonally                     14.49  12.32\n",
       "some what                      14.49   8.70"
      ]
     },
     "execution_count": 30,
     "metadata": {},
     "output_type": "execute_result"
    }
   ],
   "source": [
    "round(pd.crosstab(columns = df_class['Gender'], index = df_class['Banana'],normalize=True)*100,2)"
   ]
  },
  {
   "cell_type": "markdown",
   "metadata": {
    "id": "8DWcAcMeMYNB"
   },
   "source": []
  },
  {
   "cell_type": "markdown",
   "metadata": {
    "id": "cla211_BPg7Z"
   },
   "source": [
    "## Bring all the analysis into one figure"
   ]
  },
  {
   "cell_type": "code",
   "execution_count": null,
   "metadata": {
    "id": "e5eIrvhSPf9M"
   },
   "outputs": [],
   "source": [
    "df_long=pd.melt(df_class, id_vars=[\"Gender\",\"Age\",\"Weight\",\"Height\",\"Age_group\"], value_vars=[\"Orange\", \"Grapes\", \"Banana\",\"Apple\",\"Mango\",\"Cherry\"], var_name=\"Fruit\", value_name=\"Rating\", ignore_index=False)"
   ]
  },
  {
   "cell_type": "markdown",
   "metadata": {
    "id": "-fRlzyFCNgFB"
   },
   "source": [
    "## Comparison of Fruit preference"
   ]
  },
  {
   "cell_type": "code",
   "execution_count": null,
   "metadata": {
    "colab": {
     "base_uri": "https://localhost:8080/"
    },
    "id": "eoQqRJsgVTeS",
    "outputId": "5c28a8ff-ea9f-43b2-bb86-cbd621c69cb9"
   },
   "outputs": [
    {
     "data": {
      "text/plain": [
       "seasonally                      284\n",
       "my favorite                     274\n",
       "some what                       158\n",
       "if no other fruits available     58\n",
       "not at all                       54\n",
       "Name: Rating, dtype: int64"
      ]
     },
     "execution_count": 33,
     "metadata": {},
     "output_type": "execute_result"
    }
   ],
   "source": [
    "df_long['Rating'].value_counts(ascending=False)"
   ]
  },
  {
   "cell_type": "code",
   "execution_count": null,
   "metadata": {
    "colab": {
     "base_uri": "https://localhost:8080/",
     "height": 238
    },
    "id": "x34SXMVUN1aK",
    "outputId": "299622b2-8547-4598-e94d-7f232be6bc51"
   },
   "outputs": [
    {
     "data": {
      "text/html": [
       "\n",
       "  <div id=\"df-eb1f7312-ffa3-45cc-8b40-3b20d20e0447\">\n",
       "    <div class=\"colab-df-container\">\n",
       "      <div>\n",
       "<style scoped>\n",
       "    .dataframe tbody tr th:only-of-type {\n",
       "        vertical-align: middle;\n",
       "    }\n",
       "\n",
       "    .dataframe tbody tr th {\n",
       "        vertical-align: top;\n",
       "    }\n",
       "\n",
       "    .dataframe thead th {\n",
       "        text-align: right;\n",
       "    }\n",
       "</style>\n",
       "<table border=\"1\" class=\"dataframe\">\n",
       "  <thead>\n",
       "    <tr style=\"text-align: right;\">\n",
       "      <th>Fruit</th>\n",
       "      <th>Apple</th>\n",
       "      <th>Banana</th>\n",
       "      <th>Cherry</th>\n",
       "      <th>Grapes</th>\n",
       "      <th>Mango</th>\n",
       "      <th>Orange</th>\n",
       "    </tr>\n",
       "    <tr>\n",
       "      <th>Rating</th>\n",
       "      <th></th>\n",
       "      <th></th>\n",
       "      <th></th>\n",
       "      <th></th>\n",
       "      <th></th>\n",
       "      <th></th>\n",
       "    </tr>\n",
       "  </thead>\n",
       "  <tbody>\n",
       "    <tr>\n",
       "      <th>if no other fruits available</th>\n",
       "      <td>0.60</td>\n",
       "      <td>2.66</td>\n",
       "      <td>2.05</td>\n",
       "      <td>1.21</td>\n",
       "      <td>0.00</td>\n",
       "      <td>0.48</td>\n",
       "    </tr>\n",
       "    <tr>\n",
       "      <th>my favorite</th>\n",
       "      <td>5.80</td>\n",
       "      <td>3.74</td>\n",
       "      <td>2.66</td>\n",
       "      <td>5.56</td>\n",
       "      <td>10.51</td>\n",
       "      <td>4.83</td>\n",
       "    </tr>\n",
       "    <tr>\n",
       "      <th>not at all</th>\n",
       "      <td>0.60</td>\n",
       "      <td>1.93</td>\n",
       "      <td>2.05</td>\n",
       "      <td>0.72</td>\n",
       "      <td>0.72</td>\n",
       "      <td>0.48</td>\n",
       "    </tr>\n",
       "    <tr>\n",
       "      <th>seasonally</th>\n",
       "      <td>6.04</td>\n",
       "      <td>4.47</td>\n",
       "      <td>5.19</td>\n",
       "      <td>6.52</td>\n",
       "      <td>4.47</td>\n",
       "      <td>7.61</td>\n",
       "    </tr>\n",
       "    <tr>\n",
       "      <th>some what</th>\n",
       "      <td>3.62</td>\n",
       "      <td>3.86</td>\n",
       "      <td>4.71</td>\n",
       "      <td>2.66</td>\n",
       "      <td>0.97</td>\n",
       "      <td>3.26</td>\n",
       "    </tr>\n",
       "  </tbody>\n",
       "</table>\n",
       "</div>\n",
       "      <button class=\"colab-df-convert\" onclick=\"convertToInteractive('df-eb1f7312-ffa3-45cc-8b40-3b20d20e0447')\"\n",
       "              title=\"Convert this dataframe to an interactive table.\"\n",
       "              style=\"display:none;\">\n",
       "        \n",
       "  <svg xmlns=\"http://www.w3.org/2000/svg\" height=\"24px\"viewBox=\"0 0 24 24\"\n",
       "       width=\"24px\">\n",
       "    <path d=\"M0 0h24v24H0V0z\" fill=\"none\"/>\n",
       "    <path d=\"M18.56 5.44l.94 2.06.94-2.06 2.06-.94-2.06-.94-.94-2.06-.94 2.06-2.06.94zm-11 1L8.5 8.5l.94-2.06 2.06-.94-2.06-.94L8.5 2.5l-.94 2.06-2.06.94zm10 10l.94 2.06.94-2.06 2.06-.94-2.06-.94-.94-2.06-.94 2.06-2.06.94z\"/><path d=\"M17.41 7.96l-1.37-1.37c-.4-.4-.92-.59-1.43-.59-.52 0-1.04.2-1.43.59L10.3 9.45l-7.72 7.72c-.78.78-.78 2.05 0 2.83L4 21.41c.39.39.9.59 1.41.59.51 0 1.02-.2 1.41-.59l7.78-7.78 2.81-2.81c.8-.78.8-2.07 0-2.86zM5.41 20L4 18.59l7.72-7.72 1.47 1.35L5.41 20z\"/>\n",
       "  </svg>\n",
       "      </button>\n",
       "      \n",
       "  <style>\n",
       "    .colab-df-container {\n",
       "      display:flex;\n",
       "      flex-wrap:wrap;\n",
       "      gap: 12px;\n",
       "    }\n",
       "\n",
       "    .colab-df-convert {\n",
       "      background-color: #E8F0FE;\n",
       "      border: none;\n",
       "      border-radius: 50%;\n",
       "      cursor: pointer;\n",
       "      display: none;\n",
       "      fill: #1967D2;\n",
       "      height: 32px;\n",
       "      padding: 0 0 0 0;\n",
       "      width: 32px;\n",
       "    }\n",
       "\n",
       "    .colab-df-convert:hover {\n",
       "      background-color: #E2EBFA;\n",
       "      box-shadow: 0px 1px 2px rgba(60, 64, 67, 0.3), 0px 1px 3px 1px rgba(60, 64, 67, 0.15);\n",
       "      fill: #174EA6;\n",
       "    }\n",
       "\n",
       "    [theme=dark] .colab-df-convert {\n",
       "      background-color: #3B4455;\n",
       "      fill: #D2E3FC;\n",
       "    }\n",
       "\n",
       "    [theme=dark] .colab-df-convert:hover {\n",
       "      background-color: #434B5C;\n",
       "      box-shadow: 0px 1px 3px 1px rgba(0, 0, 0, 0.15);\n",
       "      filter: drop-shadow(0px 1px 2px rgba(0, 0, 0, 0.3));\n",
       "      fill: #FFFFFF;\n",
       "    }\n",
       "  </style>\n",
       "\n",
       "      <script>\n",
       "        const buttonEl =\n",
       "          document.querySelector('#df-eb1f7312-ffa3-45cc-8b40-3b20d20e0447 button.colab-df-convert');\n",
       "        buttonEl.style.display =\n",
       "          google.colab.kernel.accessAllowed ? 'block' : 'none';\n",
       "\n",
       "        async function convertToInteractive(key) {\n",
       "          const element = document.querySelector('#df-eb1f7312-ffa3-45cc-8b40-3b20d20e0447');\n",
       "          const dataTable =\n",
       "            await google.colab.kernel.invokeFunction('convertToInteractive',\n",
       "                                                     [key], {});\n",
       "          if (!dataTable) return;\n",
       "\n",
       "          const docLinkHtml = 'Like what you see? Visit the ' +\n",
       "            '<a target=\"_blank\" href=https://colab.research.google.com/notebooks/data_table.ipynb>data table notebook</a>'\n",
       "            + ' to learn more about interactive tables.';\n",
       "          element.innerHTML = '';\n",
       "          dataTable['output_type'] = 'display_data';\n",
       "          await google.colab.output.renderOutput(dataTable, element);\n",
       "          const docLink = document.createElement('div');\n",
       "          docLink.innerHTML = docLinkHtml;\n",
       "          element.appendChild(docLink);\n",
       "        }\n",
       "      </script>\n",
       "    </div>\n",
       "  </div>\n",
       "  "
      ],
      "text/plain": [
       "Fruit                         Apple  Banana  Cherry  Grapes  Mango  Orange\n",
       "Rating                                                                    \n",
       "if no other fruits available   0.60    2.66    2.05    1.21   0.00    0.48\n",
       "my favorite                    5.80    3.74    2.66    5.56  10.51    4.83\n",
       "not at all                     0.60    1.93    2.05    0.72   0.72    0.48\n",
       "seasonally                     6.04    4.47    5.19    6.52   4.47    7.61\n",
       "some what                      3.62    3.86    4.71    2.66   0.97    3.26"
      ]
     },
     "execution_count": 36,
     "metadata": {},
     "output_type": "execute_result"
    }
   ],
   "source": [
    "round(pd.crosstab(columns = df_long['Fruit'], index = df_long['Rating'],normalize=True)*100,2)"
   ]
  },
  {
   "cell_type": "code",
   "execution_count": null,
   "metadata": {
    "colab": {
     "base_uri": "https://localhost:8080/",
     "height": 300
    },
    "id": "caalfnOgOTHz",
    "outputId": "ae751594-7fa4-4147-e10d-70c2ad0975c6"
   },
   "outputs": [
    {
     "data": {
      "text/html": [
       "<style type=\"text/css\">\n",
       "#T_c1809_row0_col0, #T_c1809_row0_col1, #T_c1809_row0_col2 {\n",
       "  background-color: #ff0000;\n",
       "  color: #f1f1f1;\n",
       "}\n",
       "#T_c1809_row1_col0, #T_c1809_row4_col0, #T_c1809_row5_col0, #T_c1809_row6_col0 {\n",
       "  background-color: #7610ff;\n",
       "  color: #f1f1f1;\n",
       "}\n",
       "#T_c1809_row1_col1 {\n",
       "  background-color: #642cfe;\n",
       "  color: #f1f1f1;\n",
       "}\n",
       "#T_c1809_row1_col2, #T_c1809_row5_col2 {\n",
       "  background-color: #208ef4;\n",
       "  color: #f1f1f1;\n",
       "}\n",
       "#T_c1809_row2_col0, #T_c1809_row2_col1, #T_c1809_row3_col2 {\n",
       "  background-color: #8000ff;\n",
       "  color: #f1f1f1;\n",
       "}\n",
       "#T_c1809_row2_col2, #T_c1809_row3_col0 {\n",
       "  background-color: #780dff;\n",
       "  color: #f1f1f1;\n",
       "}\n",
       "#T_c1809_row3_col1 {\n",
       "  background-color: #7216ff;\n",
       "  color: #f1f1f1;\n",
       "}\n",
       "#T_c1809_row4_col1 {\n",
       "  background-color: #6a22fe;\n",
       "  color: #f1f1f1;\n",
       "}\n",
       "#T_c1809_row4_col2 {\n",
       "  background-color: #2489f5;\n",
       "  color: #f1f1f1;\n",
       "}\n",
       "#T_c1809_row5_col1 {\n",
       "  background-color: #6629fe;\n",
       "  color: #f1f1f1;\n",
       "}\n",
       "#T_c1809_row6_col1 {\n",
       "  background-color: #6032fe;\n",
       "  color: #f1f1f1;\n",
       "}\n",
       "#T_c1809_row6_col2 {\n",
       "  background-color: #1996f3;\n",
       "  color: #f1f1f1;\n",
       "}\n",
       "#T_c1809_row7_col0 {\n",
       "  background-color: #6826fe;\n",
       "  color: #f1f1f1;\n",
       "}\n",
       "#T_c1809_row7_col1 {\n",
       "  background-color: #2981f6;\n",
       "  color: #f1f1f1;\n",
       "}\n",
       "#T_c1809_row7_col2 {\n",
       "  background-color: #0ea5ef;\n",
       "  color: #f1f1f1;\n",
       "}\n",
       "</style>\n",
       "<table id=\"T_c1809_\" class=\"dataframe\">\n",
       "  <thead>\n",
       "    <tr>\n",
       "      <th class=\"blank level0\" >&nbsp;</th>\n",
       "      <th class=\"col_heading level0 col0\" >Age</th>\n",
       "      <th class=\"col_heading level0 col1\" >Weight</th>\n",
       "      <th class=\"col_heading level0 col2\" >Height</th>\n",
       "    </tr>\n",
       "  </thead>\n",
       "  <tbody>\n",
       "    <tr>\n",
       "      <th id=\"T_c1809_level0_row0\" class=\"row_heading level0 row0\" >count</th>\n",
       "      <td id=\"T_c1809_row0_col0\" class=\"data row0 col0\" >828.000</td>\n",
       "      <td id=\"T_c1809_row0_col1\" class=\"data row0 col1\" >828.000</td>\n",
       "      <td id=\"T_c1809_row0_col2\" class=\"data row0 col2\" >828.000</td>\n",
       "    </tr>\n",
       "    <tr>\n",
       "      <th id=\"T_c1809_level0_row1\" class=\"row_heading level0 row1\" >mean</th>\n",
       "      <td id=\"T_c1809_row1_col0\" class=\"data row1 col0\" >21.297</td>\n",
       "      <td id=\"T_c1809_row1_col1\" class=\"data row1 col1\" >59.848</td>\n",
       "      <td id=\"T_c1809_row1_col2\" class=\"data row1 col2\" >161.049</td>\n",
       "    </tr>\n",
       "    <tr>\n",
       "      <th id=\"T_c1809_level0_row2\" class=\"row_heading level0 row2\" >std</th>\n",
       "      <td id=\"T_c1809_row2_col0\" class=\"data row2 col0\" >3.197</td>\n",
       "      <td id=\"T_c1809_row2_col1\" class=\"data row2 col1\" >14.924</td>\n",
       "      <td id=\"T_c1809_row2_col2\" class=\"data row2 col2\" >21.113</td>\n",
       "    </tr>\n",
       "    <tr>\n",
       "      <th id=\"T_c1809_level0_row3\" class=\"row_heading level0 row3\" >min</th>\n",
       "      <td id=\"T_c1809_row3_col0\" class=\"data row3 col0\" >19.000</td>\n",
       "      <td id=\"T_c1809_row3_col1\" class=\"data row3 col1\" >40.000</td>\n",
       "      <td id=\"T_c1809_row3_col2\" class=\"data row3 col2\" >5.700</td>\n",
       "    </tr>\n",
       "    <tr>\n",
       "      <th id=\"T_c1809_level0_row4\" class=\"row_heading level0 row4\" >25%</th>\n",
       "      <td id=\"T_c1809_row4_col0\" class=\"data row4 col0\" >20.000</td>\n",
       "      <td id=\"T_c1809_row4_col1\" class=\"data row4 col1\" >50.000</td>\n",
       "      <td id=\"T_c1809_row4_col2\" class=\"data row4 col2\" >155.000</td>\n",
       "    </tr>\n",
       "    <tr>\n",
       "      <th id=\"T_c1809_level0_row5\" class=\"row_heading level0 row5\" >50%</th>\n",
       "      <td id=\"T_c1809_row5_col0\" class=\"data row5 col0\" >21.000</td>\n",
       "      <td id=\"T_c1809_row5_col1\" class=\"data row5 col1\" >57.500</td>\n",
       "      <td id=\"T_c1809_row5_col2\" class=\"data row5 col2\" >163.000</td>\n",
       "    </tr>\n",
       "    <tr>\n",
       "      <th id=\"T_c1809_level0_row6\" class=\"row_heading level0 row6\" >75%</th>\n",
       "      <td id=\"T_c1809_row6_col0\" class=\"data row6 col0\" >21.000</td>\n",
       "      <td id=\"T_c1809_row6_col1\" class=\"data row6 col1\" >66.000</td>\n",
       "      <td id=\"T_c1809_row6_col2\" class=\"data row6 col2\" >171.000</td>\n",
       "    </tr>\n",
       "    <tr>\n",
       "      <th id=\"T_c1809_level0_row7\" class=\"row_heading level0 row7\" >max</th>\n",
       "      <td id=\"T_c1809_row7_col0\" class=\"data row7 col0\" >42.000</td>\n",
       "      <td id=\"T_c1809_row7_col1\" class=\"data row7 col1\" >153.000</td>\n",
       "      <td id=\"T_c1809_row7_col2\" class=\"data row7 col2\" >190.000</td>\n",
       "    </tr>\n",
       "  </tbody>\n",
       "</table>\n"
      ],
      "text/plain": [
       "<pandas.io.formats.style.Styler at 0x7fc3bc14d0d0>"
      ]
     },
     "execution_count": 37,
     "metadata": {},
     "output_type": "execute_result"
    }
   ],
   "source": [
    "df_long.describe().style.background_gradient(cmap='rainbow').set_precision(3)"
   ]
  },
  {
   "cell_type": "code",
   "execution_count": null,
   "metadata": {
    "colab": {
     "base_uri": "https://localhost:8080/",
     "height": 1000
    },
    "id": "WQ4baNGhOuCs",
    "outputId": "bc4fc0fb-dcab-4ab0-df80-1139cfcc9006"
   },
   "outputs": [
    {
     "data": {
      "image/png": "[encoded data removed]",
      "text/plain": [
       "<Figure size 1080x1152 with 2 Axes>"
      ]
     },
     "metadata": {
      "needs_background": "light"
     },
     "output_type": "display_data"
    }
   ],
   "source": [
    "ax = plt.figure(figsize = (15,16))\n",
    "ax = plt.subplot(2,1,1)\n",
    "ax = sns.countplot(data=df_long, y='Fruit', hue='Rating',dodge=True)\n",
    "#ax.bar_label(ax.containers[0])\n",
    "plt.title(\"Fruit Type\", fontsize=20,color = 'Brown',pad=20)\n",
    "plt.legend(loc='upper right')\n",
    "plt.xticks(rotation=65)\n",
    "plt.tight_layout()\n",
    "\n",
    "ax =plt.subplot(2,1,2)\n",
    "ax=df_long['Rating'].value_counts().plot.pie(explode=[0.1, 0.1,0.1,0.1, 0.1],autopct='%1.2f%%',shadow=True);\n",
    "plt.tight_layout()\n",
    "plt.axis('off');"
   ]
  },
  {
   "cell_type": "markdown",
   "metadata": {
    "id": "zbmA1V8Obg07"
   },
   "source": [
    "## Generalisation of findings using inferential statistics"
   ]
  },
  {
   "cell_type": "code",
   "execution_count": null,
   "metadata": {
    "colab": {
     "base_uri": "https://localhost:8080/"
    },
    "id": "Ql2md13Sc2ls",
    "outputId": "0bb356d1-1749-4938-d944-0e43d213cb5b"
   },
   "outputs": [
    {
     "name": "stdout",
     "output_type": "stream",
     "text": [
      "Looking in indexes: https://pypi.org/simple, https://us-python.pkg.dev/colab-wheels/public/simple/\n",
      "Collecting researchpy\n",
      "  Downloading researchpy-0.3.5-py3-none-any.whl (33 kB)\n",
      "Requirement already satisfied: numpy in /usr/local/lib/python3.8/dist-packages (from researchpy) (1.21.6)\n",
      "Requirement already satisfied: statsmodels in /usr/local/lib/python3.8/dist-packages (from researchpy) (0.12.2)\n",
      "Requirement already satisfied: pandas in /usr/local/lib/python3.8/dist-packages (from researchpy) (1.3.5)\n",
      "Requirement already satisfied: scipy in /usr/local/lib/python3.8/dist-packages (from researchpy) (1.7.3)\n",
      "Requirement already satisfied: patsy in /usr/local/lib/python3.8/dist-packages (from researchpy) (0.5.3)\n",
      "Requirement already satisfied: python-dateutil>=2.7.3 in /usr/local/lib/python3.8/dist-packages (from pandas->researchpy) (2.8.2)\n",
      "Requirement already satisfied: pytz>=2017.3 in /usr/local/lib/python3.8/dist-packages (from pandas->researchpy) (2022.7)\n",
      "Requirement already satisfied: six in /usr/local/lib/python3.8/dist-packages (from patsy->researchpy) (1.15.0)\n",
      "Installing collected packages: researchpy\n",
      "Successfully installed researchpy-0.3.5\n"
     ]
    }
   ],
   "source": [
    "!pip install researchpy"
   ]
  },
  {
   "cell_type": "code",
   "execution_count": null,
   "metadata": {
    "id": "kJT8ZeXpcrMM"
   },
   "outputs": [],
   "source": [
    "# libraries for inferential analysis\n",
    "import researchpy as rp\n",
    "import scipy.stats as stats\n",
    "import statsmodels.api as sm"
   ]
  },
  {
   "cell_type": "markdown",
   "metadata": {
    "id": "BoZxTWNbboKd"
   },
   "source": [
    "1. **Significance of gender over the fruit rating categories**\n",
    "\n",
    "Here we starts with the assumtion that;\n",
    "\n",
    "$H_0$: Gender has no significance impact on the fruit rating level\n",
    "\n",
    "$H_1$: Gender has a significant impact on the fruit rating level\n",
    "\n",
    "Note that here both gender and fruit rating are categorical variable. So a possibility for cross tabulation is here. Hence we can check the homogenity of distribution using a $\\chi^2$ test."
   ]
  },
  {
   "cell_type": "code",
   "execution_count": null,
   "metadata": {
    "colab": {
     "base_uri": "https://localhost:8080/",
     "height": 269
    },
    "id": "_5bdTiV-d4rd",
    "outputId": "5fa8c9f4-0a24-4475-bc05-c8980a14f2d7"
   },
   "outputs": [
    {
     "data": {
      "text/html": [
       "\n",
       "  <div id=\"df-50a651a3-be5f-4cc0-8753-94a43d3b5940\">\n",
       "    <div class=\"colab-df-container\">\n",
       "      <div>\n",
       "<style scoped>\n",
       "    .dataframe tbody tr th:only-of-type {\n",
       "        vertical-align: middle;\n",
       "    }\n",
       "\n",
       "    .dataframe tbody tr th {\n",
       "        vertical-align: top;\n",
       "    }\n",
       "\n",
       "    .dataframe thead th {\n",
       "        text-align: right;\n",
       "    }\n",
       "</style>\n",
       "<table border=\"1\" class=\"dataframe\">\n",
       "  <thead>\n",
       "    <tr style=\"text-align: right;\">\n",
       "      <th></th>\n",
       "      <th>Variable</th>\n",
       "      <th>Outcome</th>\n",
       "      <th>Count</th>\n",
       "      <th>Percent</th>\n",
       "    </tr>\n",
       "  </thead>\n",
       "  <tbody>\n",
       "    <tr>\n",
       "      <th>0</th>\n",
       "      <td>Gender</td>\n",
       "      <td>Female</td>\n",
       "      <td>492</td>\n",
       "      <td>59.42</td>\n",
       "    </tr>\n",
       "    <tr>\n",
       "      <th>1</th>\n",
       "      <td></td>\n",
       "      <td>Male</td>\n",
       "      <td>336</td>\n",
       "      <td>40.58</td>\n",
       "    </tr>\n",
       "    <tr>\n",
       "      <th>2</th>\n",
       "      <td>Rating</td>\n",
       "      <td>seasonally</td>\n",
       "      <td>284</td>\n",
       "      <td>34.30</td>\n",
       "    </tr>\n",
       "    <tr>\n",
       "      <th>3</th>\n",
       "      <td></td>\n",
       "      <td>my favorite</td>\n",
       "      <td>274</td>\n",
       "      <td>33.09</td>\n",
       "    </tr>\n",
       "    <tr>\n",
       "      <th>4</th>\n",
       "      <td></td>\n",
       "      <td>some what</td>\n",
       "      <td>158</td>\n",
       "      <td>19.08</td>\n",
       "    </tr>\n",
       "    <tr>\n",
       "      <th>5</th>\n",
       "      <td></td>\n",
       "      <td>if no other fruits available</td>\n",
       "      <td>58</td>\n",
       "      <td>7.00</td>\n",
       "    </tr>\n",
       "    <tr>\n",
       "      <th>6</th>\n",
       "      <td></td>\n",
       "      <td>not at all</td>\n",
       "      <td>54</td>\n",
       "      <td>6.52</td>\n",
       "    </tr>\n",
       "  </tbody>\n",
       "</table>\n",
       "</div>\n",
       "      <button class=\"colab-df-convert\" onclick=\"convertToInteractive('df-50a651a3-be5f-4cc0-8753-94a43d3b5940')\"\n",
       "              title=\"Convert this dataframe to an interactive table.\"\n",
       "              style=\"display:none;\">\n",
       "        \n",
       "  <svg xmlns=\"http://www.w3.org/2000/svg\" height=\"24px\"viewBox=\"0 0 24 24\"\n",
       "       width=\"24px\">\n",
       "    <path d=\"M0 0h24v24H0V0z\" fill=\"none\"/>\n",
       "    <path d=\"M18.56 5.44l.94 2.06.94-2.06 2.06-.94-2.06-.94-.94-2.06-.94 2.06-2.06.94zm-11 1L8.5 8.5l.94-2.06 2.06-.94-2.06-.94L8.5 2.5l-.94 2.06-2.06.94zm10 10l.94 2.06.94-2.06 2.06-.94-2.06-.94-.94-2.06-.94 2.06-2.06.94z\"/><path d=\"M17.41 7.96l-1.37-1.37c-.4-.4-.92-.59-1.43-.59-.52 0-1.04.2-1.43.59L10.3 9.45l-7.72 7.72c-.78.78-.78 2.05 0 2.83L4 21.41c.39.39.9.59 1.41.59.51 0 1.02-.2 1.41-.59l7.78-7.78 2.81-2.81c.8-.78.8-2.07 0-2.86zM5.41 20L4 18.59l7.72-7.72 1.47 1.35L5.41 20z\"/>\n",
       "  </svg>\n",
       "      </button>\n",
       "      \n",
       "  <style>\n",
       "    .colab-df-container {\n",
       "      display:flex;\n",
       "      flex-wrap:wrap;\n",
       "      gap: 12px;\n",
       "    }\n",
       "\n",
       "    .colab-df-convert {\n",
       "      background-color: #E8F0FE;\n",
       "      border: none;\n",
       "      border-radius: 50%;\n",
       "      cursor: pointer;\n",
       "      display: none;\n",
       "      fill: #1967D2;\n",
       "      height: 32px;\n",
       "      padding: 0 0 0 0;\n",
       "      width: 32px;\n",
       "    }\n",
       "\n",
       "    .colab-df-convert:hover {\n",
       "      background-color: #E2EBFA;\n",
       "      box-shadow: 0px 1px 2px rgba(60, 64, 67, 0.3), 0px 1px 3px 1px rgba(60, 64, 67, 0.15);\n",
       "      fill: #174EA6;\n",
       "    }\n",
       "\n",
       "    [theme=dark] .colab-df-convert {\n",
       "      background-color: #3B4455;\n",
       "      fill: #D2E3FC;\n",
       "    }\n",
       "\n",
       "    [theme=dark] .colab-df-convert:hover {\n",
       "      background-color: #434B5C;\n",
       "      box-shadow: 0px 1px 3px 1px rgba(0, 0, 0, 0.15);\n",
       "      filter: drop-shadow(0px 1px 2px rgba(0, 0, 0, 0.3));\n",
       "      fill: #FFFFFF;\n",
       "    }\n",
       "  </style>\n",
       "\n",
       "      <script>\n",
       "        const buttonEl =\n",
       "          document.querySelector('#df-50a651a3-be5f-4cc0-8753-94a43d3b5940 button.colab-df-convert');\n",
       "        buttonEl.style.display =\n",
       "          google.colab.kernel.accessAllowed ? 'block' : 'none';\n",
       "\n",
       "        async function convertToInteractive(key) {\n",
       "          const element = document.querySelector('#df-50a651a3-be5f-4cc0-8753-94a43d3b5940');\n",
       "          const dataTable =\n",
       "            await google.colab.kernel.invokeFunction('convertToInteractive',\n",
       "                                                     [key], {});\n",
       "          if (!dataTable) return;\n",
       "\n",
       "          const docLinkHtml = 'Like what you see? Visit the ' +\n",
       "            '<a target=\"_blank\" href=https://colab.research.google.com/notebooks/data_table.ipynb>data table notebook</a>'\n",
       "            + ' to learn more about interactive tables.';\n",
       "          element.innerHTML = '';\n",
       "          dataTable['output_type'] = 'display_data';\n",
       "          await google.colab.output.renderOutput(dataTable, element);\n",
       "          const docLink = document.createElement('div');\n",
       "          docLink.innerHTML = docLinkHtml;\n",
       "          element.appendChild(docLink);\n",
       "        }\n",
       "      </script>\n",
       "    </div>\n",
       "  </div>\n",
       "  "
      ],
      "text/plain": [
       "  Variable                       Outcome  Count  Percent\n",
       "0   Gender                        Female    492    59.42\n",
       "1                                   Male    336    40.58\n",
       "2   Rating                    seasonally    284    34.30\n",
       "3                            my favorite    274    33.09\n",
       "4                              some what    158    19.08\n",
       "5           if no other fruits available     58     7.00\n",
       "6                             not at all     54     6.52"
      ]
     },
     "execution_count": 60,
     "metadata": {},
     "output_type": "execute_result"
    }
   ],
   "source": [
    "# showing a summary of category wise distribution\n",
    "rp.summary_cat(df_long[[\"Gender\", \"Rating\"]])"
   ]
  },
  {
   "cell_type": "code",
   "execution_count": null,
   "metadata": {
    "id": "-m0l9_j0Nx4f"
   },
   "outputs": [],
   "source": [
    "# creating a contigency table\n",
    "ct1=pd.crosstab(index = df_long['Gender'], columns = df_long['Rating'])"
   ]
  },
  {
   "cell_type": "code",
   "execution_count": null,
   "metadata": {
    "colab": {
     "base_uri": "https://localhost:8080/",
     "height": 143
    },
    "id": "sYlMkzJKdnNx",
    "outputId": "7dd62637-7288-48eb-cb6d-d6cf8e1229ea"
   },
   "outputs": [
    {
     "data": {
      "text/html": [
       "\n",
       "  <div id=\"df-9867dd8a-7f62-4917-9af0-fdbd2c9c3420\">\n",
       "    <div class=\"colab-df-container\">\n",
       "      <div>\n",
       "<style scoped>\n",
       "    .dataframe tbody tr th:only-of-type {\n",
       "        vertical-align: middle;\n",
       "    }\n",
       "\n",
       "    .dataframe tbody tr th {\n",
       "        vertical-align: top;\n",
       "    }\n",
       "\n",
       "    .dataframe thead th {\n",
       "        text-align: right;\n",
       "    }\n",
       "</style>\n",
       "<table border=\"1\" class=\"dataframe\">\n",
       "  <thead>\n",
       "    <tr style=\"text-align: right;\">\n",
       "      <th>Rating</th>\n",
       "      <th>if no other fruits available</th>\n",
       "      <th>my favorite</th>\n",
       "      <th>not at all</th>\n",
       "      <th>seasonally</th>\n",
       "      <th>some what</th>\n",
       "    </tr>\n",
       "    <tr>\n",
       "      <th>Gender</th>\n",
       "      <th></th>\n",
       "      <th></th>\n",
       "      <th></th>\n",
       "      <th></th>\n",
       "      <th></th>\n",
       "    </tr>\n",
       "  </thead>\n",
       "  <tbody>\n",
       "    <tr>\n",
       "      <th>Female</th>\n",
       "      <td>0.042271</td>\n",
       "      <td>0.214976</td>\n",
       "      <td>0.035024</td>\n",
       "      <td>0.207729</td>\n",
       "      <td>0.094203</td>\n",
       "    </tr>\n",
       "    <tr>\n",
       "      <th>Male</th>\n",
       "      <td>0.027778</td>\n",
       "      <td>0.115942</td>\n",
       "      <td>0.030193</td>\n",
       "      <td>0.135266</td>\n",
       "      <td>0.096618</td>\n",
       "    </tr>\n",
       "  </tbody>\n",
       "</table>\n",
       "</div>\n",
       "      <button class=\"colab-df-convert\" onclick=\"convertToInteractive('df-9867dd8a-7f62-4917-9af0-fdbd2c9c3420')\"\n",
       "              title=\"Convert this dataframe to an interactive table.\"\n",
       "              style=\"display:none;\">\n",
       "        \n",
       "  <svg xmlns=\"http://www.w3.org/2000/svg\" height=\"24px\"viewBox=\"0 0 24 24\"\n",
       "       width=\"24px\">\n",
       "    <path d=\"M0 0h24v24H0V0z\" fill=\"none\"/>\n",
       "    <path d=\"M18.56 5.44l.94 2.06.94-2.06 2.06-.94-2.06-.94-.94-2.06-.94 2.06-2.06.94zm-11 1L8.5 8.5l.94-2.06 2.06-.94-2.06-.94L8.5 2.5l-.94 2.06-2.06.94zm10 10l.94 2.06.94-2.06 2.06-.94-2.06-.94-.94-2.06-.94 2.06-2.06.94z\"/><path d=\"M17.41 7.96l-1.37-1.37c-.4-.4-.92-.59-1.43-.59-.52 0-1.04.2-1.43.59L10.3 9.45l-7.72 7.72c-.78.78-.78 2.05 0 2.83L4 21.41c.39.39.9.59 1.41.59.51 0 1.02-.2 1.41-.59l7.78-7.78 2.81-2.81c.8-.78.8-2.07 0-2.86zM5.41 20L4 18.59l7.72-7.72 1.47 1.35L5.41 20z\"/>\n",
       "  </svg>\n",
       "      </button>\n",
       "      \n",
       "  <style>\n",
       "    .colab-df-container {\n",
       "      display:flex;\n",
       "      flex-wrap:wrap;\n",
       "      gap: 12px;\n",
       "    }\n",
       "\n",
       "    .colab-df-convert {\n",
       "      background-color: #E8F0FE;\n",
       "      border: none;\n",
       "      border-radius: 50%;\n",
       "      cursor: pointer;\n",
       "      display: none;\n",
       "      fill: #1967D2;\n",
       "      height: 32px;\n",
       "      padding: 0 0 0 0;\n",
       "      width: 32px;\n",
       "    }\n",
       "\n",
       "    .colab-df-convert:hover {\n",
       "      background-color: #E2EBFA;\n",
       "      box-shadow: 0px 1px 2px rgba(60, 64, 67, 0.3), 0px 1px 3px 1px rgba(60, 64, 67, 0.15);\n",
       "      fill: #174EA6;\n",
       "    }\n",
       "\n",
       "    [theme=dark] .colab-df-convert {\n",
       "      background-color: #3B4455;\n",
       "      fill: #D2E3FC;\n",
       "    }\n",
       "\n",
       "    [theme=dark] .colab-df-convert:hover {\n",
       "      background-color: #434B5C;\n",
       "      box-shadow: 0px 1px 3px 1px rgba(0, 0, 0, 0.15);\n",
       "      filter: drop-shadow(0px 1px 2px rgba(0, 0, 0, 0.3));\n",
       "      fill: #FFFFFF;\n",
       "    }\n",
       "  </style>\n",
       "\n",
       "      <script>\n",
       "        const buttonEl =\n",
       "          document.querySelector('#df-9867dd8a-7f62-4917-9af0-fdbd2c9c3420 button.colab-df-convert');\n",
       "        buttonEl.style.display =\n",
       "          google.colab.kernel.accessAllowed ? 'block' : 'none';\n",
       "\n",
       "        async function convertToInteractive(key) {\n",
       "          const element = document.querySelector('#df-9867dd8a-7f62-4917-9af0-fdbd2c9c3420');\n",
       "          const dataTable =\n",
       "            await google.colab.kernel.invokeFunction('convertToInteractive',\n",
       "                                                     [key], {});\n",
       "          if (!dataTable) return;\n",
       "\n",
       "          const docLinkHtml = 'Like what you see? Visit the ' +\n",
       "            '<a target=\"_blank\" href=https://colab.research.google.com/notebooks/data_table.ipynb>data table notebook</a>'\n",
       "            + ' to learn more about interactive tables.';\n",
       "          element.innerHTML = '';\n",
       "          dataTable['output_type'] = 'display_data';\n",
       "          await google.colab.output.renderOutput(dataTable, element);\n",
       "          const docLink = document.createElement('div');\n",
       "          docLink.innerHTML = docLinkHtml;\n",
       "          element.appendChild(docLink);\n",
       "        }\n",
       "      </script>\n",
       "    </div>\n",
       "  </div>\n",
       "  "
      ],
      "text/plain": [
       "Rating  if no other fruits available  my favorite  not at all  seasonally  \\\n",
       "Gender                                                                      \n",
       "Female                      0.042271     0.214976    0.035024    0.207729   \n",
       "Male                        0.027778     0.115942    0.030193    0.135266   \n",
       "\n",
       "Rating  some what  \n",
       "Gender             \n",
       "Female   0.094203  \n",
       "Male     0.096618  "
      ]
     },
     "execution_count": 66,
     "metadata": {},
     "output_type": "execute_result"
    }
   ],
   "source": [
    "ct1"
   ]
  },
  {
   "cell_type": "markdown",
   "metadata": {
    "id": "Be_hz3FmePR3"
   },
   "source": [
    "Now to pass this contingency table to the `scipy.stats` method. The output isn't the best formatted, but all the information is there. The information is returned within a tuple where the first value is the $\\chi^2$  test static, the second value is the p-value, and the third number is the degrees of freedom. An array is also returned which contains the expected cell counts."
   ]
  },
  {
   "cell_type": "code",
   "execution_count": null,
   "metadata": {
    "colab": {
     "base_uri": "https://localhost:8080/"
    },
    "id": "vZbBzWtQeWbb",
    "outputId": "a0e42355-a3eb-447f-f225-394257ea708c"
   },
   "outputs": [
    {
     "data": {
      "text/plain": [
       "(11.020459792506145,\n",
       " 0.026335034228023153,\n",
       " 4,\n",
       " array([[ 34.46376812, 162.8115942 ,  32.08695652, 168.75362319,\n",
       "          93.88405797],\n",
       "        [ 23.53623188, 111.1884058 ,  21.91304348, 115.24637681,\n",
       "          64.11594203]]))"
      ]
     },
     "execution_count": 61,
     "metadata": {},
     "output_type": "execute_result"
    }
   ],
   "source": [
    "stats.chi2_contingency(ct1)\n"
   ]
  },
  {
   "cell_type": "markdown",
   "metadata": {
    "id": "egFbGP30ej27"
   },
   "source": [
    ">**Interpretation:** There is a relationship between gender and the fruit rating level, $\\chi^2(4) = 11.02, p< 0.05$."
   ]
  },
  {
   "cell_type": "markdown",
   "metadata": {
    "id": "G1I6nr1Fe9jj"
   },
   "source": [
    "### Using `Researchpy` library\n",
    "\n",
    "Now to conduct the $\\chi^2$ test of independence using `Researchpy`. The method that needs to be used is `researchpy.crosstab`.\n",
    "\n",
    "By default, the method returns the requested objects in a tuple that is just as ugly as `scipy.stats`. For cleaner output, one can assign each requested object from the tuple to another object and then those separately. The expected cell counts will be requested and used later while checking the assumptions for this statistical test. Additionally, will request the crosstabulation be returned with the cell percentage instead of the cell count."
   ]
  },
  {
   "cell_type": "code",
   "execution_count": null,
   "metadata": {
    "colab": {
     "base_uri": "https://localhost:8080/",
     "height": 206
    },
    "id": "NoWmXSkSfOj_",
    "outputId": "efe63aa8-7e98-4f3e-dd7e-6563cc63ced3"
   },
   "outputs": [
    {
     "data": {
      "text/html": [
       "\n",
       "  <div id=\"df-ee5890c5-3189-47cc-bfc6-d68270bec401\">\n",
       "    <div class=\"colab-df-container\">\n",
       "      <div>\n",
       "<style scoped>\n",
       "    .dataframe tbody tr th:only-of-type {\n",
       "        vertical-align: middle;\n",
       "    }\n",
       "\n",
       "    .dataframe tbody tr th {\n",
       "        vertical-align: top;\n",
       "    }\n",
       "\n",
       "    .dataframe thead tr th {\n",
       "        text-align: left;\n",
       "    }\n",
       "\n",
       "    .dataframe thead tr:last-of-type th {\n",
       "        text-align: right;\n",
       "    }\n",
       "</style>\n",
       "<table border=\"1\" class=\"dataframe\">\n",
       "  <thead>\n",
       "    <tr>\n",
       "      <th></th>\n",
       "      <th colspan=\"6\" halign=\"left\">Rating</th>\n",
       "    </tr>\n",
       "    <tr>\n",
       "      <th>Rating</th>\n",
       "      <th>if no other fruits available</th>\n",
       "      <th>my favorite</th>\n",
       "      <th>not at all</th>\n",
       "      <th>seasonally</th>\n",
       "      <th>some what</th>\n",
       "      <th>All</th>\n",
       "    </tr>\n",
       "    <tr>\n",
       "      <th>Gender</th>\n",
       "      <th></th>\n",
       "      <th></th>\n",
       "      <th></th>\n",
       "      <th></th>\n",
       "      <th></th>\n",
       "      <th></th>\n",
       "    </tr>\n",
       "  </thead>\n",
       "  <tbody>\n",
       "    <tr>\n",
       "      <th>Female</th>\n",
       "      <td>4.23</td>\n",
       "      <td>21.50</td>\n",
       "      <td>3.50</td>\n",
       "      <td>20.77</td>\n",
       "      <td>9.42</td>\n",
       "      <td>59.42</td>\n",
       "    </tr>\n",
       "    <tr>\n",
       "      <th>Male</th>\n",
       "      <td>2.78</td>\n",
       "      <td>11.59</td>\n",
       "      <td>3.02</td>\n",
       "      <td>13.53</td>\n",
       "      <td>9.66</td>\n",
       "      <td>40.58</td>\n",
       "    </tr>\n",
       "    <tr>\n",
       "      <th>All</th>\n",
       "      <td>7.00</td>\n",
       "      <td>33.09</td>\n",
       "      <td>6.52</td>\n",
       "      <td>34.30</td>\n",
       "      <td>19.08</td>\n",
       "      <td>100.00</td>\n",
       "    </tr>\n",
       "  </tbody>\n",
       "</table>\n",
       "</div>\n",
       "      <button class=\"colab-df-convert\" onclick=\"convertToInteractive('df-ee5890c5-3189-47cc-bfc6-d68270bec401')\"\n",
       "              title=\"Convert this dataframe to an interactive table.\"\n",
       "              style=\"display:none;\">\n",
       "        \n",
       "  <svg xmlns=\"http://www.w3.org/2000/svg\" height=\"24px\"viewBox=\"0 0 24 24\"\n",
       "       width=\"24px\">\n",
       "    <path d=\"M0 0h24v24H0V0z\" fill=\"none\"/>\n",
       "    <path d=\"M18.56 5.44l.94 2.06.94-2.06 2.06-.94-2.06-.94-.94-2.06-.94 2.06-2.06.94zm-11 1L8.5 8.5l.94-2.06 2.06-.94-2.06-.94L8.5 2.5l-.94 2.06-2.06.94zm10 10l.94 2.06.94-2.06 2.06-.94-2.06-.94-.94-2.06-.94 2.06-2.06.94z\"/><path d=\"M17.41 7.96l-1.37-1.37c-.4-.4-.92-.59-1.43-.59-.52 0-1.04.2-1.43.59L10.3 9.45l-7.72 7.72c-.78.78-.78 2.05 0 2.83L4 21.41c.39.39.9.59 1.41.59.51 0 1.02-.2 1.41-.59l7.78-7.78 2.81-2.81c.8-.78.8-2.07 0-2.86zM5.41 20L4 18.59l7.72-7.72 1.47 1.35L5.41 20z\"/>\n",
       "  </svg>\n",
       "      </button>\n",
       "      \n",
       "  <style>\n",
       "    .colab-df-container {\n",
       "      display:flex;\n",
       "      flex-wrap:wrap;\n",
       "      gap: 12px;\n",
       "    }\n",
       "\n",
       "    .colab-df-convert {\n",
       "      background-color: #E8F0FE;\n",
       "      border: none;\n",
       "      border-radius: 50%;\n",
       "      cursor: pointer;\n",
       "      display: none;\n",
       "      fill: #1967D2;\n",
       "      height: 32px;\n",
       "      padding: 0 0 0 0;\n",
       "      width: 32px;\n",
       "    }\n",
       "\n",
       "    .colab-df-convert:hover {\n",
       "      background-color: #E2EBFA;\n",
       "      box-shadow: 0px 1px 2px rgba(60, 64, 67, 0.3), 0px 1px 3px 1px rgba(60, 64, 67, 0.15);\n",
       "      fill: #174EA6;\n",
       "    }\n",
       "\n",
       "    [theme=dark] .colab-df-convert {\n",
       "      background-color: #3B4455;\n",
       "      fill: #D2E3FC;\n",
       "    }\n",
       "\n",
       "    [theme=dark] .colab-df-convert:hover {\n",
       "      background-color: #434B5C;\n",
       "      box-shadow: 0px 1px 3px 1px rgba(0, 0, 0, 0.15);\n",
       "      filter: drop-shadow(0px 1px 2px rgba(0, 0, 0, 0.3));\n",
       "      fill: #FFFFFF;\n",
       "    }\n",
       "  </style>\n",
       "\n",
       "      <script>\n",
       "        const buttonEl =\n",
       "          document.querySelector('#df-ee5890c5-3189-47cc-bfc6-d68270bec401 button.colab-df-convert');\n",
       "        buttonEl.style.display =\n",
       "          google.colab.kernel.accessAllowed ? 'block' : 'none';\n",
       "\n",
       "        async function convertToInteractive(key) {\n",
       "          const element = document.querySelector('#df-ee5890c5-3189-47cc-bfc6-d68270bec401');\n",
       "          const dataTable =\n",
       "            await google.colab.kernel.invokeFunction('convertToInteractive',\n",
       "                                                     [key], {});\n",
       "          if (!dataTable) return;\n",
       "\n",
       "          const docLinkHtml = 'Like what you see? Visit the ' +\n",
       "            '<a target=\"_blank\" href=https://colab.research.google.com/notebooks/data_table.ipynb>data table notebook</a>'\n",
       "            + ' to learn more about interactive tables.';\n",
       "          element.innerHTML = '';\n",
       "          dataTable['output_type'] = 'display_data';\n",
       "          await google.colab.output.renderOutput(dataTable, element);\n",
       "          const docLink = document.createElement('div');\n",
       "          docLink.innerHTML = docLinkHtml;\n",
       "          element.appendChild(docLink);\n",
       "        }\n",
       "      </script>\n",
       "    </div>\n",
       "  </div>\n",
       "  "
      ],
      "text/plain": [
       "                             Rating                                    \\\n",
       "Rating if no other fruits available my favorite not at all seasonally   \n",
       "Gender                                                                  \n",
       "Female                         4.23       21.50       3.50      20.77   \n",
       "Male                           2.78       11.59       3.02      13.53   \n",
       "All                            7.00       33.09       6.52      34.30   \n",
       "\n",
       "                          \n",
       "Rating some what     All  \n",
       "Gender                    \n",
       "Female      9.42   59.42  \n",
       "Male        9.66   40.58  \n",
       "All        19.08  100.00  "
      ]
     },
     "execution_count": 62,
     "metadata": {},
     "output_type": "execute_result"
    }
   ],
   "source": [
    "crosstab, test_results, expected = rp.crosstab(df_long[\"Gender\"], df_long[\"Rating\"],\n",
    "                                               test= \"chi-square\",\n",
    "                                               expected_freqs= True,\n",
    "                                               prop= \"cell\")\n",
    "\n",
    "crosstab"
   ]
  },
  {
   "cell_type": "code",
   "execution_count": null,
   "metadata": {
    "colab": {
     "base_uri": "https://localhost:8080/",
     "height": 143
    },
    "id": "plExuPdlfhRN",
    "outputId": "6506e522-1d79-4a5b-b7c6-28413f9f7adb"
   },
   "outputs": [
    {
     "data": {
      "text/html": [
       "\n",
       "  <div id=\"df-cbfbd979-52c0-4343-a945-ef9543d4b689\">\n",
       "    <div class=\"colab-df-container\">\n",
       "      <div>\n",
       "<style scoped>\n",
       "    .dataframe tbody tr th:only-of-type {\n",
       "        vertical-align: middle;\n",
       "    }\n",
       "\n",
       "    .dataframe tbody tr th {\n",
       "        vertical-align: top;\n",
       "    }\n",
       "\n",
       "    .dataframe thead th {\n",
       "        text-align: right;\n",
       "    }\n",
       "</style>\n",
       "<table border=\"1\" class=\"dataframe\">\n",
       "  <thead>\n",
       "    <tr style=\"text-align: right;\">\n",
       "      <th></th>\n",
       "      <th>Chi-square test</th>\n",
       "      <th>results</th>\n",
       "    </tr>\n",
       "  </thead>\n",
       "  <tbody>\n",
       "    <tr>\n",
       "      <th>0</th>\n",
       "      <td>Pearson Chi-square ( 4.0) =</td>\n",
       "      <td>11.0205</td>\n",
       "    </tr>\n",
       "    <tr>\n",
       "      <th>1</th>\n",
       "      <td>p-value =</td>\n",
       "      <td>0.0263</td>\n",
       "    </tr>\n",
       "    <tr>\n",
       "      <th>2</th>\n",
       "      <td>Cramer's V =</td>\n",
       "      <td>0.1154</td>\n",
       "    </tr>\n",
       "  </tbody>\n",
       "</table>\n",
       "</div>\n",
       "      <button class=\"colab-df-convert\" onclick=\"convertToInteractive('df-cbfbd979-52c0-4343-a945-ef9543d4b689')\"\n",
       "              title=\"Convert this dataframe to an interactive table.\"\n",
       "              style=\"display:none;\">\n",
       "        \n",
       "  <svg xmlns=\"http://www.w3.org/2000/svg\" height=\"24px\"viewBox=\"0 0 24 24\"\n",
       "       width=\"24px\">\n",
       "    <path d=\"M0 0h24v24H0V0z\" fill=\"none\"/>\n",
       "    <path d=\"M18.56 5.44l.94 2.06.94-2.06 2.06-.94-2.06-.94-.94-2.06-.94 2.06-2.06.94zm-11 1L8.5 8.5l.94-2.06 2.06-.94-2.06-.94L8.5 2.5l-.94 2.06-2.06.94zm10 10l.94 2.06.94-2.06 2.06-.94-2.06-.94-.94-2.06-.94 2.06-2.06.94z\"/><path d=\"M17.41 7.96l-1.37-1.37c-.4-.4-.92-.59-1.43-.59-.52 0-1.04.2-1.43.59L10.3 9.45l-7.72 7.72c-.78.78-.78 2.05 0 2.83L4 21.41c.39.39.9.59 1.41.59.51 0 1.02-.2 1.41-.59l7.78-7.78 2.81-2.81c.8-.78.8-2.07 0-2.86zM5.41 20L4 18.59l7.72-7.72 1.47 1.35L5.41 20z\"/>\n",
       "  </svg>\n",
       "      </button>\n",
       "      \n",
       "  <style>\n",
       "    .colab-df-container {\n",
       "      display:flex;\n",
       "      flex-wrap:wrap;\n",
       "      gap: 12px;\n",
       "    }\n",
       "\n",
       "    .colab-df-convert {\n",
       "      background-color: #E8F0FE;\n",
       "      border: none;\n",
       "      border-radius: 50%;\n",
       "      cursor: pointer;\n",
       "      display: none;\n",
       "      fill: #1967D2;\n",
       "      height: 32px;\n",
       "      padding: 0 0 0 0;\n",
       "      width: 32px;\n",
       "    }\n",
       "\n",
       "    .colab-df-convert:hover {\n",
       "      background-color: #E2EBFA;\n",
       "      box-shadow: 0px 1px 2px rgba(60, 64, 67, 0.3), 0px 1px 3px 1px rgba(60, 64, 67, 0.15);\n",
       "      fill: #174EA6;\n",
       "    }\n",
       "\n",
       "    [theme=dark] .colab-df-convert {\n",
       "      background-color: #3B4455;\n",
       "      fill: #D2E3FC;\n",
       "    }\n",
       "\n",
       "    [theme=dark] .colab-df-convert:hover {\n",
       "      background-color: #434B5C;\n",
       "      box-shadow: 0px 1px 3px 1px rgba(0, 0, 0, 0.15);\n",
       "      filter: drop-shadow(0px 1px 2px rgba(0, 0, 0, 0.3));\n",
       "      fill: #FFFFFF;\n",
       "    }\n",
       "  </style>\n",
       "\n",
       "      <script>\n",
       "        const buttonEl =\n",
       "          document.querySelector('#df-cbfbd979-52c0-4343-a945-ef9543d4b689 button.colab-df-convert');\n",
       "        buttonEl.style.display =\n",
       "          google.colab.kernel.accessAllowed ? 'block' : 'none';\n",
       "\n",
       "        async function convertToInteractive(key) {\n",
       "          const element = document.querySelector('#df-cbfbd979-52c0-4343-a945-ef9543d4b689');\n",
       "          const dataTable =\n",
       "            await google.colab.kernel.invokeFunction('convertToInteractive',\n",
       "                                                     [key], {});\n",
       "          if (!dataTable) return;\n",
       "\n",
       "          const docLinkHtml = 'Like what you see? Visit the ' +\n",
       "            '<a target=\"_blank\" href=https://colab.research.google.com/notebooks/data_table.ipynb>data table notebook</a>'\n",
       "            + ' to learn more about interactive tables.';\n",
       "          element.innerHTML = '';\n",
       "          dataTable['output_type'] = 'display_data';\n",
       "          await google.colab.output.renderOutput(dataTable, element);\n",
       "          const docLink = document.createElement('div');\n",
       "          docLink.innerHTML = docLinkHtml;\n",
       "          element.appendChild(docLink);\n",
       "        }\n",
       "      </script>\n",
       "    </div>\n",
       "  </div>\n",
       "  "
      ],
      "text/plain": [
       "                Chi-square test  results\n",
       "0  Pearson Chi-square ( 4.0) =   11.0205\n",
       "1                    p-value =    0.0263\n",
       "2                 Cramer's V =    0.1154"
      ]
     },
     "execution_count": 63,
     "metadata": {},
     "output_type": "execute_result"
    }
   ],
   "source": [
    "test_results\n"
   ]
  },
  {
   "cell_type": "markdown",
   "metadata": {
    "id": "d2bHCsCmfvqN"
   },
   "source": [
    "Since the Cramers' V is jist greater that 0.10, the test result is acceptable is just moderate. If it is greater than 0.25, then it is a strong result."
   ]
  },
  {
   "cell_type": "markdown",
   "metadata": {
    "id": "J0ifKrnggFZD"
   },
   "source": [
    "## ASSUMPTION CHECK\n",
    "Checking the assumptions for the $\\chi^2$ test of independence is easy. Let's recall what they are:\n",
    "\n",
    "- The two samples are independent\n",
    "\n",
    "- The variables were collected independently of each other, i.e. the answer from one variable was not dependent on the answer of the other\n",
    "\n",
    "- No expected cell count is = 0\n",
    "- No more than 20% of the cells have and expected cell count < 5\n",
    "\n",
    "The last two assumptions can be checked by looking at the expected frequency table."
   ]
  },
  {
   "cell_type": "code",
   "execution_count": null,
   "metadata": {
    "colab": {
     "base_uri": "https://localhost:8080/",
     "height": 175
    },
    "id": "ZP0_GsEbgTEO",
    "outputId": "2369c825-be40-456e-873d-68b5923d71fd"
   },
   "outputs": [
    {
     "data": {
      "text/html": [
       "\n",
       "  <div id=\"df-72a3f055-d413-45f0-95ba-da2c3aaec861\">\n",
       "    <div class=\"colab-df-container\">\n",
       "      <div>\n",
       "<style scoped>\n",
       "    .dataframe tbody tr th:only-of-type {\n",
       "        vertical-align: middle;\n",
       "    }\n",
       "\n",
       "    .dataframe tbody tr th {\n",
       "        vertical-align: top;\n",
       "    }\n",
       "\n",
       "    .dataframe thead tr th {\n",
       "        text-align: left;\n",
       "    }\n",
       "\n",
       "    .dataframe thead tr:last-of-type th {\n",
       "        text-align: right;\n",
       "    }\n",
       "</style>\n",
       "<table border=\"1\" class=\"dataframe\">\n",
       "  <thead>\n",
       "    <tr>\n",
       "      <th></th>\n",
       "      <th colspan=\"5\" halign=\"left\">Rating</th>\n",
       "    </tr>\n",
       "    <tr>\n",
       "      <th>Rating</th>\n",
       "      <th>if no other fruits available</th>\n",
       "      <th>my favorite</th>\n",
       "      <th>not at all</th>\n",
       "      <th>seasonally</th>\n",
       "      <th>some what</th>\n",
       "    </tr>\n",
       "    <tr>\n",
       "      <th>Gender</th>\n",
       "      <th></th>\n",
       "      <th></th>\n",
       "      <th></th>\n",
       "      <th></th>\n",
       "      <th></th>\n",
       "    </tr>\n",
       "  </thead>\n",
       "  <tbody>\n",
       "    <tr>\n",
       "      <th>Female</th>\n",
       "      <td>34.463768</td>\n",
       "      <td>162.811594</td>\n",
       "      <td>32.086957</td>\n",
       "      <td>168.753623</td>\n",
       "      <td>93.884058</td>\n",
       "    </tr>\n",
       "    <tr>\n",
       "      <th>Male</th>\n",
       "      <td>23.536232</td>\n",
       "      <td>111.188406</td>\n",
       "      <td>21.913043</td>\n",
       "      <td>115.246377</td>\n",
       "      <td>64.115942</td>\n",
       "    </tr>\n",
       "  </tbody>\n",
       "</table>\n",
       "</div>\n",
       "      <button class=\"colab-df-convert\" onclick=\"convertToInteractive('df-72a3f055-d413-45f0-95ba-da2c3aaec861')\"\n",
       "              title=\"Convert this dataframe to an interactive table.\"\n",
       "              style=\"display:none;\">\n",
       "        \n",
       "  <svg xmlns=\"http://www.w3.org/2000/svg\" height=\"24px\"viewBox=\"0 0 24 24\"\n",
       "       width=\"24px\">\n",
       "    <path d=\"M0 0h24v24H0V0z\" fill=\"none\"/>\n",
       "    <path d=\"M18.56 5.44l.94 2.06.94-2.06 2.06-.94-2.06-.94-.94-2.06-.94 2.06-2.06.94zm-11 1L8.5 8.5l.94-2.06 2.06-.94-2.06-.94L8.5 2.5l-.94 2.06-2.06.94zm10 10l.94 2.06.94-2.06 2.06-.94-2.06-.94-.94-2.06-.94 2.06-2.06.94z\"/><path d=\"M17.41 7.96l-1.37-1.37c-.4-.4-.92-.59-1.43-.59-.52 0-1.04.2-1.43.59L10.3 9.45l-7.72 7.72c-.78.78-.78 2.05 0 2.83L4 21.41c.39.39.9.59 1.41.59.51 0 1.02-.2 1.41-.59l7.78-7.78 2.81-2.81c.8-.78.8-2.07 0-2.86zM5.41 20L4 18.59l7.72-7.72 1.47 1.35L5.41 20z\"/>\n",
       "  </svg>\n",
       "      </button>\n",
       "      \n",
       "  <style>\n",
       "    .colab-df-container {\n",
       "      display:flex;\n",
       "      flex-wrap:wrap;\n",
       "      gap: 12px;\n",
       "    }\n",
       "\n",
       "    .colab-df-convert {\n",
       "      background-color: #E8F0FE;\n",
       "      border: none;\n",
       "      border-radius: 50%;\n",
       "      cursor: pointer;\n",
       "      display: none;\n",
       "      fill: #1967D2;\n",
       "      height: 32px;\n",
       "      padding: 0 0 0 0;\n",
       "      width: 32px;\n",
       "    }\n",
       "\n",
       "    .colab-df-convert:hover {\n",
       "      background-color: #E2EBFA;\n",
       "      box-shadow: 0px 1px 2px rgba(60, 64, 67, 0.3), 0px 1px 3px 1px rgba(60, 64, 67, 0.15);\n",
       "      fill: #174EA6;\n",
       "    }\n",
       "\n",
       "    [theme=dark] .colab-df-convert {\n",
       "      background-color: #3B4455;\n",
       "      fill: #D2E3FC;\n",
       "    }\n",
       "\n",
       "    [theme=dark] .colab-df-convert:hover {\n",
       "      background-color: #434B5C;\n",
       "      box-shadow: 0px 1px 3px 1px rgba(0, 0, 0, 0.15);\n",
       "      filter: drop-shadow(0px 1px 2px rgba(0, 0, 0, 0.3));\n",
       "      fill: #FFFFFF;\n",
       "    }\n",
       "  </style>\n",
       "\n",
       "      <script>\n",
       "        const buttonEl =\n",
       "          document.querySelector('#df-72a3f055-d413-45f0-95ba-da2c3aaec861 button.colab-df-convert');\n",
       "        buttonEl.style.display =\n",
       "          google.colab.kernel.accessAllowed ? 'block' : 'none';\n",
       "\n",
       "        async function convertToInteractive(key) {\n",
       "          const element = document.querySelector('#df-72a3f055-d413-45f0-95ba-da2c3aaec861');\n",
       "          const dataTable =\n",
       "            await google.colab.kernel.invokeFunction('convertToInteractive',\n",
       "                                                     [key], {});\n",
       "          if (!dataTable) return;\n",
       "\n",
       "          const docLinkHtml = 'Like what you see? Visit the ' +\n",
       "            '<a target=\"_blank\" href=https://colab.research.google.com/notebooks/data_table.ipynb>data table notebook</a>'\n",
       "            + ' to learn more about interactive tables.';\n",
       "          element.innerHTML = '';\n",
       "          dataTable['output_type'] = 'display_data';\n",
       "          await google.colab.output.renderOutput(dataTable, element);\n",
       "          const docLink = document.createElement('div');\n",
       "          docLink.innerHTML = docLinkHtml;\n",
       "          element.appendChild(docLink);\n",
       "        }\n",
       "      </script>\n",
       "    </div>\n",
       "  </div>\n",
       "  "
      ],
      "text/plain": [
       "                             Rating                                     \\\n",
       "Rating if no other fruits available my favorite not at all  seasonally   \n",
       "Gender                                                                   \n",
       "Female                    34.463768  162.811594  32.086957  168.753623   \n",
       "Male                      23.536232  111.188406  21.913043  115.246377   \n",
       "\n",
       "                   \n",
       "Rating  some what  \n",
       "Gender             \n",
       "Female  93.884058  \n",
       "Male    64.115942  "
      ]
     },
     "execution_count": 64,
     "metadata": {},
     "output_type": "execute_result"
    }
   ],
   "source": [
    "expected\n"
   ]
  },
  {
   "cell_type": "markdown",
   "metadata": {
    "id": "lnaiYUWMg1aV"
   },
   "source": [
    "It can be seen that all the assumptions are met which indicates the statistical test results are reliable.\n",
    "\n"
   ]
  },
  {
   "cell_type": "markdown",
   "metadata": {
    "id": "vetK5M2nhC0A"
   },
   "source": [
    "## To assess the difference in the rating score over Gender"
   ]
  },
  {
   "cell_type": "code",
   "execution_count": null,
   "metadata": {
    "id": "EN8-GI7Zh2LL"
   },
   "outputs": [],
   "source": [
    "# transform rating vel to scores\n",
    "df_score=df_class\n",
    "# converting categorical rating to integers\n",
    "df_score[\"Orange\"]=df_score[\"Orange\"].map({'not at all': 1, 'if no other fruits available': 2,'some what':3,'seasonally':4,'my favorite':5 })\n",
    "df_score[\"Apple\"]=df_score[\"Apple\"].map({'not at all': 1, 'if no other fruits available': 2,'some what':3,'seasonally':4,'my favorite':5 })\n",
    "df_score[\"Banana\"]=df_score[\"Banana\"].map({'not at all': 1, 'if no other fruits available': 2,'some what':3,'seasonally':4,'my favorite':5 })\n",
    "df_score[\"Cherry\"]=df_score[\"Cherry\"].map({'not at all': 1, 'if no other fruits available': 2,'some what':3,'seasonally':4,'my favorite':5 })\n",
    "df_score[\"Grapes\"]=df_score[\"Grapes\"].map({'not at all': 1, 'if no other fruits available': 2,'some what':3,'seasonally':4,'my favorite':5 })\n",
    "df_score[\"Mango\"]=df_score[\"Mango\"].map({'not at all': 1, 'if no other fruits available': 2,'some what':3,'seasonally':4,'my favorite':5 })"
   ]
  },
  {
   "cell_type": "code",
   "execution_count": null,
   "metadata": {
    "id": "m4LP-k9jndjc"
   },
   "outputs": [],
   "source": [
    "#calculating total score per respondent\n",
    "df_score[\"Score\"]=df_score[\"Orange\"]+df_score[\"Apple\"]+df_score[\"Banana\"]+df_score[\"Cherry\"]+df_score[\"Grapes\"]+df_score[\"Mango\"]"
   ]
  },
  {
   "cell_type": "code",
   "execution_count": null,
   "metadata": {
    "colab": {
     "base_uri": "https://localhost:8080/",
     "height": 206
    },
    "id": "lp2s8gTJj6ol",
    "outputId": "0aa19a87-08c1-4834-e7c1-798b27f67b4b"
   },
   "outputs": [
    {
     "data": {
      "text/html": [
       "\n",
       "  <div id=\"df-43da50c9-63a7-43b7-932f-c037e4bd11fe\">\n",
       "    <div class=\"colab-df-container\">\n",
       "      <div>\n",
       "<style scoped>\n",
       "    .dataframe tbody tr th:only-of-type {\n",
       "        vertical-align: middle;\n",
       "    }\n",
       "\n",
       "    .dataframe tbody tr th {\n",
       "        vertical-align: top;\n",
       "    }\n",
       "\n",
       "    .dataframe thead th {\n",
       "        text-align: right;\n",
       "    }\n",
       "</style>\n",
       "<table border=\"1\" class=\"dataframe\">\n",
       "  <thead>\n",
       "    <tr style=\"text-align: right;\">\n",
       "      <th></th>\n",
       "      <th>Gender</th>\n",
       "      <th>Age</th>\n",
       "      <th>Weight</th>\n",
       "      <th>Orange</th>\n",
       "      <th>Grapes</th>\n",
       "      <th>Banana</th>\n",
       "      <th>Apple</th>\n",
       "      <th>Mango</th>\n",
       "      <th>Cherry</th>\n",
       "      <th>Height</th>\n",
       "      <th>Age_group</th>\n",
       "      <th>Score</th>\n",
       "    </tr>\n",
       "  </thead>\n",
       "  <tbody>\n",
       "    <tr>\n",
       "      <th>0</th>\n",
       "      <td>Male</td>\n",
       "      <td>42</td>\n",
       "      <td>68</td>\n",
       "      <td>5</td>\n",
       "      <td>3</td>\n",
       "      <td>4</td>\n",
       "      <td>3</td>\n",
       "      <td>4</td>\n",
       "      <td>1</td>\n",
       "      <td>162.0</td>\n",
       "      <td>elder</td>\n",
       "      <td>20</td>\n",
       "    </tr>\n",
       "    <tr>\n",
       "      <th>1</th>\n",
       "      <td>Female</td>\n",
       "      <td>39</td>\n",
       "      <td>63</td>\n",
       "      <td>4</td>\n",
       "      <td>4</td>\n",
       "      <td>4</td>\n",
       "      <td>4</td>\n",
       "      <td>5</td>\n",
       "      <td>4</td>\n",
       "      <td>145.0</td>\n",
       "      <td>elder</td>\n",
       "      <td>25</td>\n",
       "    </tr>\n",
       "    <tr>\n",
       "      <th>2</th>\n",
       "      <td>Male</td>\n",
       "      <td>36</td>\n",
       "      <td>65</td>\n",
       "      <td>4</td>\n",
       "      <td>3</td>\n",
       "      <td>5</td>\n",
       "      <td>4</td>\n",
       "      <td>5</td>\n",
       "      <td>2</td>\n",
       "      <td>150.0</td>\n",
       "      <td>elder</td>\n",
       "      <td>23</td>\n",
       "    </tr>\n",
       "    <tr>\n",
       "      <th>3</th>\n",
       "      <td>Male</td>\n",
       "      <td>21</td>\n",
       "      <td>60</td>\n",
       "      <td>4</td>\n",
       "      <td>4</td>\n",
       "      <td>4</td>\n",
       "      <td>4</td>\n",
       "      <td>4</td>\n",
       "      <td>4</td>\n",
       "      <td>174.0</td>\n",
       "      <td>youth</td>\n",
       "      <td>24</td>\n",
       "    </tr>\n",
       "    <tr>\n",
       "      <th>4</th>\n",
       "      <td>Male</td>\n",
       "      <td>21</td>\n",
       "      <td>105</td>\n",
       "      <td>4</td>\n",
       "      <td>4</td>\n",
       "      <td>1</td>\n",
       "      <td>4</td>\n",
       "      <td>5</td>\n",
       "      <td>4</td>\n",
       "      <td>172.0</td>\n",
       "      <td>youth</td>\n",
       "      <td>22</td>\n",
       "    </tr>\n",
       "  </tbody>\n",
       "</table>\n",
       "</div>\n",
       "      <button class=\"colab-df-convert\" onclick=\"convertToInteractive('df-43da50c9-63a7-43b7-932f-c037e4bd11fe')\"\n",
       "              title=\"Convert this dataframe to an interactive table.\"\n",
       "              style=\"display:none;\">\n",
       "        \n",
       "  <svg xmlns=\"http://www.w3.org/2000/svg\" height=\"24px\"viewBox=\"0 0 24 24\"\n",
       "       width=\"24px\">\n",
       "    <path d=\"M0 0h24v24H0V0z\" fill=\"none\"/>\n",
       "    <path d=\"M18.56 5.44l.94 2.06.94-2.06 2.06-.94-2.06-.94-.94-2.06-.94 2.06-2.06.94zm-11 1L8.5 8.5l.94-2.06 2.06-.94-2.06-.94L8.5 2.5l-.94 2.06-2.06.94zm10 10l.94 2.06.94-2.06 2.06-.94-2.06-.94-.94-2.06-.94 2.06-2.06.94z\"/><path d=\"M17.41 7.96l-1.37-1.37c-.4-.4-.92-.59-1.43-.59-.52 0-1.04.2-1.43.59L10.3 9.45l-7.72 7.72c-.78.78-.78 2.05 0 2.83L4 21.41c.39.39.9.59 1.41.59.51 0 1.02-.2 1.41-.59l7.78-7.78 2.81-2.81c.8-.78.8-2.07 0-2.86zM5.41 20L4 18.59l7.72-7.72 1.47 1.35L5.41 20z\"/>\n",
       "  </svg>\n",
       "      </button>\n",
       "      \n",
       "  <style>\n",
       "    .colab-df-container {\n",
       "      display:flex;\n",
       "      flex-wrap:wrap;\n",
       "      gap: 12px;\n",
       "    }\n",
       "\n",
       "    .colab-df-convert {\n",
       "      background-color: #E8F0FE;\n",
       "      border: none;\n",
       "      border-radius: 50%;\n",
       "      cursor: pointer;\n",
       "      display: none;\n",
       "      fill: #1967D2;\n",
       "      height: 32px;\n",
       "      padding: 0 0 0 0;\n",
       "      width: 32px;\n",
       "    }\n",
       "\n",
       "    .colab-df-convert:hover {\n",
       "      background-color: #E2EBFA;\n",
       "      box-shadow: 0px 1px 2px rgba(60, 64, 67, 0.3), 0px 1px 3px 1px rgba(60, 64, 67, 0.15);\n",
       "      fill: #174EA6;\n",
       "    }\n",
       "\n",
       "    [theme=dark] .colab-df-convert {\n",
       "      background-color: #3B4455;\n",
       "      fill: #D2E3FC;\n",
       "    }\n",
       "\n",
       "    [theme=dark] .colab-df-convert:hover {\n",
       "      background-color: #434B5C;\n",
       "      box-shadow: 0px 1px 3px 1px rgba(0, 0, 0, 0.15);\n",
       "      filter: drop-shadow(0px 1px 2px rgba(0, 0, 0, 0.3));\n",
       "      fill: #FFFFFF;\n",
       "    }\n",
       "  </style>\n",
       "\n",
       "      <script>\n",
       "        const buttonEl =\n",
       "          document.querySelector('#df-43da50c9-63a7-43b7-932f-c037e4bd11fe button.colab-df-convert');\n",
       "        buttonEl.style.display =\n",
       "          google.colab.kernel.accessAllowed ? 'block' : 'none';\n",
       "\n",
       "        async function convertToInteractive(key) {\n",
       "          const element = document.querySelector('#df-43da50c9-63a7-43b7-932f-c037e4bd11fe');\n",
       "          const dataTable =\n",
       "            await google.colab.kernel.invokeFunction('convertToInteractive',\n",
       "                                                     [key], {});\n",
       "          if (!dataTable) return;\n",
       "\n",
       "          const docLinkHtml = 'Like what you see? Visit the ' +\n",
       "            '<a target=\"_blank\" href=https://colab.research.google.com/notebooks/data_table.ipynb>data table notebook</a>'\n",
       "            + ' to learn more about interactive tables.';\n",
       "          element.innerHTML = '';\n",
       "          dataTable['output_type'] = 'display_data';\n",
       "          await google.colab.output.renderOutput(dataTable, element);\n",
       "          const docLink = document.createElement('div');\n",
       "          docLink.innerHTML = docLinkHtml;\n",
       "          element.appendChild(docLink);\n",
       "        }\n",
       "      </script>\n",
       "    </div>\n",
       "  </div>\n",
       "  "
      ],
      "text/plain": [
       "   Gender  Age  Weight  Orange  Grapes  Banana  Apple  Mango  Cherry  Height  \\\n",
       "0    Male   42      68       5       3       4      3      4       1   162.0   \n",
       "1  Female   39      63       4       4       4      4      5       4   145.0   \n",
       "2    Male   36      65       4       3       5      4      5       2   150.0   \n",
       "3    Male   21      60       4       4       4      4      4       4   174.0   \n",
       "4    Male   21     105       4       4       1      4      5       4   172.0   \n",
       "\n",
       "  Age_group  Score  \n",
       "0     elder     20  \n",
       "1     elder     25  \n",
       "2     elder     23  \n",
       "3     youth     24  \n",
       "4     youth     22  "
      ]
     },
     "execution_count": 85,
     "metadata": {},
     "output_type": "execute_result"
    }
   ],
   "source": [
    "df_score.head()"
   ]
  },
  {
   "cell_type": "code",
   "execution_count": null,
   "metadata": {
    "id": "GHDOBxLLoUI4"
   },
   "outputs": [],
   "source": [
    "## melting dataframe\n",
    "df_long1=pd.melt(df_class, id_vars=[\"Gender\",\"Age\",\"Weight\",\"Height\",\"Age_group\",\"Score\"], value_vars=[\"Orange\", \"Grapes\", \"Banana\",\"Apple\",\"Mango\",\"Cherry\"], var_name=\"Fruit\", value_name=\"Rating\", ignore_index=False)"
   ]
  },
  {
   "cell_type": "code",
   "execution_count": null,
   "metadata": {
    "colab": {
     "base_uri": "https://localhost:8080/",
     "height": 206
    },
    "id": "e98ZQlmPoT85",
    "outputId": "daa22f9c-c07c-409b-8c6f-7a5c0c147a80"
   },
   "outputs": [
    {
     "data": {
      "text/html": [
       "\n",
       "  <div id=\"df-3f5f4511-9c91-4fc2-8a49-475b0b71615a\">\n",
       "    <div class=\"colab-df-container\">\n",
       "      <div>\n",
       "<style scoped>\n",
       "    .dataframe tbody tr th:only-of-type {\n",
       "        vertical-align: middle;\n",
       "    }\n",
       "\n",
       "    .dataframe tbody tr th {\n",
       "        vertical-align: top;\n",
       "    }\n",
       "\n",
       "    .dataframe thead th {\n",
       "        text-align: right;\n",
       "    }\n",
       "</style>\n",
       "<table border=\"1\" class=\"dataframe\">\n",
       "  <thead>\n",
       "    <tr style=\"text-align: right;\">\n",
       "      <th></th>\n",
       "      <th>Gender</th>\n",
       "      <th>Age</th>\n",
       "      <th>Weight</th>\n",
       "      <th>Height</th>\n",
       "      <th>Age_group</th>\n",
       "      <th>Score</th>\n",
       "      <th>Fruit</th>\n",
       "      <th>Rating</th>\n",
       "    </tr>\n",
       "  </thead>\n",
       "  <tbody>\n",
       "    <tr>\n",
       "      <th>0</th>\n",
       "      <td>Male</td>\n",
       "      <td>42</td>\n",
       "      <td>68</td>\n",
       "      <td>162.0</td>\n",
       "      <td>elder</td>\n",
       "      <td>20</td>\n",
       "      <td>Orange</td>\n",
       "      <td>5</td>\n",
       "    </tr>\n",
       "    <tr>\n",
       "      <th>1</th>\n",
       "      <td>Female</td>\n",
       "      <td>39</td>\n",
       "      <td>63</td>\n",
       "      <td>145.0</td>\n",
       "      <td>elder</td>\n",
       "      <td>25</td>\n",
       "      <td>Orange</td>\n",
       "      <td>4</td>\n",
       "    </tr>\n",
       "    <tr>\n",
       "      <th>2</th>\n",
       "      <td>Male</td>\n",
       "      <td>36</td>\n",
       "      <td>65</td>\n",
       "      <td>150.0</td>\n",
       "      <td>elder</td>\n",
       "      <td>23</td>\n",
       "      <td>Orange</td>\n",
       "      <td>4</td>\n",
       "    </tr>\n",
       "    <tr>\n",
       "      <th>3</th>\n",
       "      <td>Male</td>\n",
       "      <td>21</td>\n",
       "      <td>60</td>\n",
       "      <td>174.0</td>\n",
       "      <td>youth</td>\n",
       "      <td>24</td>\n",
       "      <td>Orange</td>\n",
       "      <td>4</td>\n",
       "    </tr>\n",
       "    <tr>\n",
       "      <th>4</th>\n",
       "      <td>Male</td>\n",
       "      <td>21</td>\n",
       "      <td>105</td>\n",
       "      <td>172.0</td>\n",
       "      <td>youth</td>\n",
       "      <td>22</td>\n",
       "      <td>Orange</td>\n",
       "      <td>4</td>\n",
       "    </tr>\n",
       "  </tbody>\n",
       "</table>\n",
       "</div>\n",
       "      <button class=\"colab-df-convert\" onclick=\"convertToInteractive('df-3f5f4511-9c91-4fc2-8a49-475b0b71615a')\"\n",
       "              title=\"Convert this dataframe to an interactive table.\"\n",
       "              style=\"display:none;\">\n",
       "        \n",
       "  <svg xmlns=\"http://www.w3.org/2000/svg\" height=\"24px\"viewBox=\"0 0 24 24\"\n",
       "       width=\"24px\">\n",
       "    <path d=\"M0 0h24v24H0V0z\" fill=\"none\"/>\n",
       "    <path d=\"M18.56 5.44l.94 2.06.94-2.06 2.06-.94-2.06-.94-.94-2.06-.94 2.06-2.06.94zm-11 1L8.5 8.5l.94-2.06 2.06-.94-2.06-.94L8.5 2.5l-.94 2.06-2.06.94zm10 10l.94 2.06.94-2.06 2.06-.94-2.06-.94-.94-2.06-.94 2.06-2.06.94z\"/><path d=\"M17.41 7.96l-1.37-1.37c-.4-.4-.92-.59-1.43-.59-.52 0-1.04.2-1.43.59L10.3 9.45l-7.72 7.72c-.78.78-.78 2.05 0 2.83L4 21.41c.39.39.9.59 1.41.59.51 0 1.02-.2 1.41-.59l7.78-7.78 2.81-2.81c.8-.78.8-2.07 0-2.86zM5.41 20L4 18.59l7.72-7.72 1.47 1.35L5.41 20z\"/>\n",
       "  </svg>\n",
       "      </button>\n",
       "      \n",
       "  <style>\n",
       "    .colab-df-container {\n",
       "      display:flex;\n",
       "      flex-wrap:wrap;\n",
       "      gap: 12px;\n",
       "    }\n",
       "\n",
       "    .colab-df-convert {\n",
       "      background-color: #E8F0FE;\n",
       "      border: none;\n",
       "      border-radius: 50%;\n",
       "      cursor: pointer;\n",
       "      display: none;\n",
       "      fill: #1967D2;\n",
       "      height: 32px;\n",
       "      padding: 0 0 0 0;\n",
       "      width: 32px;\n",
       "    }\n",
       "\n",
       "    .colab-df-convert:hover {\n",
       "      background-color: #E2EBFA;\n",
       "      box-shadow: 0px 1px 2px rgba(60, 64, 67, 0.3), 0px 1px 3px 1px rgba(60, 64, 67, 0.15);\n",
       "      fill: #174EA6;\n",
       "    }\n",
       "\n",
       "    [theme=dark] .colab-df-convert {\n",
       "      background-color: #3B4455;\n",
       "      fill: #D2E3FC;\n",
       "    }\n",
       "\n",
       "    [theme=dark] .colab-df-convert:hover {\n",
       "      background-color: #434B5C;\n",
       "      box-shadow: 0px 1px 3px 1px rgba(0, 0, 0, 0.15);\n",
       "      filter: drop-shadow(0px 1px 2px rgba(0, 0, 0, 0.3));\n",
       "      fill: #FFFFFF;\n",
       "    }\n",
       "  </style>\n",
       "\n",
       "      <script>\n",
       "        const buttonEl =\n",
       "          document.querySelector('#df-3f5f4511-9c91-4fc2-8a49-475b0b71615a button.colab-df-convert');\n",
       "        buttonEl.style.display =\n",
       "          google.colab.kernel.accessAllowed ? 'block' : 'none';\n",
       "\n",
       "        async function convertToInteractive(key) {\n",
       "          const element = document.querySelector('#df-3f5f4511-9c91-4fc2-8a49-475b0b71615a');\n",
       "          const dataTable =\n",
       "            await google.colab.kernel.invokeFunction('convertToInteractive',\n",
       "                                                     [key], {});\n",
       "          if (!dataTable) return;\n",
       "\n",
       "          const docLinkHtml = 'Like what you see? Visit the ' +\n",
       "            '<a target=\"_blank\" href=https://colab.research.google.com/notebooks/data_table.ipynb>data table notebook</a>'\n",
       "            + ' to learn more about interactive tables.';\n",
       "          element.innerHTML = '';\n",
       "          dataTable['output_type'] = 'display_data';\n",
       "          await google.colab.output.renderOutput(dataTable, element);\n",
       "          const docLink = document.createElement('div');\n",
       "          docLink.innerHTML = docLinkHtml;\n",
       "          element.appendChild(docLink);\n",
       "        }\n",
       "      </script>\n",
       "    </div>\n",
       "  </div>\n",
       "  "
      ],
      "text/plain": [
       "   Gender  Age  Weight  Height Age_group  Score   Fruit  Rating\n",
       "0    Male   42      68   162.0     elder     20  Orange       5\n",
       "1  Female   39      63   145.0     elder     25  Orange       4\n",
       "2    Male   36      65   150.0     elder     23  Orange       4\n",
       "3    Male   21      60   174.0     youth     24  Orange       4\n",
       "4    Male   21     105   172.0     youth     22  Orange       4"
      ]
     },
     "execution_count": 88,
     "metadata": {},
     "output_type": "execute_result"
    }
   ],
   "source": [
    "df_long1.head()"
   ]
  },
  {
   "cell_type": "code",
   "execution_count": null,
   "metadata": {
    "colab": {
     "base_uri": "https://localhost:8080/",
     "height": 300
    },
    "id": "m9rWflvTrMEA",
    "outputId": "79dabde8-2a77-409a-8ec0-4245eb7de840"
   },
   "outputs": [
    {
     "data": {
      "text/html": [
       "\n",
       "  <div id=\"df-07c1251e-817b-4dfe-88ad-f7a4de2808f2\">\n",
       "    <div class=\"colab-df-container\">\n",
       "      <div>\n",
       "<style scoped>\n",
       "    .dataframe tbody tr th:only-of-type {\n",
       "        vertical-align: middle;\n",
       "    }\n",
       "\n",
       "    .dataframe tbody tr th {\n",
       "        vertical-align: top;\n",
       "    }\n",
       "\n",
       "    .dataframe thead th {\n",
       "        text-align: right;\n",
       "    }\n",
       "</style>\n",
       "<table border=\"1\" class=\"dataframe\">\n",
       "  <thead>\n",
       "    <tr style=\"text-align: right;\">\n",
       "      <th></th>\n",
       "      <th>Age</th>\n",
       "      <th>Weight</th>\n",
       "      <th>Height</th>\n",
       "      <th>Score</th>\n",
       "      <th>Rating</th>\n",
       "    </tr>\n",
       "  </thead>\n",
       "  <tbody>\n",
       "    <tr>\n",
       "      <th>count</th>\n",
       "      <td>828.000000</td>\n",
       "      <td>828.000000</td>\n",
       "      <td>828.000000</td>\n",
       "      <td>828.000000</td>\n",
       "      <td>828.000000</td>\n",
       "    </tr>\n",
       "    <tr>\n",
       "      <th>mean</th>\n",
       "      <td>21.297101</td>\n",
       "      <td>59.847826</td>\n",
       "      <td>161.049275</td>\n",
       "      <td>22.826087</td>\n",
       "      <td>3.804348</td>\n",
       "    </tr>\n",
       "    <tr>\n",
       "      <th>std</th>\n",
       "      <td>3.197057</td>\n",
       "      <td>14.924187</td>\n",
       "      <td>21.112544</td>\n",
       "      <td>3.627611</td>\n",
       "      <td>1.162860</td>\n",
       "    </tr>\n",
       "    <tr>\n",
       "      <th>min</th>\n",
       "      <td>19.000000</td>\n",
       "      <td>40.000000</td>\n",
       "      <td>5.700000</td>\n",
       "      <td>10.000000</td>\n",
       "      <td>1.000000</td>\n",
       "    </tr>\n",
       "    <tr>\n",
       "      <th>25%</th>\n",
       "      <td>20.000000</td>\n",
       "      <td>50.000000</td>\n",
       "      <td>155.000000</td>\n",
       "      <td>21.000000</td>\n",
       "      <td>3.000000</td>\n",
       "    </tr>\n",
       "    <tr>\n",
       "      <th>50%</th>\n",
       "      <td>21.000000</td>\n",
       "      <td>57.500000</td>\n",
       "      <td>163.000000</td>\n",
       "      <td>23.000000</td>\n",
       "      <td>4.000000</td>\n",
       "    </tr>\n",
       "    <tr>\n",
       "      <th>75%</th>\n",
       "      <td>21.000000</td>\n",
       "      <td>66.000000</td>\n",
       "      <td>171.000000</td>\n",
       "      <td>25.000000</td>\n",
       "      <td>5.000000</td>\n",
       "    </tr>\n",
       "    <tr>\n",
       "      <th>max</th>\n",
       "      <td>42.000000</td>\n",
       "      <td>153.000000</td>\n",
       "      <td>190.000000</td>\n",
       "      <td>30.000000</td>\n",
       "      <td>5.000000</td>\n",
       "    </tr>\n",
       "  </tbody>\n",
       "</table>\n",
       "</div>\n",
       "      <button class=\"colab-df-convert\" onclick=\"convertToInteractive('df-07c1251e-817b-4dfe-88ad-f7a4de2808f2')\"\n",
       "              title=\"Convert this dataframe to an interactive table.\"\n",
       "              style=\"display:none;\">\n",
       "        \n",
       "  <svg xmlns=\"http://www.w3.org/2000/svg\" height=\"24px\"viewBox=\"0 0 24 24\"\n",
       "       width=\"24px\">\n",
       "    <path d=\"M0 0h24v24H0V0z\" fill=\"none\"/>\n",
       "    <path d=\"M18.56 5.44l.94 2.06.94-2.06 2.06-.94-2.06-.94-.94-2.06-.94 2.06-2.06.94zm-11 1L8.5 8.5l.94-2.06 2.06-.94-2.06-.94L8.5 2.5l-.94 2.06-2.06.94zm10 10l.94 2.06.94-2.06 2.06-.94-2.06-.94-.94-2.06-.94 2.06-2.06.94z\"/><path d=\"M17.41 7.96l-1.37-1.37c-.4-.4-.92-.59-1.43-.59-.52 0-1.04.2-1.43.59L10.3 9.45l-7.72 7.72c-.78.78-.78 2.05 0 2.83L4 21.41c.39.39.9.59 1.41.59.51 0 1.02-.2 1.41-.59l7.78-7.78 2.81-2.81c.8-.78.8-2.07 0-2.86zM5.41 20L4 18.59l7.72-7.72 1.47 1.35L5.41 20z\"/>\n",
       "  </svg>\n",
       "      </button>\n",
       "      \n",
       "  <style>\n",
       "    .colab-df-container {\n",
       "      display:flex;\n",
       "      flex-wrap:wrap;\n",
       "      gap: 12px;\n",
       "    }\n",
       "\n",
       "    .colab-df-convert {\n",
       "      background-color: #E8F0FE;\n",
       "      border: none;\n",
       "      border-radius: 50%;\n",
       "      cursor: pointer;\n",
       "      display: none;\n",
       "      fill: #1967D2;\n",
       "      height: 32px;\n",
       "      padding: 0 0 0 0;\n",
       "      width: 32px;\n",
       "    }\n",
       "\n",
       "    .colab-df-convert:hover {\n",
       "      background-color: #E2EBFA;\n",
       "      box-shadow: 0px 1px 2px rgba(60, 64, 67, 0.3), 0px 1px 3px 1px rgba(60, 64, 67, 0.15);\n",
       "      fill: #174EA6;\n",
       "    }\n",
       "\n",
       "    [theme=dark] .colab-df-convert {\n",
       "      background-color: #3B4455;\n",
       "      fill: #D2E3FC;\n",
       "    }\n",
       "\n",
       "    [theme=dark] .colab-df-convert:hover {\n",
       "      background-color: #434B5C;\n",
       "      box-shadow: 0px 1px 3px 1px rgba(0, 0, 0, 0.15);\n",
       "      filter: drop-shadow(0px 1px 2px rgba(0, 0, 0, 0.3));\n",
       "      fill: #FFFFFF;\n",
       "    }\n",
       "  </style>\n",
       "\n",
       "      <script>\n",
       "        const buttonEl =\n",
       "          document.querySelector('#df-07c1251e-817b-4dfe-88ad-f7a4de2808f2 button.colab-df-convert');\n",
       "        buttonEl.style.display =\n",
       "          google.colab.kernel.accessAllowed ? 'block' : 'none';\n",
       "\n",
       "        async function convertToInteractive(key) {\n",
       "          const element = document.querySelector('#df-07c1251e-817b-4dfe-88ad-f7a4de2808f2');\n",
       "          const dataTable =\n",
       "            await google.colab.kernel.invokeFunction('convertToInteractive',\n",
       "                                                     [key], {});\n",
       "          if (!dataTable) return;\n",
       "\n",
       "          const docLinkHtml = 'Like what you see? Visit the ' +\n",
       "            '<a target=\"_blank\" href=https://colab.research.google.com/notebooks/data_table.ipynb>data table notebook</a>'\n",
       "            + ' to learn more about interactive tables.';\n",
       "          element.innerHTML = '';\n",
       "          dataTable['output_type'] = 'display_data';\n",
       "          await google.colab.output.renderOutput(dataTable, element);\n",
       "          const docLink = document.createElement('div');\n",
       "          docLink.innerHTML = docLinkHtml;\n",
       "          element.appendChild(docLink);\n",
       "        }\n",
       "      </script>\n",
       "    </div>\n",
       "  </div>\n",
       "  "
      ],
      "text/plain": [
       "              Age      Weight      Height       Score      Rating\n",
       "count  828.000000  828.000000  828.000000  828.000000  828.000000\n",
       "mean    21.297101   59.847826  161.049275   22.826087    3.804348\n",
       "std      3.197057   14.924187   21.112544    3.627611    1.162860\n",
       "min     19.000000   40.000000    5.700000   10.000000    1.000000\n",
       "25%     20.000000   50.000000  155.000000   21.000000    3.000000\n",
       "50%     21.000000   57.500000  163.000000   23.000000    4.000000\n",
       "75%     21.000000   66.000000  171.000000   25.000000    5.000000\n",
       "max     42.000000  153.000000  190.000000   30.000000    5.000000"
      ]
     },
     "execution_count": 97,
     "metadata": {},
     "output_type": "execute_result"
    }
   ],
   "source": [
    "df_long1.describe()"
   ]
  },
  {
   "cell_type": "code",
   "execution_count": null,
   "metadata": {
    "colab": {
     "base_uri": "https://localhost:8080/",
     "height": 115
    },
    "id": "dxWgus9ouVEE",
    "outputId": "455329ce-ae1e-4061-dc2d-bff12687385c"
   },
   "outputs": [
    {
     "name": "stdout",
     "output_type": "stream",
     "text": [
      "\n",
      "\n"
     ]
    },
    {
     "data": {
      "text/html": [
       "\n",
       "  <div id=\"df-ac142c97-331d-42d2-b59b-b079a5221d20\">\n",
       "    <div class=\"colab-df-container\">\n",
       "      <div>\n",
       "<style scoped>\n",
       "    .dataframe tbody tr th:only-of-type {\n",
       "        vertical-align: middle;\n",
       "    }\n",
       "\n",
       "    .dataframe tbody tr th {\n",
       "        vertical-align: top;\n",
       "    }\n",
       "\n",
       "    .dataframe thead th {\n",
       "        text-align: right;\n",
       "    }\n",
       "</style>\n",
       "<table border=\"1\" class=\"dataframe\">\n",
       "  <thead>\n",
       "    <tr style=\"text-align: right;\">\n",
       "      <th></th>\n",
       "      <th>Variable</th>\n",
       "      <th>N</th>\n",
       "      <th>Mean</th>\n",
       "      <th>SD</th>\n",
       "      <th>SE</th>\n",
       "      <th>95% Conf.</th>\n",
       "      <th>Interval</th>\n",
       "    </tr>\n",
       "  </thead>\n",
       "  <tbody>\n",
       "    <tr>\n",
       "      <th>0</th>\n",
       "      <td>Score</td>\n",
       "      <td>828.0</td>\n",
       "      <td>22.8261</td>\n",
       "      <td>3.6276</td>\n",
       "      <td>0.1261</td>\n",
       "      <td>22.5786</td>\n",
       "      <td>23.0735</td>\n",
       "    </tr>\n",
       "  </tbody>\n",
       "</table>\n",
       "</div>\n",
       "      <button class=\"colab-df-convert\" onclick=\"convertToInteractive('df-ac142c97-331d-42d2-b59b-b079a5221d20')\"\n",
       "              title=\"Convert this dataframe to an interactive table.\"\n",
       "              style=\"display:none;\">\n",
       "        \n",
       "  <svg xmlns=\"http://www.w3.org/2000/svg\" height=\"24px\"viewBox=\"0 0 24 24\"\n",
       "       width=\"24px\">\n",
       "    <path d=\"M0 0h24v24H0V0z\" fill=\"none\"/>\n",
       "    <path d=\"M18.56 5.44l.94 2.06.94-2.06 2.06-.94-2.06-.94-.94-2.06-.94 2.06-2.06.94zm-11 1L8.5 8.5l.94-2.06 2.06-.94-2.06-.94L8.5 2.5l-.94 2.06-2.06.94zm10 10l.94 2.06.94-2.06 2.06-.94-2.06-.94-.94-2.06-.94 2.06-2.06.94z\"/><path d=\"M17.41 7.96l-1.37-1.37c-.4-.4-.92-.59-1.43-.59-.52 0-1.04.2-1.43.59L10.3 9.45l-7.72 7.72c-.78.78-.78 2.05 0 2.83L4 21.41c.39.39.9.59 1.41.59.51 0 1.02-.2 1.41-.59l7.78-7.78 2.81-2.81c.8-.78.8-2.07 0-2.86zM5.41 20L4 18.59l7.72-7.72 1.47 1.35L5.41 20z\"/>\n",
       "  </svg>\n",
       "      </button>\n",
       "      \n",
       "  <style>\n",
       "    .colab-df-container {\n",
       "      display:flex;\n",
       "      flex-wrap:wrap;\n",
       "      gap: 12px;\n",
       "    }\n",
       "\n",
       "    .colab-df-convert {\n",
       "      background-color: #E8F0FE;\n",
       "      border: none;\n",
       "      border-radius: 50%;\n",
       "      cursor: pointer;\n",
       "      display: none;\n",
       "      fill: #1967D2;\n",
       "      height: 32px;\n",
       "      padding: 0 0 0 0;\n",
       "      width: 32px;\n",
       "    }\n",
       "\n",
       "    .colab-df-convert:hover {\n",
       "      background-color: #E2EBFA;\n",
       "      box-shadow: 0px 1px 2px rgba(60, 64, 67, 0.3), 0px 1px 3px 1px rgba(60, 64, 67, 0.15);\n",
       "      fill: #174EA6;\n",
       "    }\n",
       "\n",
       "    [theme=dark] .colab-df-convert {\n",
       "      background-color: #3B4455;\n",
       "      fill: #D2E3FC;\n",
       "    }\n",
       "\n",
       "    [theme=dark] .colab-df-convert:hover {\n",
       "      background-color: #434B5C;\n",
       "      box-shadow: 0px 1px 3px 1px rgba(0, 0, 0, 0.15);\n",
       "      filter: drop-shadow(0px 1px 2px rgba(0, 0, 0, 0.3));\n",
       "      fill: #FFFFFF;\n",
       "    }\n",
       "  </style>\n",
       "\n",
       "      <script>\n",
       "        const buttonEl =\n",
       "          document.querySelector('#df-ac142c97-331d-42d2-b59b-b079a5221d20 button.colab-df-convert');\n",
       "        buttonEl.style.display =\n",
       "          google.colab.kernel.accessAllowed ? 'block' : 'none';\n",
       "\n",
       "        async function convertToInteractive(key) {\n",
       "          const element = document.querySelector('#df-ac142c97-331d-42d2-b59b-b079a5221d20');\n",
       "          const dataTable =\n",
       "            await google.colab.kernel.invokeFunction('convertToInteractive',\n",
       "                                                     [key], {});\n",
       "          if (!dataTable) return;\n",
       "\n",
       "          const docLinkHtml = 'Like what you see? Visit the ' +\n",
       "            '<a target=\"_blank\" href=https://colab.research.google.com/notebooks/data_table.ipynb>data table notebook</a>'\n",
       "            + ' to learn more about interactive tables.';\n",
       "          element.innerHTML = '';\n",
       "          dataTable['output_type'] = 'display_data';\n",
       "          await google.colab.output.renderOutput(dataTable, element);\n",
       "          const docLink = document.createElement('div');\n",
       "          docLink.innerHTML = docLinkHtml;\n",
       "          element.appendChild(docLink);\n",
       "        }\n",
       "      </script>\n",
       "    </div>\n",
       "  </div>\n",
       "  "
      ],
      "text/plain": [
       "  Variable      N     Mean      SD      SE  95% Conf.  Interval\n",
       "0    Score  828.0  22.8261  3.6276  0.1261    22.5786   23.0735"
      ]
     },
     "execution_count": 105,
     "metadata": {},
     "output_type": "execute_result"
    }
   ],
   "source": [
    "rp.summary_cont(df_long1['Score'])\n"
   ]
  },
  {
   "cell_type": "code",
   "execution_count": null,
   "metadata": {
    "colab": {
     "base_uri": "https://localhost:8080/",
     "height": 178
    },
    "id": "1MH3ZYFYoIR4",
    "outputId": "b7c80f7e-5446-4e58-86d1-d1d61bb49a64"
   },
   "outputs": [
    {
     "name": "stdout",
     "output_type": "stream",
     "text": [
      "\n",
      "\n"
     ]
    },
    {
     "data": {
      "text/html": [
       "\n",
       "  <div id=\"df-719b3ee6-f218-4571-95b5-93e62c1af4d9\">\n",
       "    <div class=\"colab-df-container\">\n",
       "      <div>\n",
       "<style scoped>\n",
       "    .dataframe tbody tr th:only-of-type {\n",
       "        vertical-align: middle;\n",
       "    }\n",
       "\n",
       "    .dataframe tbody tr th {\n",
       "        vertical-align: top;\n",
       "    }\n",
       "\n",
       "    .dataframe thead th {\n",
       "        text-align: right;\n",
       "    }\n",
       "</style>\n",
       "<table border=\"1\" class=\"dataframe\">\n",
       "  <thead>\n",
       "    <tr style=\"text-align: right;\">\n",
       "      <th></th>\n",
       "      <th>N</th>\n",
       "      <th>Mean</th>\n",
       "      <th>SD</th>\n",
       "      <th>SE</th>\n",
       "      <th>95% Conf.</th>\n",
       "      <th>Interval</th>\n",
       "    </tr>\n",
       "    <tr>\n",
       "      <th>Gender</th>\n",
       "      <th></th>\n",
       "      <th></th>\n",
       "      <th></th>\n",
       "      <th></th>\n",
       "      <th></th>\n",
       "      <th></th>\n",
       "    </tr>\n",
       "  </thead>\n",
       "  <tbody>\n",
       "    <tr>\n",
       "      <th>Female</th>\n",
       "      <td>492</td>\n",
       "      <td>23.3049</td>\n",
       "      <td>3.4595</td>\n",
       "      <td>0.156</td>\n",
       "      <td>22.9984</td>\n",
       "      <td>23.6113</td>\n",
       "    </tr>\n",
       "    <tr>\n",
       "      <th>Male</th>\n",
       "      <td>336</td>\n",
       "      <td>22.1250</td>\n",
       "      <td>3.7571</td>\n",
       "      <td>0.205</td>\n",
       "      <td>21.7218</td>\n",
       "      <td>22.5282</td>\n",
       "    </tr>\n",
       "  </tbody>\n",
       "</table>\n",
       "</div>\n",
       "      <button class=\"colab-df-convert\" onclick=\"convertToInteractive('df-719b3ee6-f218-4571-95b5-93e62c1af4d9')\"\n",
       "              title=\"Convert this dataframe to an interactive table.\"\n",
       "              style=\"display:none;\">\n",
       "        \n",
       "  <svg xmlns=\"http://www.w3.org/2000/svg\" height=\"24px\"viewBox=\"0 0 24 24\"\n",
       "       width=\"24px\">\n",
       "    <path d=\"M0 0h24v24H0V0z\" fill=\"none\"/>\n",
       "    <path d=\"M18.56 5.44l.94 2.06.94-2.06 2.06-.94-2.06-.94-.94-2.06-.94 2.06-2.06.94zm-11 1L8.5 8.5l.94-2.06 2.06-.94-2.06-.94L8.5 2.5l-.94 2.06-2.06.94zm10 10l.94 2.06.94-2.06 2.06-.94-2.06-.94-.94-2.06-.94 2.06-2.06.94z\"/><path d=\"M17.41 7.96l-1.37-1.37c-.4-.4-.92-.59-1.43-.59-.52 0-1.04.2-1.43.59L10.3 9.45l-7.72 7.72c-.78.78-.78 2.05 0 2.83L4 21.41c.39.39.9.59 1.41.59.51 0 1.02-.2 1.41-.59l7.78-7.78 2.81-2.81c.8-.78.8-2.07 0-2.86zM5.41 20L4 18.59l7.72-7.72 1.47 1.35L5.41 20z\"/>\n",
       "  </svg>\n",
       "      </button>\n",
       "      \n",
       "  <style>\n",
       "    .colab-df-container {\n",
       "      display:flex;\n",
       "      flex-wrap:wrap;\n",
       "      gap: 12px;\n",
       "    }\n",
       "\n",
       "    .colab-df-convert {\n",
       "      background-color: #E8F0FE;\n",
       "      border: none;\n",
       "      border-radius: 50%;\n",
       "      cursor: pointer;\n",
       "      display: none;\n",
       "      fill: #1967D2;\n",
       "      height: 32px;\n",
       "      padding: 0 0 0 0;\n",
       "      width: 32px;\n",
       "    }\n",
       "\n",
       "    .colab-df-convert:hover {\n",
       "      background-color: #E2EBFA;\n",
       "      box-shadow: 0px 1px 2px rgba(60, 64, 67, 0.3), 0px 1px 3px 1px rgba(60, 64, 67, 0.15);\n",
       "      fill: #174EA6;\n",
       "    }\n",
       "\n",
       "    [theme=dark] .colab-df-convert {\n",
       "      background-color: #3B4455;\n",
       "      fill: #D2E3FC;\n",
       "    }\n",
       "\n",
       "    [theme=dark] .colab-df-convert:hover {\n",
       "      background-color: #434B5C;\n",
       "      box-shadow: 0px 1px 3px 1px rgba(0, 0, 0, 0.15);\n",
       "      filter: drop-shadow(0px 1px 2px rgba(0, 0, 0, 0.3));\n",
       "      fill: #FFFFFF;\n",
       "    }\n",
       "  </style>\n",
       "\n",
       "      <script>\n",
       "        const buttonEl =\n",
       "          document.querySelector('#df-719b3ee6-f218-4571-95b5-93e62c1af4d9 button.colab-df-convert');\n",
       "        buttonEl.style.display =\n",
       "          google.colab.kernel.accessAllowed ? 'block' : 'none';\n",
       "\n",
       "        async function convertToInteractive(key) {\n",
       "          const element = document.querySelector('#df-719b3ee6-f218-4571-95b5-93e62c1af4d9');\n",
       "          const dataTable =\n",
       "            await google.colab.kernel.invokeFunction('convertToInteractive',\n",
       "                                                     [key], {});\n",
       "          if (!dataTable) return;\n",
       "\n",
       "          const docLinkHtml = 'Like what you see? Visit the ' +\n",
       "            '<a target=\"_blank\" href=https://colab.research.google.com/notebooks/data_table.ipynb>data table notebook</a>'\n",
       "            + ' to learn more about interactive tables.';\n",
       "          element.innerHTML = '';\n",
       "          dataTable['output_type'] = 'display_data';\n",
       "          await google.colab.output.renderOutput(dataTable, element);\n",
       "          const docLink = document.createElement('div');\n",
       "          docLink.innerHTML = docLinkHtml;\n",
       "          element.appendChild(docLink);\n",
       "        }\n",
       "      </script>\n",
       "    </div>\n",
       "  </div>\n",
       "  "
      ],
      "text/plain": [
       "          N     Mean      SD     SE  95% Conf.  Interval\n",
       "Gender                                                  \n",
       "Female  492  23.3049  3.4595  0.156    22.9984   23.6113\n",
       "Male    336  22.1250  3.7571  0.205    21.7218   22.5282"
      ]
     },
     "execution_count": 104,
     "metadata": {},
     "output_type": "execute_result"
    }
   ],
   "source": [
    "## summary\n",
    "rp.summary_cont(df_long1['Score'].groupby(df_long1['Gender']))\n"
   ]
  },
  {
   "cell_type": "markdown",
   "metadata": {
    "id": "jZRhiTkpylTb"
   },
   "source": [
    "## Comparison of fruit rating score over gender using boxplot"
   ]
  },
  {
   "cell_type": "code",
   "execution_count": null,
   "metadata": {
    "colab": {
     "base_uri": "https://localhost:8080/",
     "height": 279
    },
    "id": "a534oNVmyrvX",
    "outputId": "725ea449-30c5-42eb-c133-7b2a48876d88"
   },
   "outputs": [
    {
     "data": {
      "image/png": "[encoded data removed]",
      "text/plain": [
       "<Figure size 432x288 with 1 Axes>"
      ]
     },
     "metadata": {
      "needs_background": "light"
     },
     "output_type": "display_data"
    }
   ],
   "source": [
    "import matplotlib.pyplot as plt\n",
    "import seaborn as sns\n",
    "ax = sns.boxplot(x='Gender', y='Score', data=df_long1, color='#99c2a2')\n",
    "ax = sns.stripplot(x=\"Gender\", y=\"Score\", data=df_long1, color='#7d0013')\n",
    "plt.show()"
   ]
  },
  {
   "cell_type": "markdown",
   "metadata": {
    "id": "7NnAPG4e1YcG"
   },
   "source": [
    "## Method-1 Using t-test\n",
    "Hypothesis are:\n",
    "\n",
    "$H_0$: There is no difference in the mean score over gender\n",
    "\n",
    "$H_1$: There is significant difference in the mean score over gender"
   ]
  },
  {
   "cell_type": "code",
   "execution_count": null,
   "metadata": {
    "colab": {
     "base_uri": "https://localhost:8080/"
    },
    "id": "aqBI0JKb1b7X",
    "outputId": "b1ec3a27-1416-4160-ed4f-6a5f45fe4343"
   },
   "outputs": [
    {
     "name": "stdout",
     "output_type": "stream",
     "text": [
      "   Variable      N       Mean        SD        SE  95% Conf.   Interval\n",
      "0      Male  336.0  22.125000  3.757083  0.204966  21.721818  22.528182\n",
      "1    Female  492.0  23.304878  3.459474  0.155965  22.998437  23.611319\n",
      "2  combined  828.0  22.826087  3.627611  0.126068  22.578636  23.073538\n"
     ]
    }
   ],
   "source": [
    "summary, results = rp.ttest(group1= df_long1['Score'][df_long1['Gender'] == 'Male'], group1_name= \"Male\",\n",
    "                            group2= df_long1['Score'][df_long1['Gender'] == 'Female'], group2_name= \"Female\")\n",
    "print(summary)"
   ]
  },
  {
   "cell_type": "code",
   "execution_count": null,
   "metadata": {
    "colab": {
     "base_uri": "https://localhost:8080/"
    },
    "id": "7blHnwWl2A3H",
    "outputId": "200d592f-0536-45c5-d4db-fb623a54b952"
   },
   "outputs": [
    {
     "name": "stdout",
     "output_type": "stream",
     "text": [
      "              Independent t-test   results\n",
      "0  Difference (Male - Female) =    -1.1799\n",
      "1          Degrees of freedom =   826.0000\n",
      "2                           t =    -4.6527\n",
      "3       Two side test p value =     0.0000\n",
      "4      Difference < 0 p value =     0.0000\n",
      "5      Difference > 0 p value =     1.0000\n",
      "6                   Cohen's d =    -0.3293\n",
      "7                   Hedge's g =    -0.3290\n",
      "8              Glass's delta1 =    -0.3140\n",
      "9            Point-Biserial r =    -0.1598\n"
     ]
    }
   ],
   "source": [
    "print(results)"
   ]
  },
  {
   "cell_type": "markdown",
   "metadata": {
    "id": "oxsZaKERud9r"
   },
   "source": [
    "## ONE-WAY ANOVA USING `scipy.stat`\n",
    "\n",
    "Conducting an one-way ANOVA using `scipy.stats` is quick and only returns the restuling F-statistic and p-value of the test."
   ]
  },
  {
   "cell_type": "code",
   "execution_count": null,
   "metadata": {
    "colab": {
     "base_uri": "https://localhost:8080/"
    },
    "id": "J_m5-zviuSTc",
    "outputId": "8f32c4af-d759-4c7c-86f1-ab3aabf12cf4"
   },
   "outputs": [
    {
     "data": {
      "text/plain": [
       "F_onewayResult(statistic=21.647956737502646, pvalue=3.8137791093441738e-06)"
      ]
     },
     "execution_count": 106,
     "metadata": {},
     "output_type": "execute_result"
    }
   ],
   "source": [
    "stats.f_oneway(df_long1['Score'][df_long1['Gender'] == 'Male'],\n",
    "               df_long1['Score'][df_long1['Gender'] == 'Female'])"
   ]
  },
  {
   "cell_type": "markdown",
   "metadata": {
    "id": "NBXHffHZu813"
   },
   "source": [
    ">**Interpretation:** Since p-value is less than 0.05, the null hypothesis that there is no significant difference in the fruit rating score over gender."
   ]
  },
  {
   "cell_type": "markdown",
   "metadata": {
    "id": "eMiV-4-ovJk8"
   },
   "source": [
    "## Using `statsmodels` library\n",
    "\n",
    "This method conducts a one-way ANOVA in two steps:\n",
    "\n",
    "- Fit the model using an estimation method,\n",
    "The default estimation method in most statistical software packages is ordinary least squares.\n",
    "- Pass fitted model into ANOVA method to produce ANOVA table"
   ]
  },
  {
   "cell_type": "code",
   "execution_count": null,
   "metadata": {
    "colab": {
     "base_uri": "https://localhost:8080/",
     "height": 112
    },
    "id": "edjD2TxhrjfN",
    "outputId": "8470e164-2104-4e8b-8eb6-88511c154820"
   },
   "outputs": [
    {
     "data": {
      "text/html": [
       "\n",
       "  <div id=\"df-76b30770-05d0-43d4-9926-67e353858d1a\">\n",
       "    <div class=\"colab-df-container\">\n",
       "      <div>\n",
       "<style scoped>\n",
       "    .dataframe tbody tr th:only-of-type {\n",
       "        vertical-align: middle;\n",
       "    }\n",
       "\n",
       "    .dataframe tbody tr th {\n",
       "        vertical-align: top;\n",
       "    }\n",
       "\n",
       "    .dataframe thead th {\n",
       "        text-align: right;\n",
       "    }\n",
       "</style>\n",
       "<table border=\"1\" class=\"dataframe\">\n",
       "  <thead>\n",
       "    <tr style=\"text-align: right;\">\n",
       "      <th></th>\n",
       "      <th>sum_sq</th>\n",
       "      <th>df</th>\n",
       "      <th>F</th>\n",
       "      <th>PR(&gt;F)</th>\n",
       "    </tr>\n",
       "  </thead>\n",
       "  <tbody>\n",
       "    <tr>\n",
       "      <th>C(Gender)</th>\n",
       "      <td>277.938229</td>\n",
       "      <td>1.0</td>\n",
       "      <td>21.647957</td>\n",
       "      <td>0.000004</td>\n",
       "    </tr>\n",
       "    <tr>\n",
       "      <th>Residual</th>\n",
       "      <td>10605.018293</td>\n",
       "      <td>826.0</td>\n",
       "      <td>NaN</td>\n",
       "      <td>NaN</td>\n",
       "    </tr>\n",
       "  </tbody>\n",
       "</table>\n",
       "</div>\n",
       "      <button class=\"colab-df-convert\" onclick=\"convertToInteractive('df-76b30770-05d0-43d4-9926-67e353858d1a')\"\n",
       "              title=\"Convert this dataframe to an interactive table.\"\n",
       "              style=\"display:none;\">\n",
       "        \n",
       "  <svg xmlns=\"http://www.w3.org/2000/svg\" height=\"24px\"viewBox=\"0 0 24 24\"\n",
       "       width=\"24px\">\n",
       "    <path d=\"M0 0h24v24H0V0z\" fill=\"none\"/>\n",
       "    <path d=\"M18.56 5.44l.94 2.06.94-2.06 2.06-.94-2.06-.94-.94-2.06-.94 2.06-2.06.94zm-11 1L8.5 8.5l.94-2.06 2.06-.94-2.06-.94L8.5 2.5l-.94 2.06-2.06.94zm10 10l.94 2.06.94-2.06 2.06-.94-2.06-.94-.94-2.06-.94 2.06-2.06.94z\"/><path d=\"M17.41 7.96l-1.37-1.37c-.4-.4-.92-.59-1.43-.59-.52 0-1.04.2-1.43.59L10.3 9.45l-7.72 7.72c-.78.78-.78 2.05 0 2.83L4 21.41c.39.39.9.59 1.41.59.51 0 1.02-.2 1.41-.59l7.78-7.78 2.81-2.81c.8-.78.8-2.07 0-2.86zM5.41 20L4 18.59l7.72-7.72 1.47 1.35L5.41 20z\"/>\n",
       "  </svg>\n",
       "      </button>\n",
       "      \n",
       "  <style>\n",
       "    .colab-df-container {\n",
       "      display:flex;\n",
       "      flex-wrap:wrap;\n",
       "      gap: 12px;\n",
       "    }\n",
       "\n",
       "    .colab-df-convert {\n",
       "      background-color: #E8F0FE;\n",
       "      border: none;\n",
       "      border-radius: 50%;\n",
       "      cursor: pointer;\n",
       "      display: none;\n",
       "      fill: #1967D2;\n",
       "      height: 32px;\n",
       "      padding: 0 0 0 0;\n",
       "      width: 32px;\n",
       "    }\n",
       "\n",
       "    .colab-df-convert:hover {\n",
       "      background-color: #E2EBFA;\n",
       "      box-shadow: 0px 1px 2px rgba(60, 64, 67, 0.3), 0px 1px 3px 1px rgba(60, 64, 67, 0.15);\n",
       "      fill: #174EA6;\n",
       "    }\n",
       "\n",
       "    [theme=dark] .colab-df-convert {\n",
       "      background-color: #3B4455;\n",
       "      fill: #D2E3FC;\n",
       "    }\n",
       "\n",
       "    [theme=dark] .colab-df-convert:hover {\n",
       "      background-color: #434B5C;\n",
       "      box-shadow: 0px 1px 3px 1px rgba(0, 0, 0, 0.15);\n",
       "      filter: drop-shadow(0px 1px 2px rgba(0, 0, 0, 0.3));\n",
       "      fill: #FFFFFF;\n",
       "    }\n",
       "  </style>\n",
       "\n",
       "      <script>\n",
       "        const buttonEl =\n",
       "          document.querySelector('#df-76b30770-05d0-43d4-9926-67e353858d1a button.colab-df-convert');\n",
       "        buttonEl.style.display =\n",
       "          google.colab.kernel.accessAllowed ? 'block' : 'none';\n",
       "\n",
       "        async function convertToInteractive(key) {\n",
       "          const element = document.querySelector('#df-76b30770-05d0-43d4-9926-67e353858d1a');\n",
       "          const dataTable =\n",
       "            await google.colab.kernel.invokeFunction('convertToInteractive',\n",
       "                                                     [key], {});\n",
       "          if (!dataTable) return;\n",
       "\n",
       "          const docLinkHtml = 'Like what you see? Visit the ' +\n",
       "            '<a target=\"_blank\" href=https://colab.research.google.com/notebooks/data_table.ipynb>data table notebook</a>'\n",
       "            + ' to learn more about interactive tables.';\n",
       "          element.innerHTML = '';\n",
       "          dataTable['output_type'] = 'display_data';\n",
       "          await google.colab.output.renderOutput(dataTable, element);\n",
       "          const docLink = document.createElement('div');\n",
       "          docLink.innerHTML = docLinkHtml;\n",
       "          element.appendChild(docLink);\n",
       "        }\n",
       "      </script>\n",
       "    </div>\n",
       "  </div>\n",
       "  "
      ],
      "text/plain": [
       "                 sum_sq     df          F    PR(>F)\n",
       "C(Gender)    277.938229    1.0  21.647957  0.000004\n",
       "Residual   10605.018293  826.0        NaN       NaN"
      ]
     },
     "execution_count": 107,
     "metadata": {},
     "output_type": "execute_result"
    }
   ],
   "source": [
    "from statsmodels.formula.api import ols\n",
    "\n",
    "model = ols('Score ~ C(Gender)', data=df_long1).fit()\n",
    "aov_table = sm.stats.anova_lm(model, typ=2)\n",
    "aov_table"
   ]
  },
  {
   "cell_type": "markdown",
   "metadata": {
    "id": "eiN_CS5EwM_P"
   },
   "source": [
    "This table provides all the information one needs in order to interprete if the results are significant; however, it does not provide any effect size measures to tell if the statistical significance is meaningful. The function below calculates eta-squared ($\\eta^2$) and omega-squared ($\\omega^2$). A quick note, $\\eta^2$  is the exact same thing as $R^2$ except when coming from the ANOVA framework people call it $eta^2$; $\\omega^2$ is considered a better measure of effect size since it is unbiased in it's calculation by accounting for the degrees of freedom in the model.\n"
   ]
  },
  {
   "cell_type": "code",
   "execution_count": null,
   "metadata": {
    "colab": {
     "base_uri": "https://localhost:8080/",
     "height": 112
    },
    "id": "5R0EXk31wrg1",
    "outputId": "392d9b8c-6225-4dd3-b0c3-95e54f9148a9"
   },
   "outputs": [
    {
     "data": {
      "text/html": [
       "\n",
       "  <div id=\"df-d48fb9d9-ffdf-4ae0-a62e-12ca2900b8dc\">\n",
       "    <div class=\"colab-df-container\">\n",
       "      <div>\n",
       "<style scoped>\n",
       "    .dataframe tbody tr th:only-of-type {\n",
       "        vertical-align: middle;\n",
       "    }\n",
       "\n",
       "    .dataframe tbody tr th {\n",
       "        vertical-align: top;\n",
       "    }\n",
       "\n",
       "    .dataframe thead th {\n",
       "        text-align: right;\n",
       "    }\n",
       "</style>\n",
       "<table border=\"1\" class=\"dataframe\">\n",
       "  <thead>\n",
       "    <tr style=\"text-align: right;\">\n",
       "      <th></th>\n",
       "      <th>sum_sq</th>\n",
       "      <th>df</th>\n",
       "      <th>mean_sq</th>\n",
       "      <th>F</th>\n",
       "      <th>PR(&gt;F)</th>\n",
       "      <th>eta_sq</th>\n",
       "      <th>omega_sq</th>\n",
       "    </tr>\n",
       "  </thead>\n",
       "  <tbody>\n",
       "    <tr>\n",
       "      <th>C(Gender)</th>\n",
       "      <td>277.938229</td>\n",
       "      <td>1.0</td>\n",
       "      <td>277.938229</td>\n",
       "      <td>21.647957</td>\n",
       "      <td>0.000004</td>\n",
       "      <td>0.025539</td>\n",
       "      <td>0.02433</td>\n",
       "    </tr>\n",
       "    <tr>\n",
       "      <th>Residual</th>\n",
       "      <td>10605.018293</td>\n",
       "      <td>826.0</td>\n",
       "      <td>12.839005</td>\n",
       "      <td>NaN</td>\n",
       "      <td>NaN</td>\n",
       "      <td>NaN</td>\n",
       "      <td>NaN</td>\n",
       "    </tr>\n",
       "  </tbody>\n",
       "</table>\n",
       "</div>\n",
       "      <button class=\"colab-df-convert\" onclick=\"convertToInteractive('df-d48fb9d9-ffdf-4ae0-a62e-12ca2900b8dc')\"\n",
       "              title=\"Convert this dataframe to an interactive table.\"\n",
       "              style=\"display:none;\">\n",
       "        \n",
       "  <svg xmlns=\"http://www.w3.org/2000/svg\" height=\"24px\"viewBox=\"0 0 24 24\"\n",
       "       width=\"24px\">\n",
       "    <path d=\"M0 0h24v24H0V0z\" fill=\"none\"/>\n",
       "    <path d=\"M18.56 5.44l.94 2.06.94-2.06 2.06-.94-2.06-.94-.94-2.06-.94 2.06-2.06.94zm-11 1L8.5 8.5l.94-2.06 2.06-.94-2.06-.94L8.5 2.5l-.94 2.06-2.06.94zm10 10l.94 2.06.94-2.06 2.06-.94-2.06-.94-.94-2.06-.94 2.06-2.06.94z\"/><path d=\"M17.41 7.96l-1.37-1.37c-.4-.4-.92-.59-1.43-.59-.52 0-1.04.2-1.43.59L10.3 9.45l-7.72 7.72c-.78.78-.78 2.05 0 2.83L4 21.41c.39.39.9.59 1.41.59.51 0 1.02-.2 1.41-.59l7.78-7.78 2.81-2.81c.8-.78.8-2.07 0-2.86zM5.41 20L4 18.59l7.72-7.72 1.47 1.35L5.41 20z\"/>\n",
       "  </svg>\n",
       "      </button>\n",
       "      \n",
       "  <style>\n",
       "    .colab-df-container {\n",
       "      display:flex;\n",
       "      flex-wrap:wrap;\n",
       "      gap: 12px;\n",
       "    }\n",
       "\n",
       "    .colab-df-convert {\n",
       "      background-color: #E8F0FE;\n",
       "      border: none;\n",
       "      border-radius: 50%;\n",
       "      cursor: pointer;\n",
       "      display: none;\n",
       "      fill: #1967D2;\n",
       "      height: 32px;\n",
       "      padding: 0 0 0 0;\n",
       "      width: 32px;\n",
       "    }\n",
       "\n",
       "    .colab-df-convert:hover {\n",
       "      background-color: #E2EBFA;\n",
       "      box-shadow: 0px 1px 2px rgba(60, 64, 67, 0.3), 0px 1px 3px 1px rgba(60, 64, 67, 0.15);\n",
       "      fill: #174EA6;\n",
       "    }\n",
       "\n",
       "    [theme=dark] .colab-df-convert {\n",
       "      background-color: #3B4455;\n",
       "      fill: #D2E3FC;\n",
       "    }\n",
       "\n",
       "    [theme=dark] .colab-df-convert:hover {\n",
       "      background-color: #434B5C;\n",
       "      box-shadow: 0px 1px 3px 1px rgba(0, 0, 0, 0.15);\n",
       "      filter: drop-shadow(0px 1px 2px rgba(0, 0, 0, 0.3));\n",
       "      fill: #FFFFFF;\n",
       "    }\n",
       "  </style>\n",
       "\n",
       "      <script>\n",
       "        const buttonEl =\n",
       "          document.querySelector('#df-d48fb9d9-ffdf-4ae0-a62e-12ca2900b8dc button.colab-df-convert');\n",
       "        buttonEl.style.display =\n",
       "          google.colab.kernel.accessAllowed ? 'block' : 'none';\n",
       "\n",
       "        async function convertToInteractive(key) {\n",
       "          const element = document.querySelector('#df-d48fb9d9-ffdf-4ae0-a62e-12ca2900b8dc');\n",
       "          const dataTable =\n",
       "            await google.colab.kernel.invokeFunction('convertToInteractive',\n",
       "                                                     [key], {});\n",
       "          if (!dataTable) return;\n",
       "\n",
       "          const docLinkHtml = 'Like what you see? Visit the ' +\n",
       "            '<a target=\"_blank\" href=https://colab.research.google.com/notebooks/data_table.ipynb>data table notebook</a>'\n",
       "            + ' to learn more about interactive tables.';\n",
       "          element.innerHTML = '';\n",
       "          dataTable['output_type'] = 'display_data';\n",
       "          await google.colab.output.renderOutput(dataTable, element);\n",
       "          const docLink = document.createElement('div');\n",
       "          docLink.innerHTML = docLinkHtml;\n",
       "          element.appendChild(docLink);\n",
       "        }\n",
       "      </script>\n",
       "    </div>\n",
       "  </div>\n",
       "  "
      ],
      "text/plain": [
       "                 sum_sq     df     mean_sq          F    PR(>F)    eta_sq  \\\n",
       "C(Gender)    277.938229    1.0  277.938229  21.647957  0.000004  0.025539   \n",
       "Residual   10605.018293  826.0   12.839005        NaN       NaN       NaN   \n",
       "\n",
       "           omega_sq  \n",
       "C(Gender)   0.02433  \n",
       "Residual        NaN  "
      ]
     },
     "execution_count": 108,
     "metadata": {},
     "output_type": "execute_result"
    }
   ],
   "source": [
    "\"\"\"\n",
    "The function below was created specifically for the one-way ANOVA table results returned for Type II sum of squares\n",
    "\"\"\"\n",
    "\n",
    "def anova_table(aov):\n",
    "    aov['mean_sq'] = aov[:]['sum_sq']/aov[:]['df']\n",
    "\n",
    "    aov['eta_sq'] = aov[:-1]['sum_sq']/sum(aov['sum_sq'])\n",
    "\n",
    "    aov['omega_sq'] = (aov[:-1]['sum_sq']-(aov[:-1]['df']*aov['mean_sq'][-1]))/(sum(aov['sum_sq'])+aov['mean_sq'][-1])\n",
    "\n",
    "    cols = ['sum_sq', 'df', 'mean_sq', 'F', 'PR(>F)', 'eta_sq', 'omega_sq']\n",
    "    aov = aov[cols]\n",
    "    return aov\n",
    "\n",
    "anova_table(aov_table)"
   ]
  },
  {
   "cell_type": "markdown",
   "metadata": {
    "id": "gPVhADTTw_ws"
   },
   "source": [
    ">**Interpretation:** There is a statistically significant difference between the groups and their effects the libido, F= 21.64, p-value= 0.0, with an overall small effect, $\\omega^2$ = 0.024.\n",
    "\n",
    "In order to tell which groups differed significantly, post-hoc tests need to be conducted. Before one goes through that work, the assumptions should be checked first in case any modifications need to be made to the model."
   ]
  },
  {
   "cell_type": "code",
   "execution_count": null,
   "metadata": {
    "colab": {
     "base_uri": "https://localhost:8080/"
    },
    "id": "AHabj-s9xYTm",
    "outputId": "a1d4228a-b8ca-4b4f-a592-e0549120f050"
   },
   "outputs": [
    {
     "data": {
      "text/plain": [
       "ShapiroResult(statistic=0.9580403566360474, pvalue=1.201532583416107e-14)"
      ]
     },
     "execution_count": 109,
     "metadata": {},
     "output_type": "execute_result"
    }
   ],
   "source": [
    "## normality of residuals\n",
    "stats.shapiro(model.resid)"
   ]
  },
  {
   "cell_type": "code",
   "execution_count": null,
   "metadata": {
    "colab": {
     "base_uri": "https://localhost:8080/",
     "height": 627
    },
    "id": "o6K9mTggxmpA",
    "outputId": "ab5fef67-71f0-4593-b8b5-9754b9c5b6f7"
   },
   "outputs": [
    {
     "data": {
      "image/png": "[encoded data removed]",
      "text/plain": [
       "<Figure size 720x720 with 1 Axes>"
      ]
     },
     "metadata": {
      "needs_background": "light"
     },
     "output_type": "display_data"
    }
   ],
   "source": [
    "## visualization\n",
    "\n",
    "fig = plt.figure(figsize= (10, 10))\n",
    "ax = fig.add_subplot(111)\n",
    "\n",
    "normality_plot, stat = stats.probplot(model.resid, plot= plt, rvalue= True)\n",
    "ax.set_title(\"Probability plot of model residual's\", fontsize= 20)\n",
    "ax.set\n",
    "\n",
    "plt.show()"
   ]
  },
  {
   "cell_type": "markdown",
   "metadata": {
    "id": "JtFqzcjYyQXc"
   },
   "source": [
    ">**Conclusion**\n",
    "\n",
    "Even though the ANOVA test subtstantiate the reasoning that the gender wise difference in the fruit rating score is statistically significant, the sufficiant conditions are not satisfied. So a non-parametric ANOVA is strongly recommended. But the $\\chi^2$ test established the same result with  sufficiency condition checks."
   ]
  }
 ],
 "metadata": {
  "colab": {
   "provenance": []
  },
  "kernelspec": {
   "display_name": "Python 3 (Intel® oneAPI 2023.2)",
   "language": "python",
   "name": "c009-intel_distribution_of_python_3_oneapi-beta05-python"
  },
  "language_info": {
   "codemirror_mode": {
    "name": "ipython",
    "version": 3
   },
   "file_extension": ".py",
   "mimetype": "text/x-python",
   "name": "python",
   "nbconvert_exporter": "python",
   "pygments_lexer": "ipython3",
   "version": "3.9.16"
  }
 },
 "nbformat": 4,
 "nbformat_minor": 4
}
